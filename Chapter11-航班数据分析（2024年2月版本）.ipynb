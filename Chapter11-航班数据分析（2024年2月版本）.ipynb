{
 "cells": [
  {
   "cell_type": "markdown",
   "id": "1b7cb8c9",
   "metadata": {},
   "source": [
    "# <center>航班数据分析</center>"
   ]
  },
  {
   "cell_type": "markdown",
   "id": "13c4978f",
   "metadata": {},
   "source": [
    " ### 本章利用NetworkX库分析航班数据。在多个机场中寻找合适的机场作为货物的转运站"
   ]
  },
  {
   "cell_type": "markdown",
   "id": "15f96787",
   "metadata": {},
   "source": [
    "#  11.1  需求介绍\n",
    "现有一组来源于网络的航空数据，是关于航线上各个城市间的航班基本信息，如某段旅程的起始点和目的地，还有一些表示每段旅程的到达和起飞时间。现假设有以下几个问题需要处理。  \n",
    "（1）从A到B的最短途径是什么？分别从距离和时间角度考虑。  \n",
    "（2）有没有办法从C到D？  \n",
    "（3）哪些机场的交通最繁忙？  \n",
    "（4）哪个机场位于大多数其他航线“之间”？以便成为其他航线的中转站。  \n",
    "这里的ABCD分别表示某4个机场的名称。  \n"
   ]
  },
  {
   "cell_type": "markdown",
   "id": "76acb220",
   "metadata": {},
   "source": [
    "# 11.2 预备知识"
   ]
  },
  {
   "cell_type": "markdown",
   "id": "bb579861",
   "metadata": {},
   "source": [
    "## 1.图论简介"
   ]
  },
  {
   "cell_type": "markdown",
   "id": "696e0780",
   "metadata": {},
   "source": [
    "&ensp;&ensp;图论主要用于研究和模拟社交网络、欺诈模式、社交媒体的病毒性和影响力，社交网络分析(Social Network Analysis，SNA)可能是图论在数据科学中著名的应用，它也可用于聚类算法，特别是k-means(K均值聚类)，系统动力学也使用一些图论。  \n",
    "为了后续进一步研究的方便，我们需要熟悉以下术语。  \n",
    "\n",
    "&ensp;&ensp;顶点u和v称为边(u,v)的末端顶点。如果两条边具有相同的末端顶点，则它们是平行的。具有共同顶点的边是相邻的。结点v的度，写作d(v)，是指以v作为末端顶点的边数。  \n",
    "\n",
    "&ensp;&ensp;平均路径长度是所有可能结点对应的最短路径长度的均值，给出了图的“紧密度”度量，可用于了解此网络中某些内容的流动速度。  \n",
    "\n",
    "&ensp;&ensp;广度优先搜索和深度优先搜索是用于在图中搜索结点的两种不同算法。它们通常用于确定我们是否可以从给定结点到达某个结点，也称为图遍历。\n",
    "\n",
    "&ensp;&ensp;中心性旨在寻找网络中最重要的结点。由于对重要性的不同理解，对中心性的度量标准也不-样。常用的中心性有以下3个。  "
   ]
  },
  {
   "cell_type": "markdown",
   "id": "859e52af",
   "metadata": {},
   "source": [
    "### (1)度中心性(Degree Centrality)"
   ]
  },
  {
   "cell_type": "markdown",
   "id": "d0947b80",
   "metadata": {},
   "source": [
    "例如，我有 20个好友，那么意味着有 20个结点与我相连，如果你有50个好友,那么意味着你的点度中心度比我高，社交圈子比我广。这就是点度中心性的概念。"
   ]
  },
  {
   "cell_type": "markdown",
   "id": "3b68ace7",
   "metadata": {},
   "source": [
    "通过结点的度表示结点在图中的重要性，默认情况下会进行归一化，其值表达为结点度)以η-1(其中„-1就是归一化使用的常量)。由于可能存在循环，因此该值可能大于1。如果一个与其他许多点直接相连，就意味着该点具有较高的中心度，居于中心地位。一个结点的度越大，就意味着这个结点的度中心性越高，该结点在网络中就越重要。"
   ]
  },
  {
   "cell_type": "markdown",
   "id": "44aa0722",
   "metadata": {},
   "source": [
    "### (2)紧密中心性(Closeness Centrality)。"
   ]
  },
  {
   "cell_type": "markdown",
   "id": "25b40049",
   "metadata": {},
   "source": [
    "例如，要建一个大型的娱乐商场(或者仓库的核心中转站),希望周围的顾客到达这个商场(中转站)的距离都尽可能短。这个就涉及紧密中心性或接近中心性的概念，接近中心性的值为路径k\n"
   ]
  },
  {
   "cell_type": "markdown",
   "id": "ba717306",
   "metadata": {},
   "source": [
    "接近中心性需要考量每个结点到其他结点的最短路径的平均长度。也就是说，对于一个结点而度的倒数。言，它距离其他结点越近，那么它的中心度越高。一般来说，那种需要让尽可能多的人使用的设施它的接近中心度是比较高的。\n"
   ]
  },
  {
   "cell_type": "markdown",
   "id": "25f8fe2f",
   "metadata": {},
   "source": [
    "紧密中心度也叫结点距离中心系数。通过距离来表示结点在图中的重要性，一般是指结点到期他结点的平均路径的倒数。该值越大表示结点到其他结点的距离越近，即中心性越高。如果一个与网络中所有其他点的距离都很短，则称该点具有较高的整体中心度，又叫作接近中心度。对于个结点，它距离其他结点越近，那么它的接近中心性越大。"
   ]
  },
  {
   "cell_type": "markdown",
   "id": "b1b29f09",
   "metadata": {},
   "source": [
    "### (3)介数中心性(Betweenness Centrality)"
   ]
  },
  {
   "cell_type": "markdown",
   "id": "e1673f63",
   "metadata": {},
   "source": [
    "类似于我们身边的社交达人，我们认识的不少朋友可能都是通过他/她认识的，这个人起到了中介的作用。介数中心性是指所有最短路径中经过该结点的路径数目占最短路径总数的比率。例如，经过点Y并且连接两点的短程线占这两点之间的短程线总数之比。计算图中结点的介数中心性分为两种情况:有权图上的介数中心性和无权图上的介数中心性。\n",
    "\n",
    "两者的区别在于求最短路径时使用的方法不同，  \n",
    "无权图采用 BFS(Breadth FirstSearch,广度优先搜索)求最短路径，  \n",
    "有权图采用 Djkstr(迪杰斯特拉)算法求最短路径。  \n",
    "\n",
    "在无向图中，该值为通过该结点的最短路径数除以(n-1)(n-2)/2;在有向图中，该值为通过该结点的最短路径数除以(n-1)(n-2)。介性中心度较高，说明其他点之间的最短路径很多，甚至全部都必须经过它中转。假如这个点消失了，那么其他点之间的交流会变得困难，甚至可能断开。"
   ]
  },
  {
   "cell_type": "markdown",
   "id": "8a23ae8e",
   "metadata": {},
   "source": [
    "还有一个比较有用的概念，即图的密度(Densiy)。假设由A、B、C这3个用户组成的关注网络，其中唯一的边是A->B,那么这个网络是否紧密?我们可以这样思考,3个人之间最多可以有6条边，那么我们可以用1除以6来表示这个网络的紧密程度。如果6条边都存在，那么紧密程度是1;若6条边都不存在，则为0。这就是所谓图的密度。"
   ]
  },
  {
   "cell_type": "markdown",
   "id": "6014b40e",
   "metadata": {},
   "source": [
    "## 2.networkx库与图的基本操作\n",
    "\n",
    "Networkx可创建简单无向图、有向图和多重图（Multigraph），结点可为任意数据，支持任意的边值维度，功能丰富，简单易用。在上一章数据可视化中已经对其用法做了介绍。对于图有如下操作，先导入库。\n"
   ]
  },
  {
   "cell_type": "code",
   "execution_count": 1,
   "id": "4adf259b",
   "metadata": {},
   "outputs": [],
   "source": [
    "import networkx as nx\n",
    "import matplotlib.pyplot as plt"
   ]
  },
  {
   "cell_type": "markdown",
   "id": "8c2bdada",
   "metadata": {},
   "source": [
    "<pre>\n",
    "（1）图的基本操作。\n",
    "G = nx.Graph()         #建立一个空的无向图G\n",
    "G.add_node(1)    #添加一个结点1，只能增加一个结点。结点可以用数字或字符表示\n",
    "G.add_nodes_from([3,4,5,6])    #增加多个结点\n",
    "G.add_edge(2,3)              #添加一条边2-3（隐含着添加了两个结点2、3）\n",
    "G.add_edge(3,2)              #对于无向图，边3-2与边2-3被认为是一条边\n",
    "\n",
    "G.nodes()                    #输出全部的结点\n",
    "G.edges()                    #输出全部的边\n",
    "G.number_of_edges()          #输出边的数量\n",
    "len(G)                #返回G中结点数目\n",
    "nx.degree(G)         #计算图的各个结点的度\n",
    "\n",
    "nx.draw_networkx(G, with_labels=True) #画出带有刻度标尺及结点标签\n",
    "nx.draw(G, with_labels=True)    #画出带有结点标签\n",
    "pos=nx.spring_layout(G)  #生成结点位置  \n",
    "nx.draw_networkx_nodes(G,pos,node_color='g',node_size=500,alpha=0.8) #画出结点\n",
    "nx.draw_networkx_edges(G,pos,width=1.0,alpha=0.5,edge_color='b')  #把边画出来\n",
    "\n",
    "labels={5:'5',1:'1',2:'2',3:'3',4:'4',6:'6'}\n",
    "nx.draw_networkx_labels(G,pos,labels,font_size=16)  #把结点的标签画出来\n",
    "\n",
    "edge_labels = nx.get_edge_attributes(G,'weight')\n",
    "nx.draw_networkx_edge_labels(G, pos, edge_labels)  #把边权重画出来\n",
    "plt.savefig(\"wuxiangtu.png\")     #保存图\n",
    "有向图和无向图之间的转化。 \n",
    "Graph.to_undirected()     #有向图和无向图互相转换\n",
    "Graph.to_directed()       #无向图和有向图互相转换\n",
    "\n",
    "G.add_weighted_edges_from([(3, 4, 3.5),(3, 5, 7.0)])  #加权图\n",
    "G.get_edge_data(2, 3)          #获取2-3边的权\n",
    "\n",
    "sub_graph = G.subgraph([1, 3,4])  #子图\n",
    "（2）加权图。\n",
    "有向图和无向图都可以给边赋予权重，用到的方法是add_weighted_edges_from，它接受1个或多个三元组[u,v,w]作为参数，其中u是起点，v是终点，w是权重，如下所示。\n",
    "G.add_weighted_edges_from([(3, 4, 3.5),(3, 5, 7.0)]) #3到4的权重为3.5，3到7的权重为7.0\n",
    "（3）图论经典算法。\n",
    "<code>"
   ]
  },
  {
   "cell_type": "markdown",
   "id": "1b4a68db",
   "metadata": {},
   "source": [
    "计算1：求无向图的任意两点间的最短路径。"
   ]
  },
  {
   "cell_type": "code",
   "execution_count": 2,
   "id": "f949d71e",
   "metadata": {},
   "outputs": [
    {
     "name": "stdout",
     "output_type": "stream",
     "text": [
      "(1, {1: [1], 2: [1, 2], 3: [1, 3], 4: [1, 4], 5: [1, 5], 6: [1, 4, 6]})\n",
      "(2, {2: [2], 1: [2, 1], 3: [2, 1, 3], 4: [2, 1, 4], 5: [2, 1, 5], 6: [2, 1, 4, 6]})\n",
      "(3, {3: [3], 1: [3, 1], 2: [3, 1, 2], 4: [3, 1, 4], 5: [3, 1, 5], 6: [3, 1, 4, 6]})\n",
      "(4, {4: [4], 1: [4, 1], 5: [4, 5], 6: [4, 6], 2: [4, 1, 2], 3: [4, 1, 3]})\n",
      "(5, {5: [5], 1: [5, 1], 4: [5, 4], 6: [5, 6], 2: [5, 1, 2], 3: [5, 1, 3]})\n",
      "(6, {6: [6], 4: [6, 4], 5: [6, 5], 1: [6, 4, 1], 2: [6, 4, 1, 2], 3: [6, 4, 1, 3]})\n"
     ]
    },
    {
     "data": {
      "image/png": "[encoded data removed]",
      "text/plain": [
       "<Figure size 432x288 with 1 Axes>"
      ]
     },
     "metadata": {},
     "output_type": "display_data"
    }
   ],
   "source": [
    "import networkx as nx\n",
    "import matplotlib.pyplot as plt\n",
    "\n",
    "#求无向图的任意两点间的最短路径\n",
    "G = nx.Graph()\n",
    "G.add_edges_from([(1,2),(1,3),(1,4),(1,5),(4,5),(4,6),(5,6)])\n",
    "path = nx.all_pairs_shortest_path(G)\n",
    "for i in path:\n",
    "     print(i)\n",
    "nx.draw_networkx(G, with_labels=True) "
   ]
  },
  {
   "cell_type": "markdown",
   "id": "3aa8cd9a",
   "metadata": {},
   "source": [
    "计算2：找图中两个点的最短路径。"
   ]
  },
  {
   "cell_type": "code",
   "execution_count": 3,
   "id": "903329e0",
   "metadata": {},
   "outputs": [
    {
     "name": "stdout",
     "output_type": "stream",
     "text": [
      "No path\n"
     ]
    },
    {
     "data": {
      "image/png": "[encoded data removed]",
      "text/plain": [
       "<Figure size 432x288 with 1 Axes>"
      ]
     },
     "metadata": {},
     "output_type": "display_data"
    }
   ],
   "source": [
    "import networkx as nx\n",
    "G=nx.Graph()\n",
    "G.add_nodes_from([1,2,3,4])\n",
    "G.add_edge(1,2)\n",
    "G.add_edge(3,4)\n",
    "\n",
    "nx.draw_networkx(G, with_labels=True) \n",
    "try:\n",
    "     n=nx.shortest_path_length(G,1,4)\n",
    "     print(n)\n",
    "except nx.NetworkXNoPath:\n",
    "     print('No path')"
   ]
  },
  {
   "cell_type": "markdown",
   "id": "f98e0b99",
   "metadata": {},
   "source": [
    "<pre>\n",
    "（4）求最短路径和最短距离的函数。\n",
    "NetworkX最短路径dijkstra_path和最短距离dijkstra_path_length。\n",
    "nx.dijkstra_path(G, source, target, weight='weight')        #求最短路径\n",
    "nx.dijkstra_path_length(G, source, target, weight='weight')  #求最短距离\n",
    "\n",
    "nx.degree_centrality(G)            #结点度中心系数\n",
    "nx.closeness_centrality(G)          #紧密中心性\n",
    "nx.betweenness_centrality(G)       #介数中心系数\n",
    "\n",
    "nx.transitivity(G)   #图或网络的传递性，即图或网络中，认识同一个结点的两个结点也可能认识双方，计算公式为：3×三角形的个数/三元组个数（该三元组个数是有公共顶点的边对数）\n",
    "\n",
    "nx.clustering(G)   #图或网络中结点的聚类系数。计算公式为：((d(u)(d(u)-1)/2)\n",
    "<code>"
   ]
  },
  {
   "cell_type": "markdown",
   "id": "dc4c32a3",
   "metadata": {},
   "source": [
    "# 11.3航班数据处理\n",
    "我们先来对航班数据（Airline.csv）进行了解。打开数据表前4行数据,如下所示。 \n",
    " \n"
   ]
  },
  {
   "cell_type": "markdown",
   "id": "7717a7a8",
   "metadata": {},
   "source": [
    "<img src=\"image/Chapter11_1.png\" >"
   ]
  },
  {
   "cell_type": "markdown",
   "id": "e132fa46",
   "metadata": {},
   "source": [
    "从图上面数据可以看出，数据共有16列，为了方便对数据的理解，我们将数据的列名对应关系给出，如下所示。"
   ]
  },
  {
   "attachments": {
    "image.png": {
     "image/png": "[encoded data removed]"
    }
   },
   "cell_type": "markdown",
   "id": "5f916cf8",
   "metadata": {},
   "source": [
    "![image.png](attachment:image.png)\n",
    "\n",
    "<pre>\n",
    "year\tmonth\tday\tdep_time\tsched_dep_time\tdep_delay\tarr_time\tsched_arr_time\n",
    "年\t月\t\t日\t起飞时间\t计划起飞时间\t起飞延迟时间\t到达时间\t计划到达时间\n",
    "\n",
    "arr_delay\tair_time\tdistance\tcarrier\tflight\ttailnum\torigin\tdest\n",
    "到达延迟时间\t飞行时间\t距离\t客机类型\t航班号\t编号\t出发地\t目的地\n",
    "<code>"
   ]
  },
  {
   "cell_type": "markdown",
   "id": "22e631a9",
   "metadata": {},
   "source": [
    "## 1.导入数据"
   ]
  },
  {
   "cell_type": "code",
   "execution_count": 1,
   "id": "4a3ba296",
   "metadata": {},
   "outputs": [
    {
     "data": {
      "text/html": [
       "<div>\n",
       "<style scoped>\n",
       "    .dataframe tbody tr th:only-of-type {\n",
       "        vertical-align: middle;\n",
       "    }\n",
       "\n",
       "    .dataframe tbody tr th {\n",
       "        vertical-align: top;\n",
       "    }\n",
       "\n",
       "    .dataframe thead th {\n",
       "        text-align: right;\n",
       "    }\n",
       "</style>\n",
       "<table border=\"1\" class=\"dataframe\">\n",
       "  <thead>\n",
       "    <tr style=\"text-align: right;\">\n",
       "      <th></th>\n",
       "      <th>year</th>\n",
       "      <th>month</th>\n",
       "      <th>day</th>\n",
       "      <th>dep_time</th>\n",
       "      <th>sched_dep_time</th>\n",
       "      <th>dep_delay</th>\n",
       "      <th>arr_time</th>\n",
       "      <th>sched_arr_time</th>\n",
       "      <th>arr_delay</th>\n",
       "      <th>carrier</th>\n",
       "      <th>flight</th>\n",
       "      <th>tailnum</th>\n",
       "      <th>origin</th>\n",
       "      <th>dest</th>\n",
       "      <th>air_time</th>\n",
       "      <th>distance</th>\n",
       "    </tr>\n",
       "  </thead>\n",
       "  <tbody>\n",
       "    <tr>\n",
       "      <th>0</th>\n",
       "      <td>2013</td>\n",
       "      <td>2</td>\n",
       "      <td>26</td>\n",
       "      <td>1807.0</td>\n",
       "      <td>1630</td>\n",
       "      <td>97.0</td>\n",
       "      <td>1956.0</td>\n",
       "      <td>1837</td>\n",
       "      <td>79.0</td>\n",
       "      <td>EV</td>\n",
       "      <td>4411</td>\n",
       "      <td>N13566</td>\n",
       "      <td>EWR</td>\n",
       "      <td>MEM</td>\n",
       "      <td>144.0</td>\n",
       "      <td>946</td>\n",
       "    </tr>\n",
       "    <tr>\n",
       "      <th>1</th>\n",
       "      <td>2013</td>\n",
       "      <td>8</td>\n",
       "      <td>17</td>\n",
       "      <td>1459.0</td>\n",
       "      <td>1445</td>\n",
       "      <td>14.0</td>\n",
       "      <td>1801.0</td>\n",
       "      <td>1747</td>\n",
       "      <td>14.0</td>\n",
       "      <td>B6</td>\n",
       "      <td>1171</td>\n",
       "      <td>N661JB</td>\n",
       "      <td>LGA</td>\n",
       "      <td>FLL</td>\n",
       "      <td>147.0</td>\n",
       "      <td>1076</td>\n",
       "    </tr>\n",
       "    <tr>\n",
       "      <th>2</th>\n",
       "      <td>2013</td>\n",
       "      <td>2</td>\n",
       "      <td>13</td>\n",
       "      <td>1812.0</td>\n",
       "      <td>1815</td>\n",
       "      <td>-3.0</td>\n",
       "      <td>2055.0</td>\n",
       "      <td>2125</td>\n",
       "      <td>-30.0</td>\n",
       "      <td>AS</td>\n",
       "      <td>7</td>\n",
       "      <td>N403AS</td>\n",
       "      <td>EWR</td>\n",
       "      <td>SEA</td>\n",
       "      <td>315.0</td>\n",
       "      <td>2402</td>\n",
       "    </tr>\n",
       "    <tr>\n",
       "      <th>3</th>\n",
       "      <td>2013</td>\n",
       "      <td>4</td>\n",
       "      <td>11</td>\n",
       "      <td>2122.0</td>\n",
       "      <td>2115</td>\n",
       "      <td>7.0</td>\n",
       "      <td>2339.0</td>\n",
       "      <td>2353</td>\n",
       "      <td>-14.0</td>\n",
       "      <td>B6</td>\n",
       "      <td>97</td>\n",
       "      <td>N656JB</td>\n",
       "      <td>JFK</td>\n",
       "      <td>DEN</td>\n",
       "      <td>221.0</td>\n",
       "      <td>1626</td>\n",
       "    </tr>\n",
       "    <tr>\n",
       "      <th>4</th>\n",
       "      <td>2013</td>\n",
       "      <td>8</td>\n",
       "      <td>5</td>\n",
       "      <td>1832.0</td>\n",
       "      <td>1835</td>\n",
       "      <td>-3.0</td>\n",
       "      <td>2145.0</td>\n",
       "      <td>2155</td>\n",
       "      <td>-10.0</td>\n",
       "      <td>AA</td>\n",
       "      <td>269</td>\n",
       "      <td>N3EYAA</td>\n",
       "      <td>JFK</td>\n",
       "      <td>SEA</td>\n",
       "      <td>358.0</td>\n",
       "      <td>2422</td>\n",
       "    </tr>\n",
       "    <tr>\n",
       "      <th>...</th>\n",
       "      <td>...</td>\n",
       "      <td>...</td>\n",
       "      <td>...</td>\n",
       "      <td>...</td>\n",
       "      <td>...</td>\n",
       "      <td>...</td>\n",
       "      <td>...</td>\n",
       "      <td>...</td>\n",
       "      <td>...</td>\n",
       "      <td>...</td>\n",
       "      <td>...</td>\n",
       "      <td>...</td>\n",
       "      <td>...</td>\n",
       "      <td>...</td>\n",
       "      <td>...</td>\n",
       "      <td>...</td>\n",
       "    </tr>\n",
       "    <tr>\n",
       "      <th>95</th>\n",
       "      <td>2013</td>\n",
       "      <td>11</td>\n",
       "      <td>29</td>\n",
       "      <td>1129.0</td>\n",
       "      <td>1135</td>\n",
       "      <td>-6.0</td>\n",
       "      <td>1414.0</td>\n",
       "      <td>1436</td>\n",
       "      <td>-22.0</td>\n",
       "      <td>DL</td>\n",
       "      <td>1875</td>\n",
       "      <td>N342NB</td>\n",
       "      <td>LGA</td>\n",
       "      <td>TPA</td>\n",
       "      <td>147.0</td>\n",
       "      <td>1010</td>\n",
       "    </tr>\n",
       "    <tr>\n",
       "      <th>96</th>\n",
       "      <td>2013</td>\n",
       "      <td>3</td>\n",
       "      <td>10</td>\n",
       "      <td>1029.0</td>\n",
       "      <td>1029</td>\n",
       "      <td>0.0</td>\n",
       "      <td>1300.0</td>\n",
       "      <td>1344</td>\n",
       "      <td>-44.0</td>\n",
       "      <td>UA</td>\n",
       "      <td>1605</td>\n",
       "      <td>N37465</td>\n",
       "      <td>EWR</td>\n",
       "      <td>LAX</td>\n",
       "      <td>308.0</td>\n",
       "      <td>2454</td>\n",
       "    </tr>\n",
       "    <tr>\n",
       "      <th>97</th>\n",
       "      <td>2013</td>\n",
       "      <td>11</td>\n",
       "      <td>25</td>\n",
       "      <td>1724.0</td>\n",
       "      <td>1725</td>\n",
       "      <td>-1.0</td>\n",
       "      <td>1828.0</td>\n",
       "      <td>1845</td>\n",
       "      <td>-17.0</td>\n",
       "      <td>AA</td>\n",
       "      <td>256</td>\n",
       "      <td>N3CTAA</td>\n",
       "      <td>JFK</td>\n",
       "      <td>BOS</td>\n",
       "      <td>40.0</td>\n",
       "      <td>187</td>\n",
       "    </tr>\n",
       "    <tr>\n",
       "      <th>98</th>\n",
       "      <td>2013</td>\n",
       "      <td>3</td>\n",
       "      <td>5</td>\n",
       "      <td>930.0</td>\n",
       "      <td>929</td>\n",
       "      <td>1.0</td>\n",
       "      <td>1421.0</td>\n",
       "      <td>1426</td>\n",
       "      <td>-5.0</td>\n",
       "      <td>B6</td>\n",
       "      <td>215</td>\n",
       "      <td>N638JB</td>\n",
       "      <td>EWR</td>\n",
       "      <td>SJU</td>\n",
       "      <td>200.0</td>\n",
       "      <td>1608</td>\n",
       "    </tr>\n",
       "    <tr>\n",
       "      <th>99</th>\n",
       "      <td>2013</td>\n",
       "      <td>5</td>\n",
       "      <td>21</td>\n",
       "      <td>626.0</td>\n",
       "      <td>630</td>\n",
       "      <td>-4.0</td>\n",
       "      <td>858.0</td>\n",
       "      <td>918</td>\n",
       "      <td>-20.0</td>\n",
       "      <td>UA</td>\n",
       "      <td>490</td>\n",
       "      <td>N447UA</td>\n",
       "      <td>LGA</td>\n",
       "      <td>IAH</td>\n",
       "      <td>189.0</td>\n",
       "      <td>1416</td>\n",
       "    </tr>\n",
       "  </tbody>\n",
       "</table>\n",
       "<p>100 rows × 16 columns</p>\n",
       "</div>"
      ],
      "text/plain": [
       "    year  month  day  dep_time  sched_dep_time  dep_delay  arr_time  \\\n",
       "0   2013      2   26    1807.0            1630       97.0    1956.0   \n",
       "1   2013      8   17    1459.0            1445       14.0    1801.0   \n",
       "2   2013      2   13    1812.0            1815       -3.0    2055.0   \n",
       "3   2013      4   11    2122.0            2115        7.0    2339.0   \n",
       "4   2013      8    5    1832.0            1835       -3.0    2145.0   \n",
       "..   ...    ...  ...       ...             ...        ...       ...   \n",
       "95  2013     11   29    1129.0            1135       -6.0    1414.0   \n",
       "96  2013      3   10    1029.0            1029        0.0    1300.0   \n",
       "97  2013     11   25    1724.0            1725       -1.0    1828.0   \n",
       "98  2013      3    5     930.0             929        1.0    1421.0   \n",
       "99  2013      5   21     626.0             630       -4.0     858.0   \n",
       "\n",
       "    sched_arr_time  arr_delay carrier  flight tailnum origin dest  air_time  \\\n",
       "0             1837       79.0      EV    4411  N13566    EWR  MEM     144.0   \n",
       "1             1747       14.0      B6    1171  N661JB    LGA  FLL     147.0   \n",
       "2             2125      -30.0      AS       7  N403AS    EWR  SEA     315.0   \n",
       "3             2353      -14.0      B6      97  N656JB    JFK  DEN     221.0   \n",
       "4             2155      -10.0      AA     269  N3EYAA    JFK  SEA     358.0   \n",
       "..             ...        ...     ...     ...     ...    ...  ...       ...   \n",
       "95            1436      -22.0      DL    1875  N342NB    LGA  TPA     147.0   \n",
       "96            1344      -44.0      UA    1605  N37465    EWR  LAX     308.0   \n",
       "97            1845      -17.0      AA     256  N3CTAA    JFK  BOS      40.0   \n",
       "98            1426       -5.0      B6     215  N638JB    EWR  SJU     200.0   \n",
       "99             918      -20.0      UA     490  N447UA    LGA  IAH     189.0   \n",
       "\n",
       "    distance  \n",
       "0        946  \n",
       "1       1076  \n",
       "2       2402  \n",
       "3       1626  \n",
       "4       2422  \n",
       "..       ...  \n",
       "95      1010  \n",
       "96      2454  \n",
       "97       187  \n",
       "98      1608  \n",
       "99      1416  \n",
       "\n",
       "[100 rows x 16 columns]"
      ]
     },
     "execution_count": 1,
     "metadata": {},
     "output_type": "execute_result"
    }
   ],
   "source": [
    "import pandas as pd \n",
    "import numpy as np\n",
    "\n",
    "data = pd.read_csv(r'file/Airlines.csv', engine='python') #参数engine='python'是为了防止中文路径出错\n",
    "data"
   ]
  },
  {
   "cell_type": "code",
   "execution_count": 4,
   "id": "332e29b4",
   "metadata": {},
   "outputs": [
    {
     "data": {
      "text/plain": [
       "(100, 16)"
      ]
     },
     "execution_count": 4,
     "metadata": {},
     "output_type": "execute_result"
    }
   ],
   "source": [
    "data.shape"
   ]
  },
  {
   "cell_type": "code",
   "execution_count": 2,
   "id": "50a22df3",
   "metadata": {},
   "outputs": [
    {
     "data": {
      "text/plain": [
       "year                int64\n",
       "month               int64\n",
       "day                 int64\n",
       "dep_time          float64\n",
       "sched_dep_time      int64\n",
       "dep_delay         float64\n",
       "arr_time          float64\n",
       "sched_arr_time      int64\n",
       "arr_delay         float64\n",
       "carrier            object\n",
       "flight              int64\n",
       "tailnum            object\n",
       "origin             object\n",
       "dest               object\n",
       "air_time          float64\n",
       "distance            int64\n",
       "dtype: object"
      ]
     },
     "execution_count": 2,
     "metadata": {},
     "output_type": "execute_result"
    }
   ],
   "source": [
    "data.dtypes"
   ]
  },
  {
   "cell_type": "code",
   "execution_count": 3,
   "id": "cf5e6be8",
   "metadata": {},
   "outputs": [
    {
     "data": {
      "text/html": [
       "<div>\n",
       "<style scoped>\n",
       "    .dataframe tbody tr th:only-of-type {\n",
       "        vertical-align: middle;\n",
       "    }\n",
       "\n",
       "    .dataframe tbody tr th {\n",
       "        vertical-align: top;\n",
       "    }\n",
       "\n",
       "    .dataframe thead th {\n",
       "        text-align: right;\n",
       "    }\n",
       "</style>\n",
       "<table border=\"1\" class=\"dataframe\">\n",
       "  <thead>\n",
       "    <tr style=\"text-align: right;\">\n",
       "      <th></th>\n",
       "      <th>year</th>\n",
       "      <th>month</th>\n",
       "      <th>day</th>\n",
       "      <th>dep_time</th>\n",
       "      <th>sched_dep_time</th>\n",
       "      <th>dep_delay</th>\n",
       "      <th>arr_time</th>\n",
       "      <th>sched_arr_time</th>\n",
       "      <th>arr_delay</th>\n",
       "      <th>carrier</th>\n",
       "      <th>flight</th>\n",
       "      <th>tailnum</th>\n",
       "      <th>origin</th>\n",
       "      <th>dest</th>\n",
       "      <th>air_time</th>\n",
       "      <th>distance</th>\n",
       "    </tr>\n",
       "  </thead>\n",
       "  <tbody>\n",
       "    <tr>\n",
       "      <th>0</th>\n",
       "      <td>2013</td>\n",
       "      <td>2</td>\n",
       "      <td>26</td>\n",
       "      <td>1807.0</td>\n",
       "      <td>1630</td>\n",
       "      <td>97.0</td>\n",
       "      <td>1956.0</td>\n",
       "      <td>1837</td>\n",
       "      <td>79.0</td>\n",
       "      <td>EV</td>\n",
       "      <td>4411</td>\n",
       "      <td>N13566</td>\n",
       "      <td>EWR</td>\n",
       "      <td>MEM</td>\n",
       "      <td>144.0</td>\n",
       "      <td>946</td>\n",
       "    </tr>\n",
       "    <tr>\n",
       "      <th>1</th>\n",
       "      <td>2013</td>\n",
       "      <td>8</td>\n",
       "      <td>17</td>\n",
       "      <td>1459.0</td>\n",
       "      <td>1445</td>\n",
       "      <td>14.0</td>\n",
       "      <td>1801.0</td>\n",
       "      <td>1747</td>\n",
       "      <td>14.0</td>\n",
       "      <td>B6</td>\n",
       "      <td>1171</td>\n",
       "      <td>N661JB</td>\n",
       "      <td>LGA</td>\n",
       "      <td>FLL</td>\n",
       "      <td>147.0</td>\n",
       "      <td>1076</td>\n",
       "    </tr>\n",
       "    <tr>\n",
       "      <th>2</th>\n",
       "      <td>2013</td>\n",
       "      <td>2</td>\n",
       "      <td>13</td>\n",
       "      <td>1812.0</td>\n",
       "      <td>1815</td>\n",
       "      <td>-3.0</td>\n",
       "      <td>2055.0</td>\n",
       "      <td>2125</td>\n",
       "      <td>-30.0</td>\n",
       "      <td>AS</td>\n",
       "      <td>7</td>\n",
       "      <td>N403AS</td>\n",
       "      <td>EWR</td>\n",
       "      <td>SEA</td>\n",
       "      <td>315.0</td>\n",
       "      <td>2402</td>\n",
       "    </tr>\n",
       "    <tr>\n",
       "      <th>3</th>\n",
       "      <td>2013</td>\n",
       "      <td>4</td>\n",
       "      <td>11</td>\n",
       "      <td>2122.0</td>\n",
       "      <td>2115</td>\n",
       "      <td>7.0</td>\n",
       "      <td>2339.0</td>\n",
       "      <td>2353</td>\n",
       "      <td>-14.0</td>\n",
       "      <td>B6</td>\n",
       "      <td>97</td>\n",
       "      <td>N656JB</td>\n",
       "      <td>JFK</td>\n",
       "      <td>DEN</td>\n",
       "      <td>221.0</td>\n",
       "      <td>1626</td>\n",
       "    </tr>\n",
       "    <tr>\n",
       "      <th>4</th>\n",
       "      <td>2013</td>\n",
       "      <td>8</td>\n",
       "      <td>5</td>\n",
       "      <td>1832.0</td>\n",
       "      <td>1835</td>\n",
       "      <td>-3.0</td>\n",
       "      <td>2145.0</td>\n",
       "      <td>2155</td>\n",
       "      <td>-10.0</td>\n",
       "      <td>AA</td>\n",
       "      <td>269</td>\n",
       "      <td>N3EYAA</td>\n",
       "      <td>JFK</td>\n",
       "      <td>SEA</td>\n",
       "      <td>358.0</td>\n",
       "      <td>2422</td>\n",
       "    </tr>\n",
       "  </tbody>\n",
       "</table>\n",
       "</div>"
      ],
      "text/plain": [
       "   year  month  day  dep_time  sched_dep_time  dep_delay  arr_time  \\\n",
       "0  2013      2   26    1807.0            1630       97.0    1956.0   \n",
       "1  2013      8   17    1459.0            1445       14.0    1801.0   \n",
       "2  2013      2   13    1812.0            1815       -3.0    2055.0   \n",
       "3  2013      4   11    2122.0            2115        7.0    2339.0   \n",
       "4  2013      8    5    1832.0            1835       -3.0    2145.0   \n",
       "\n",
       "   sched_arr_time  arr_delay carrier  flight tailnum origin dest  air_time  \\\n",
       "0            1837       79.0      EV    4411  N13566    EWR  MEM     144.0   \n",
       "1            1747       14.0      B6    1171  N661JB    LGA  FLL     147.0   \n",
       "2            2125      -30.0      AS       7  N403AS    EWR  SEA     315.0   \n",
       "3            2353      -14.0      B6      97  N656JB    JFK  DEN     221.0   \n",
       "4            2155      -10.0      AA     269  N3EYAA    JFK  SEA     358.0   \n",
       "\n",
       "   distance  \n",
       "0       946  \n",
       "1      1076  \n",
       "2      2402  \n",
       "3      1626  \n",
       "4      2422  "
      ]
     },
     "execution_count": 3,
     "metadata": {},
     "output_type": "execute_result"
    }
   ],
   "source": [
    "data.head()"
   ]
  },
  {
   "cell_type": "markdown",
   "id": "5112cec7",
   "metadata": {},
   "source": [
    "##  2.处理时间数据格式\n",
    "预计离港时间格式不标准，将时间格式转化为标准格式std。\n"
   ]
  },
  {
   "cell_type": "code",
   "execution_count": null,
   "id": "c51675f8",
   "metadata": {},
   "outputs": [],
   "source": [
    "data['sched_dep_time'].head()"
   ]
  },
  {
   "cell_type": "code",
   "execution_count": null,
   "id": "35816e54",
   "metadata": {},
   "outputs": [],
   "source": [
    "data['std'] = data.sched_dep_time.astype(str).str.replace('(\\d{2}$)', '') + ':' + data.sched_dep_time.astype(str).str.extract('(\\d{2}$)', expand=False) + ':00'\n",
    "data['std'].head()"
   ]
  },
  {
   "cell_type": "markdown",
   "id": "8ecbe9b1",
   "metadata": {},
   "source": [
    "<pre>\n",
    "replace()方法将sched_dep_time字段从末尾取两个数字用空去替代，也就是删除末尾的两个数字。\n",
    "\n",
    "S.replace(old,new[,count=S.count(old)])\n",
    "●  old：指定的旧子字符串。\n",
    "●  new：指定的新子字符串。\n",
    "●  count：可选参数，替换的次数，默认为指定的旧子字符串在字符串中出现的总次数。\n",
    "返回值：返回把字符串中指定的旧子字符串替换成指定的新子字符串后生成的新字符串，如果指定count可选参数则替换指定的次数，默认为指定的旧子字符串在字符串中出现的总次数。\n",
    "\\d{2}$：其中\\d表示匹配数字0～9，{2}表示将前面的操作重复2次，$表示从末尾开始匹配。\n",
    "\n",
    "Series.str.extract(pat, flags=0, expand=None)可用正则表达式从字符数据中抽取匹配的数据，只返回第一个匹配的数据。\n",
    "●  pat：字符串或正则表达式。\n",
    "●  flags：整型。\n",
    "●  expand：布尔型，是否返回DataFrame。\n",
    "返回值：数据框dataframe/索引index。\n",
    "\n",
    "<code>"
   ]
  },
  {
   "cell_type": "code",
   "execution_count": null,
   "id": "11fee8b1",
   "metadata": {},
   "outputs": [],
   "source": [
    " #将计划到达时间sched_arr_time转化为标准格式sta\n",
    "data['sta'] = data.sched_arr_time.astype(str).str.replace('(\\d{2}$)', '') + ':' + data.sched_arr_time.astype(str).str.extract('(\\d{2}$)', expand=False) + ':00'\n",
    "\n",
    "#将实际离港时间dep_time转化为标准格式atd\n",
    "data['atd'] = data.dep_time.fillna(0).astype(np.int64).astype(str).str.replace('(\\d{2}$)', '') + ':' + data.dep_time.fillna(0).astype(np.int64).astype(str).str.extract('(\\d{2}$)', expand=False) + ':00'\n",
    "\n",
    "#将实际到达时间arr_time转化为标准格式ata\n",
    "data['ata'] = data.arr_time.fillna(0).astype(np.int64).astype(str).str.replace('(\\d{2}$)', '') + ':' + data.arr_time.fillna(0).astype(np.int64).astype(str).str.extract('(\\d{2}$)', expand=False) + ':00'\n",
    "\n",
    "#将年月日时间合并为一列date\n",
    "data['date'] = pd.to_datetime(data[['year', 'month', 'day']])\n",
    "\n",
    "# 删除不需要的year、month、day\n",
    "data = data.drop(['year', 'month', 'day'],axis = 1)#drop函数默认删除行，删除列需要加axis = 1\n",
    "data.head(15)"
   ]
  },
  {
   "cell_type": "markdown",
   "id": "fc0fcc73",
   "metadata": {},
   "source": [
    "## 3.检查数据空缺值\n",
    "检查数据有没有0值或空值。\n"
   ]
  },
  {
   "cell_type": "code",
   "execution_count": null,
   "id": "161772d5",
   "metadata": {},
   "outputs": [],
   "source": [
    "np.where(data == 0) #从得出的空行数据中查看第29行数据data.iloc[29]"
   ]
  },
  {
   "cell_type": "code",
   "execution_count": null,
   "id": "dcf66fba",
   "metadata": {},
   "outputs": [],
   "source": [
    "np.where(pd.isnull(data))   #发现了nan数据"
   ]
  },
  {
   "cell_type": "markdown",
   "id": "0424d1e9",
   "metadata": {},
   "source": [
    "发现了0和空值，该怎么处置？一般使用删除或者填充。当数据够大时，在删除不影响整体或者影响很小的数据时，可以采用删除的方法，当数据不够多时，或者删除数据对计算、预测原数据集有影响时，建议采用均值法填充、0值填充、按前值或后值填充等方法。\n"
   ]
  },
  {
   "cell_type": "markdown",
   "id": "fd647e3e",
   "metadata": {},
   "source": [
    "## 4.构建图，并载入数据\n"
   ]
  },
  {
   "cell_type": "code",
   "execution_count": null,
   "id": "8ca52260",
   "metadata": {},
   "outputs": [],
   "source": [
    "import networkx as nx\n",
    "FG = nx.from_pandas_edgelist(data, source='origin', target='dest', edge_attr=True,)\n",
    "FG.nodes()"
   ]
  },
  {
   "cell_type": "code",
   "execution_count": null,
   "id": "6868fd96",
   "metadata": {},
   "outputs": [],
   "source": [
    "FG.edges()"
   ]
  },
  {
   "cell_type": "code",
   "execution_count": null,
   "id": "15efa0c6",
   "metadata": {},
   "outputs": [],
   "source": [
    "import networkx as nx\n",
    "FG = nx.from_pandas_edgelist(data, source='origin', target='dest', edge_attr=True,)\n",
    "FG.nodes()"
   ]
  },
  {
   "cell_type": "code",
   "execution_count": null,
   "id": "ab790ad4",
   "metadata": {},
   "outputs": [],
   "source": [
    "FG.edges()"
   ]
  },
  {
   "cell_type": "markdown",
   "id": "a6ef1c0e",
   "metadata": {},
   "source": [
    "## 5.找出最繁忙的机场\n"
   ]
  },
  {
   "cell_type": "code",
   "execution_count": null,
   "id": "12651efb",
   "metadata": {},
   "outputs": [],
   "source": [
    "nx.draw_networkx(FG, with_labels=True) # 绘图，我们看到3个繁忙的机场\n",
    "dd = nx.algorithms.degree_centrality(FG) # 结点度中心系数\n",
    "max(dd, key=lambda x:dd[x])#或者直接用字典方法max(dd,key=dd.get),但不能显示并列值\n"
   ]
  },
  {
   "cell_type": "markdown",
   "id": "35928052",
   "metadata": {},
   "source": [
    "#### 注意：图中结点度中心系数最大的并非只有EWR机场，LGA机场同样跟EWR机场有相等的值，所以我们需要自定义一个函数来查看最大值，这里仅判断前三项是否并列，并抛出最大值。\n"
   ]
  },
  {
   "cell_type": "code",
   "execution_count": null,
   "id": "ebcb7798",
   "metadata": {},
   "outputs": [],
   "source": [
    "def top(dd): \n",
    "     '''\n",
    "     通过结点度中心系数来求其最大值\n",
    "     此处仅判断前三项是否并列\n",
    "     '''\n",
    "    dd_id = list(dd.items())\n",
    "    dd_id_0=[]\n",
    "    for i in dd_id:\n",
    "        i= list(i)\n",
    "        i[0],i[1]=i[1],i[0]\n",
    "        dd_id_0.append([i[0],i[1]])\n",
    "    sor_dd = sorted(dd_id_0,reverse=True)\n",
    "    if sor_dd[0][0]== sor_dd[1][0]:\n",
    "        if sor_dd[1][0]== sor_dd[2][0]:\n",
    "            print(sor_dd[0:3])\n",
    "        else:\n",
    "            print(sor_dd[0:2])\n",
    "    else:\n",
    "        print(sor_dd[0])\n",
    " \n",
    " top(dd)"
   ]
  },
  {
   "cell_type": "markdown",
   "id": "99ac4c2c",
   "metadata": {},
   "source": [
    "所以EWR机场和LGA机场是所有机场中最繁忙的两个机场。"
   ]
  },
  {
   "cell_type": "markdown",
   "id": "b329f372",
   "metadata": {},
   "source": [
    "## 6.找出某两个机场间的最短路径和最省时"
   ]
  },
  {
   "cell_type": "markdown",
   "id": "b81f4c41",
   "metadata": {},
   "source": [
    "找出JAX机场和DFW机场间的最短路径。\n"
   ]
  },
  {
   "cell_type": "code",
   "execution_count": null,
   "id": "4413e1ab",
   "metadata": {},
   "outputs": [],
   "source": [
    "all_path = nx.all_simple_paths(FG, source='JAX', target='DFW')#从JAX到DFW的所有路径"
   ]
  },
  {
   "cell_type": "code",
   "execution_count": null,
   "id": "4546e1b9",
   "metadata": {},
   "outputs": [],
   "source": [
    "dijpath = nx.dijkstra_path(FG, source='JAX', target='DFW')\n",
    "dijpath"
   ]
  },
  {
   "cell_type": "code",
   "execution_count": null,
   "id": "1f86d6ab",
   "metadata": {},
   "outputs": [],
   "source": [
    "shortpath = nx.dijkstra_path(FG, source='JAX', target='DFW', weight='air_time')\n",
    "shortpath"
   ]
  },
  {
   "cell_type": "markdown",
   "id": "d706c3d7",
   "metadata": {},
   "source": [
    "### 适合做中转的机场\n"
   ]
  },
  {
   "cell_type": "code",
   "execution_count": null,
   "id": "76c15ce0",
   "metadata": {},
   "outputs": [],
   "source": [
    "cc = nx.closeness_centrality(FG) \n",
    "top(cc)"
   ]
  },
  {
   "cell_type": "code",
   "execution_count": null,
   "id": "ddc16b81",
   "metadata": {},
   "outputs": [],
   "source": [
    "bc = nx.betweenness_centrality(FG)\n",
    "top(bc)"
   ]
  },
  {
   "cell_type": "markdown",
   "id": "6e89e776",
   "metadata": {},
   "source": [
    "适合做中转的机场不仅需要有较大的度，还要具有紧密性和介数中心性，通过这两项可以看出，最适合作为中转机场的是EWR机场。\n"
   ]
  },
  {
   "cell_type": "markdown",
   "id": "fc65d346",
   "metadata": {},
   "source": [
    "# 11.4 完整代码\n"
   ]
  },
  {
   "cell_type": "code",
   "execution_count": 1,
   "id": "09ab2b6c",
   "metadata": {},
   "outputs": [
    {
     "name": "stdout",
     "output_type": "stream",
     "text": [
      "[[0.5714285714285714, 'LGA'], [0.5714285714285714, 'EWR']]\n",
      "['JAX', 'JFK', 'DEN', 'LGA', 'ORD', 'EWR', 'DFW']\n",
      "['JAX', 'JFK', 'DEN', 'LGA', 'PBI', 'EWR', 'DFW']\n",
      "['JAX', 'JFK', 'DEN', 'LGA', 'IAD', 'EWR', 'DFW']\n",
      "['JAX', 'JFK', 'DEN', 'LGA', 'MIA', 'EWR', 'DFW']\n",
      "['JAX', 'JFK', 'DEN', 'LGA', 'RDU', 'EWR', 'DFW']\n",
      "['JAX', 'JFK', 'DEN', 'LGA', 'TPA', 'EWR', 'DFW']\n",
      "['JAX', 'JFK', 'DEN', 'LGA', 'MSP', 'EWR', 'DFW']\n",
      "['JAX', 'JFK', 'DEN', 'LGA', 'MCO', 'EWR', 'DFW']\n",
      "['JAX', 'JFK', 'DEN', 'LGA', 'CVG', 'EWR', 'DFW']\n",
      "['JAX', 'JFK', 'DEN', 'LGA', 'IAH', 'EWR', 'DFW']\n",
      "['JAX', 'JFK', 'SEA', 'EWR', 'DFW']\n",
      "['JAX', 'JFK', 'MCO', 'LGA', 'ORD', 'EWR', 'DFW']\n",
      "['JAX', 'JFK', 'MCO', 'LGA', 'PBI', 'EWR', 'DFW']\n",
      "['JAX', 'JFK', 'MCO', 'LGA', 'IAD', 'EWR', 'DFW']\n",
      "['JAX', 'JFK', 'MCO', 'LGA', 'MIA', 'EWR', 'DFW']\n",
      "['JAX', 'JFK', 'MCO', 'LGA', 'RDU', 'EWR', 'DFW']\n",
      "['JAX', 'JFK', 'MCO', 'LGA', 'TPA', 'EWR', 'DFW']\n",
      "['JAX', 'JFK', 'MCO', 'LGA', 'MSP', 'EWR', 'DFW']\n",
      "['JAX', 'JFK', 'MCO', 'LGA', 'CVG', 'EWR', 'DFW']\n",
      "['JAX', 'JFK', 'MCO', 'LGA', 'IAH', 'EWR', 'DFW']\n",
      "['JAX', 'JFK', 'MCO', 'EWR', 'DFW']\n",
      "['JAX', 'JFK', 'TPA', 'EWR', 'DFW']\n",
      "['JAX', 'JFK', 'TPA', 'LGA', 'ORD', 'EWR', 'DFW']\n",
      "['JAX', 'JFK', 'TPA', 'LGA', 'PBI', 'EWR', 'DFW']\n",
      "['JAX', 'JFK', 'TPA', 'LGA', 'IAD', 'EWR', 'DFW']\n",
      "['JAX', 'JFK', 'TPA', 'LGA', 'MIA', 'EWR', 'DFW']\n",
      "['JAX', 'JFK', 'TPA', 'LGA', 'RDU', 'EWR', 'DFW']\n",
      "['JAX', 'JFK', 'TPA', 'LGA', 'MSP', 'EWR', 'DFW']\n",
      "['JAX', 'JFK', 'TPA', 'LGA', 'MCO', 'EWR', 'DFW']\n",
      "['JAX', 'JFK', 'TPA', 'LGA', 'CVG', 'EWR', 'DFW']\n",
      "['JAX', 'JFK', 'TPA', 'LGA', 'IAH', 'EWR', 'DFW']\n",
      "['JAX', 'JFK', 'SJU', 'EWR', 'DFW']\n",
      "['JAX', 'JFK', 'ATL', 'LGA', 'ORD', 'EWR', 'DFW']\n",
      "['JAX', 'JFK', 'ATL', 'LGA', 'PBI', 'EWR', 'DFW']\n",
      "['JAX', 'JFK', 'ATL', 'LGA', 'IAD', 'EWR', 'DFW']\n",
      "['JAX', 'JFK', 'ATL', 'LGA', 'MIA', 'EWR', 'DFW']\n",
      "['JAX', 'JFK', 'ATL', 'LGA', 'RDU', 'EWR', 'DFW']\n",
      "['JAX', 'JFK', 'ATL', 'LGA', 'TPA', 'EWR', 'DFW']\n",
      "['JAX', 'JFK', 'ATL', 'LGA', 'MSP', 'EWR', 'DFW']\n",
      "['JAX', 'JFK', 'ATL', 'LGA', 'MCO', 'EWR', 'DFW']\n",
      "['JAX', 'JFK', 'ATL', 'LGA', 'CVG', 'EWR', 'DFW']\n",
      "['JAX', 'JFK', 'ATL', 'LGA', 'IAH', 'EWR', 'DFW']\n",
      "['JAX', 'JFK', 'DCA', 'LGA', 'ORD', 'EWR', 'DFW']\n",
      "['JAX', 'JFK', 'DCA', 'LGA', 'PBI', 'EWR', 'DFW']\n",
      "['JAX', 'JFK', 'DCA', 'LGA', 'IAD', 'EWR', 'DFW']\n",
      "['JAX', 'JFK', 'DCA', 'LGA', 'MIA', 'EWR', 'DFW']\n",
      "['JAX', 'JFK', 'DCA', 'LGA', 'RDU', 'EWR', 'DFW']\n",
      "['JAX', 'JFK', 'DCA', 'LGA', 'TPA', 'EWR', 'DFW']\n",
      "['JAX', 'JFK', 'DCA', 'LGA', 'MSP', 'EWR', 'DFW']\n",
      "['JAX', 'JFK', 'DCA', 'LGA', 'MCO', 'EWR', 'DFW']\n",
      "['JAX', 'JFK', 'DCA', 'LGA', 'CVG', 'EWR', 'DFW']\n",
      "['JAX', 'JFK', 'DCA', 'LGA', 'IAH', 'EWR', 'DFW']\n",
      "['JAX', 'JFK', 'DTW', 'LGA', 'ORD', 'EWR', 'DFW']\n",
      "['JAX', 'JFK', 'DTW', 'LGA', 'PBI', 'EWR', 'DFW']\n",
      "['JAX', 'JFK', 'DTW', 'LGA', 'IAD', 'EWR', 'DFW']\n",
      "['JAX', 'JFK', 'DTW', 'LGA', 'MIA', 'EWR', 'DFW']\n",
      "['JAX', 'JFK', 'DTW', 'LGA', 'RDU', 'EWR', 'DFW']\n",
      "['JAX', 'JFK', 'DTW', 'LGA', 'TPA', 'EWR', 'DFW']\n",
      "['JAX', 'JFK', 'DTW', 'LGA', 'MSP', 'EWR', 'DFW']\n",
      "['JAX', 'JFK', 'DTW', 'LGA', 'MCO', 'EWR', 'DFW']\n",
      "['JAX', 'JFK', 'DTW', 'LGA', 'CVG', 'EWR', 'DFW']\n",
      "['JAX', 'JFK', 'DTW', 'LGA', 'IAH', 'EWR', 'DFW']\n",
      "['JAX', 'JFK', 'LAX', 'EWR', 'DFW']\n",
      "['JAX', 'JFK', 'FLL', 'LGA', 'ORD', 'EWR', 'DFW']\n",
      "['JAX', 'JFK', 'FLL', 'LGA', 'PBI', 'EWR', 'DFW']\n",
      "['JAX', 'JFK', 'FLL', 'LGA', 'IAD', 'EWR', 'DFW']\n",
      "['JAX', 'JFK', 'FLL', 'LGA', 'MIA', 'EWR', 'DFW']\n",
      "['JAX', 'JFK', 'FLL', 'LGA', 'RDU', 'EWR', 'DFW']\n",
      "['JAX', 'JFK', 'FLL', 'LGA', 'TPA', 'EWR', 'DFW']\n",
      "['JAX', 'JFK', 'FLL', 'LGA', 'MSP', 'EWR', 'DFW']\n",
      "['JAX', 'JFK', 'FLL', 'LGA', 'MCO', 'EWR', 'DFW']\n",
      "['JAX', 'JFK', 'FLL', 'LGA', 'CVG', 'EWR', 'DFW']\n",
      "['JAX', 'JFK', 'FLL', 'LGA', 'IAH', 'EWR', 'DFW']\n",
      "['JAX', 'JFK', 'CLT', 'LGA', 'ORD', 'EWR', 'DFW']\n",
      "['JAX', 'JFK', 'CLT', 'LGA', 'PBI', 'EWR', 'DFW']\n",
      "['JAX', 'JFK', 'CLT', 'LGA', 'IAD', 'EWR', 'DFW']\n",
      "['JAX', 'JFK', 'CLT', 'LGA', 'MIA', 'EWR', 'DFW']\n",
      "['JAX', 'JFK', 'CLT', 'LGA', 'RDU', 'EWR', 'DFW']\n",
      "['JAX', 'JFK', 'CLT', 'LGA', 'TPA', 'EWR', 'DFW']\n",
      "['JAX', 'JFK', 'CLT', 'LGA', 'MSP', 'EWR', 'DFW']\n",
      "['JAX', 'JFK', 'CLT', 'LGA', 'MCO', 'EWR', 'DFW']\n",
      "['JAX', 'JFK', 'CLT', 'LGA', 'CVG', 'EWR', 'DFW']\n",
      "['JAX', 'JFK', 'CLT', 'LGA', 'IAH', 'EWR', 'DFW']\n",
      "['JAX', 'JFK', 'PBI', 'LGA', 'ORD', 'EWR', 'DFW']\n",
      "['JAX', 'JFK', 'PBI', 'LGA', 'IAD', 'EWR', 'DFW']\n",
      "['JAX', 'JFK', 'PBI', 'LGA', 'MIA', 'EWR', 'DFW']\n",
      "['JAX', 'JFK', 'PBI', 'LGA', 'RDU', 'EWR', 'DFW']\n",
      "['JAX', 'JFK', 'PBI', 'LGA', 'TPA', 'EWR', 'DFW']\n",
      "['JAX', 'JFK', 'PBI', 'LGA', 'MSP', 'EWR', 'DFW']\n",
      "['JAX', 'JFK', 'PBI', 'LGA', 'MCO', 'EWR', 'DFW']\n",
      "['JAX', 'JFK', 'PBI', 'LGA', 'CVG', 'EWR', 'DFW']\n",
      "['JAX', 'JFK', 'PBI', 'LGA', 'IAH', 'EWR', 'DFW']\n",
      "['JAX', 'JFK', 'PBI', 'EWR', 'DFW']\n",
      "['JAX', 'JFK', 'IAD', 'LGA', 'ORD', 'EWR', 'DFW']\n",
      "['JAX', 'JFK', 'IAD', 'LGA', 'PBI', 'EWR', 'DFW']\n",
      "['JAX', 'JFK', 'IAD', 'LGA', 'MIA', 'EWR', 'DFW']\n",
      "['JAX', 'JFK', 'IAD', 'LGA', 'RDU', 'EWR', 'DFW']\n",
      "['JAX', 'JFK', 'IAD', 'LGA', 'TPA', 'EWR', 'DFW']\n",
      "['JAX', 'JFK', 'IAD', 'LGA', 'MSP', 'EWR', 'DFW']\n",
      "['JAX', 'JFK', 'IAD', 'LGA', 'MCO', 'EWR', 'DFW']\n",
      "['JAX', 'JFK', 'IAD', 'LGA', 'CVG', 'EWR', 'DFW']\n",
      "['JAX', 'JFK', 'IAD', 'LGA', 'IAH', 'EWR', 'DFW']\n",
      "['JAX', 'JFK', 'IAD', 'EWR', 'DFW']\n",
      "['JAX', 'JFK', 'BOS', 'EWR', 'DFW']\n",
      "[[0.5555555555555556, 'LGA'], [0.5555555555555556, 'EWR']]\n",
      "[0.44733893557422966, 'EWR']\n"
     ]
    },
    {
     "data": {
      "image/png": "[encoded data removed]",
      "text/plain": [
       "<Figure size 640x480 with 1 Axes>"
      ]
     },
     "metadata": {},
     "output_type": "display_data"
    }
   ],
   "source": [
    "\n",
    "import pandas as pd \n",
    "import numpy as np\n",
    "\n",
    "#【导入数据】\n",
    "data = pd.read_csv(r'file/Airlines.csv',engine='python')  \n",
    "#参数engine='python'是为了防止中文路径出错\n",
    "data.shape\n",
    "data.dtypes\n",
    "data.head()\n",
    "\n",
    "#【处理时间数据格式】\n",
    "#将时间格式转化成正常格式\n",
    "data['sched_dep_time'].head()\n",
    "#预计离港时间格式不标准，将它转化为标准格式std\n",
    "#replace()将sched_dep_time字段从末尾取两个数字用空去替代，也就是删除末尾的两个数字\n",
    "#extract(pat,expand=False) 用正则从字符中抽取匹配的数据，只返回第一个匹配的数据\n",
    "data['std'] = data.sched_dep_time.astype(str).str.replace('(\\d{2}$)', '') + ':' + data.sched_dep_time.astype(str).str.extract('(\\d{2}$)', expand=False) + ':00'\n",
    "data['std'].head()\n",
    "\n",
    "#将计划到达时间sched_arr_time转化为标准格式sta\n",
    "data['sta'] = data.sched_arr_time.astype(str).str.replace('(\\d{2}$)', '') + ':' + data.sched_arr_time.astype(str).str.extract('(\\d{2}$)', expand=False) + ':00'\n",
    "\n",
    "#将实际离港时间dep_time转化为标准格式atd\n",
    "data['atd'] = data.dep_time.fillna(0).astype(np.int64).astype(str).str.replace('(\\d{2}$)', '') + ':' + data.dep_time.fillna(0).astype(np.int64).astype(str).str.extract('(\\d{2}$)', expand=False) + ':00'\n",
    "\n",
    "#将实际到达时间arr_time转化为标准格式ata\n",
    "data['ata'] = data.arr_time.fillna(0).astype(np.int64).astype(str).str.replace('(\\d{2}$)', '') + ':' + data.arr_time.fillna(0).astype(np.int64).astype(str).str.extract('(\\d{2}$)', expand=False) + ':00'\n",
    "\n",
    "#将年月日时间合并为一列date\n",
    "data['date'] = pd.to_datetime(data[['year', 'month', 'day']])\n",
    "\n",
    "#删除不需要的year、month、day\n",
    "data = data.drop(['year', 'month', 'day'],axis = 1)#drop函数默认删除行，列需要加axis = 1\n",
    "data.head(15)\n",
    "\n",
    "#【检查数据空缺值】\n",
    "#检查数据有没有0值或者空值\n",
    "np.where(data == 0) #从得出的空行数据中查看第29行数据data.iloc[29]\n",
    "#np.where(np.isnan(data))#有时会报错，报错就用pd.isnull(data)\n",
    "np.where(pd.isnull(data))#发现了nan数据\n",
    "\n",
    "#【构建图，并载入数据】\n",
    "#使用networkx函数导入数据集\n",
    "import networkx as nx\n",
    "FG = nx.from_pandas_edgelist(data, source='origin', target='dest', edge_attr=True,)\n",
    "FG.nodes()\n",
    "FG.edges()\n",
    "\n",
    "#【找出最繁忙的机场】\n",
    "nx.draw_networkx(FG, with_labels=True) # 绘图。正如预期的一样，我们看到3个繁忙的机场\n",
    "dd = nx.algorithms.degree_centrality(FG) # 结点度中心系数。通过结点的度表示结点在图中的重要性\n",
    "#dd = nx.degree_centrality(FG)\n",
    "max(dd, key=lambda x:dd[x])#或者直接用字典方法max(dd,key=dd.get)，但是不能显示并列第一\n",
    "\n",
    "#下面定义函数的方式输出最大值\n",
    "def top(dd): \n",
    "     '''\n",
    "     通过结点度中心系数来求其最大值\n",
    "     此处仅判断前三项是否并列\n",
    "     '''\n",
    "     dd_id = list(dd.items())\n",
    "     dd_id_0=[]\n",
    "     for i in dd_id:\n",
    "          i= list(i)\n",
    "          i[0],i[1]=i[1],i[0]\n",
    "          dd_id_0.append([i[0],i[1]])\n",
    "     sor_dd = sorted(dd_id_0,reverse=True)\n",
    "     if sor_dd[0][0]== sor_dd[1][0]:\n",
    "          if sor_dd[1][0]== sor_dd[2][0]:\n",
    "              print(sor_dd[0:3])\n",
    "          else:\n",
    "              print(sor_dd[0:2])\n",
    "     else:\n",
    "          print(sor_dd[0])\n",
    "        \n",
    "top(dd)\n",
    "\n",
    "nx.density(FG) #图的平均边密度\n",
    "nx.average_shortest_path_length(FG) #最短路径的平均长度\n",
    "nx.average_degree_connectivity(FG) #均值连接的度（平均连接度）\n",
    "nx.degree(FG)#每个结点的度\n",
    "\n",
    "#找出某两个机场之间的所有路径\n",
    "all_path = nx.all_simple_paths(FG, source='JAX', target='DFW')\n",
    "for path in all_path:\n",
    "     print(path)\n",
    "    \n",
    "#找出最短路径（Dijkstra最短路径算法）\n",
    "dijpath = nx.dijkstra_path(FG, source='JAX', target='DFW')\n",
    "dijpath  \n",
    "    \n",
    "#找出最省时的路径\n",
    "shortpath = nx.dijkstra_path(FG, source='JAX', target='DFW', weight='air_time')\n",
    "shortpath\n",
    "\n",
    "#适合做中转的机场\n",
    "cc = nx.closeness_centrality(FG) \n",
    "top(cc)\n",
    "\n",
    "bc = nx.betweenness_centrality(FG)\n",
    "top(bc)"
   ]
  },
  {
   "cell_type": "code",
   "execution_count": null,
   "id": "678ed0fe",
   "metadata": {},
   "outputs": [],
   "source": []
  }
 ],
 "metadata": {
  "kernelspec": {
   "display_name": "Python 3 (ipykernel)",
   "language": "python",
   "name": "python3"
  },
  "language_info": {
   "codemirror_mode": {
    "name": "ipython",
    "version": 3
   },
   "file_extension": ".py",
   "mimetype": "text/x-python",
   "name": "python",
   "nbconvert_exporter": "python",
   "pygments_lexer": "ipython3",
   "version": "3.11.5"
  }
 },
 "nbformat": 4,
 "nbformat_minor": 5
}
