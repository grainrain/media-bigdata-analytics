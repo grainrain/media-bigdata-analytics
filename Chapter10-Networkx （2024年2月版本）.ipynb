{
 "cells": [
  {
   "cell_type": "markdown",
   "id": "b6fa4e1f",
   "metadata": {},
   "source": [
    "<center><h1>NetworkX</h1></center>"
   ]
  },
  {
   "cell_type": "markdown",
   "id": "5d8eceb3",
   "metadata": {},
   "source": [
    "Networkx 是一款用 python 语言开发的图论与复杂网络建模的工具，内置了常用的图与复种络分析算法，可以方便地进行复杂网络数据分析、仿真建模等工作。Networkx支持创建简单无向(Undirected Graph)、有向图(Directed Graph)和多重图(Multigraph);内置许多标准的图论算法结点可为任意数据;支持任意边值维度，功能丰富，简单易用。"
   ]
  },
  {
   "cell_type": "markdown",
   "id": "36a8372e",
   "metadata": {},
   "source": [
    "NetworkX支持创建简单无向图、有向图和多重图（multigraph）；内置许多标准的图论算法，节点可为任意数据；支持任意边值维度，功能丰富，简单易用。\n",
    "* NetworkX安装  \n",
    "* 无向图  \n",
    "* 有向图  \n",
    "* 实战体验：标注货物流向图  \n"
   ]
  },
  {
   "cell_type": "markdown",
   "id": "50b75560",
   "metadata": {},
   "source": [
    "# 10.1 NetworkX安装"
   ]
  },
  {
   "cell_type": "markdown",
   "id": "031c3c86",
   "metadata": {},
   "source": [
    "安装networkx，安装命令如下。\n",
    "> pip install networkx\n"
   ]
  },
  {
   "cell_type": "markdown",
   "id": "a9000bfb",
   "metadata": {},
   "source": [
    "<img src=\"image/Chapter10_1.png\" width=\"600\" height=\"600\" >"
   ]
  },
  {
   "cell_type": "markdown",
   "id": "b54fac7d",
   "metadata": {},
   "source": [
    "# 10.2 无向图"
   ]
  },
  {
   "cell_type": "markdown",
   "id": "9824402e",
   "metadata": {},
   "source": [
    "无向图的操作比较简单，首先导入networkx库。"
   ]
  },
  {
   "cell_type": "code",
   "execution_count": null,
   "id": "3c4372de",
   "metadata": {},
   "outputs": [],
   "source": [
    "import networkx as nx  \n",
    "import matplotlib.pyplot as plt"
   ]
  },
  {
   "cell_type": "markdown",
   "id": "a6b0d300",
   "metadata": {},
   "source": [
    "进行无向图的绘制首先得声明一个无向图，声明无向图的方法有以下三种。  \n",
    "① G = nx.Graph()：建立一个空的无向图G。  \n",
    "② G1 = nx.Graph([(1,2),(2,3),(1,3)])：构建G时指定结点数组来构建Graph对象。  \n",
    "③ G2 = nx.path_graph(10)：生成一个10个结点的路径无向图。 "
   ]
  },
  {
   "cell_type": "code",
   "execution_count": null,
   "id": "4fbc01fb",
   "metadata": {},
   "outputs": [],
   "source": [
    "G = nx.Graph()\n",
    "G1 = nx.Graph([(1,2),(2,3),(1,3)])  \n",
    "G2 = nx.path_graph(10)  "
   ]
  },
  {
   "cell_type": "markdown",
   "id": "4a2065f1",
   "metadata": {},
   "source": [
    "在无向图中定义一条边，代码如下。"
   ]
  },
  {
   "cell_type": "code",
   "execution_count": null,
   "id": "1632891e",
   "metadata": {},
   "outputs": [],
   "source": [
    "e=(2,4)              #定义个关系——一条边  \n",
    "G2.add_edge( *e)     #添加关系对象"
   ]
  },
  {
   "cell_type": "markdown",
   "id": "8bfd80c5",
   "metadata": {},
   "source": [
    "在无向图中增加一个结点，代码如下。"
   ]
  },
  {
   "cell_type": "code",
   "execution_count": null,
   "id": "736b940a",
   "metadata": {},
   "outputs": [],
   "source": [
    "G.add_node(1)     #添加一个结点1\n",
    "G.add_edge(2,3)   #添加一条边2-3（隐含着添加了两个结点2、3）\n",
    "G.add_edge(3,2)   #对于无向图，边3-2与边2-3被认为是一条边\n",
    "G.add_nodes_from([3,4,5,6])    #加点集合\n",
    "G.add_edges_from([(3,5),(3,6),(6,7)])  #加边集合\n",
    "nx.add_cycle(G, [1, 2, 3, 4]) #加环\n"
   ]
  },
  {
   "cell_type": "markdown",
   "id": "ef4ba6ff",
   "metadata": {},
   "source": [
    "输出结点和边，代码如下。"
   ]
  },
  {
   "cell_type": "code",
   "execution_count": null,
   "id": "c433ce18",
   "metadata": {},
   "outputs": [],
   "source": [
    "print(\"nodes:\", G.nodes())      #输出全部的结点：[1, 2, 3]\n",
    "print(\"edges:\", G.edges())      #输出全部的边：[(2, 3)]\n",
    "print(\"number of edges:\", G.number_of_edges())   #输出边的数量"
   ]
  },
  {
   "cell_type": "markdown",
   "id": "bfd6fc1d",
   "metadata": {},
   "source": [
    "运行代码输出结果如下。\n",
    "> nodes: [1, 2, 3, 4, 5, 6, 7]  \n",
    "edges: [(1, 2), (1, 4), (2, 3), (3, 5), (3, 6), (3, 4), (6, 7)]  \n",
    "number of edges: 7  "
   ]
  },
  {
   "cell_type": "markdown",
   "id": "0cf7f693",
   "metadata": {},
   "source": [
    "绘制无向图，输出如图所示"
   ]
  },
  {
   "cell_type": "code",
   "execution_count": null,
   "id": "af26d12f",
   "metadata": {},
   "outputs": [],
   "source": [
    "nx.draw(G,\n",
    "          with_labels = True, \n",
    "          font_color='white',\n",
    "          node_size=800,\n",
    "          pos=nx.circular_layout(G),\n",
    "          node_color='blue', \n",
    "          edge_color='red',\n",
    "          font_weight='bold')  #画出带有标签的图，标签粗体，让结点环形排列\n",
    "plt.savefig(\"file/yxt_cucn.png\")  #保存图片到本地\n",
    "plt.show()\n"
   ]
  },
  {
   "cell_type": "markdown",
   "id": "53f4a21a",
   "metadata": {},
   "source": [
    "```\n",
    "networkx画图参数如下。  \n",
    "●  node_size：指定结点的尺寸大小（默认是300）。\n",
    "●  node_color：指定结点的颜色（默认是红色），可以用字符串简单标识颜色。例如，r为红色，b为绿色等，具体可查看手册。用“数据字典”赋值的时候必须对字典取值（.values()）后再赋值。\n",
    "●  node_shape：结点的形状（默认是圆形，用字符串'o'标识，具体可查看手册）。\n",
    "●  alpha：透明度（默认是1.0，不透明，0为完全透明）。\n",
    "●  width：边的宽度（默认为1.0）。\n",
    "●  edge_color：边的颜色（默认为黑色）。\n",
    "●  style：边的样式（默认为实现，可选：solid|dashed|dotted,dashdot）。\n",
    "●  with_labels：结点是否带标签（默认为True）。\n",
    "●  font_size：结点标签字体大小（默认为12）。\n",
    "●  font_color：结点标签字体颜色（默认为黑色）。\n",
    "●  pos：布局指定结点排列形式。\n",
    "\n",
    "```"
   ]
  },
  {
   "cell_type": "markdown",
   "id": "01479852",
   "metadata": {},
   "source": [
    "例如，绘制结点的尺寸为30，不带标签的网络图，代码如下。"
   ]
  },
  {
   "cell_type": "code",
   "execution_count": null,
   "id": "3770f0ff",
   "metadata": {},
   "outputs": [],
   "source": [
    "nx.draw(G, node_size = 30, with_labels = False) "
   ]
  },
  {
   "cell_type": "markdown",
   "id": "70f93cb8",
   "metadata": {},
   "source": [
    "```\n",
    "建立布局，对图进行布局美化，布局指定结点排列形式的pos参数有如下5种形式。\n",
    "●  spring_layout：用Fruchterman-Reingold算法排列结点（样子类似多中心放射状）。\n",
    "●  circular_layout：结点在一个圆环上均匀分布。\n",
    "●  random_layout：结点随机分布。\n",
    "●  shell_layout：结点在同心圆上分布。\n",
    "●  spectral_layout：根据图的拉普拉斯特征向量排列结点。\n",
    "```"
   ]
  },
  {
   "cell_type": "code",
   "execution_count": null,
   "id": "9b7f8f4b",
   "metadata": {},
   "outputs": [],
   "source": [
    "# 例如\n",
    "pos = nx.spring_layout(G)"
   ]
  },
  {
   "cell_type": "markdown",
   "id": "3db61cb5",
   "metadata": {},
   "source": [
    "# 10.3 有向图"
   ]
  },
  {
   "cell_type": "markdown",
   "id": "2b14d8ce",
   "metadata": {},
   "source": [
    "有向图和无向图在操作上相差并不大，同样需要先声明一个有向图。"
   ]
  },
  {
   "cell_type": "code",
   "execution_count": null,
   "id": "dff48834",
   "metadata": {},
   "outputs": [],
   "source": [
    "import networkx as nx\n",
    "import matplotlib.pyplot as plt\n",
    "\n",
    "DG = nx.DiGraph()     #建立一个空的有向图DG \n",
    "DG = nx.path_graph(4, create_using=nx.DiGraph())\n",
    " #默认生成结点0、1、2、3，生成有向边0->1，1->2，2->3"
   ]
  },
  {
   "cell_type": "markdown",
   "id": "55a4c4bd",
   "metadata": {},
   "source": [
    "给有向图添加结点，也就添加了有向边。"
   ]
  },
  {
   "cell_type": "code",
   "execution_count": null,
   "id": "468eed0d",
   "metadata": {},
   "outputs": [],
   "source": [
    "nx.add_path(DG,[7, 8, 3]) #生成有向边7->8->3。或DG.add_edges_from([(7, 8), (8, 3)])"
   ]
  },
  {
   "cell_type": "markdown",
   "id": "545b3d05",
   "metadata": {},
   "source": [
    "绘制有向图同无向图"
   ]
  },
  {
   "cell_type": "code",
   "execution_count": null,
   "id": "060f69c2",
   "metadata": {},
   "outputs": [],
   "source": [
    "nx.draw(DG,\n",
    "          with_labels = True, \n",
    "          font_color='white',\n",
    "          node_size=800,\n",
    "          pos=nx.circular_layout(DG),\n",
    "          node_color='blue', \n",
    "          edge_color='red',\n",
    "          font_weight='bold') #画出带有标签的图，标签粗体，让结点环形排列\n",
    "plt.savefig(\"image/wxt_cucn.png\")  #保存图片到本地\n",
    "plt.show()"
   ]
  },
  {
   "cell_type": "markdown",
   "id": "5df692f2",
   "metadata": {},
   "source": [
    "输出如上图所示。  \n",
    "注意：有向图和无向图可以互相转换。"
   ]
  },
  {
   "cell_type": "code",
   "execution_count": null,
   "id": "2bf85fe4",
   "metadata": {},
   "outputs": [],
   "source": [
    "DG.to_undirected()  #有向图转无向图"
   ]
  },
  {
   "cell_type": "code",
   "execution_count": null,
   "id": "48ffcbd2",
   "metadata": {},
   "outputs": [],
   "source": [
    "G.to_directed()      #无向图转有向图"
   ]
  },
  {
   "cell_type": "markdown",
   "id": "f034b70f",
   "metadata": {},
   "source": [
    "# 10.4 实战体验：绘制货物流向图"
   ]
  },
  {
   "cell_type": "markdown",
   "id": "184aa54e",
   "metadata": {},
   "source": [
    "某人从广州向北京、上海、重庆、杭州发货的数据情况，现要求从图上标注发货流向。"
   ]
  },
  {
   "cell_type": "code",
   "execution_count": null,
   "id": "653d7290",
   "metadata": {},
   "outputs": [],
   "source": [
    "from pyecharts import options as opts\n",
    "from pyecharts.charts import Geo\n",
    "from pyecharts.globals import ChartType, SymbolType\n",
    "\n",
    "linegeo = (Geo()\n",
    "          .add_schema(maptype=\"china\")\n",
    "          .add(\"cucn\",\n",
    "               [(\"广州\", 55), (\"北京\", 66), (\"杭州\", 77), (\"重庆\", 88)],\n",
    "               type_=ChartType.EFFECT_SCATTER,\n",
    "               color=\"green\" )\n",
    "          .add(\"geo\",\n",
    "              [(\"广州\", \"上海\"), (\"广州\", \"北京\"), (\"广州\", \"杭州\"), (\"广州\", \"重庆\")],\n",
    "               type_=ChartType.LINES,\n",
    "               effect_opts=opts.EffectOpts(\n",
    "                    symbol=SymbolType.ARROW, symbol_size=6, color=\"blue\" ),\n",
    "               linestyle_opts=opts.LineStyleOpts(curve=0.2) )\n",
    "          .set_series_opts(label_opts=opts.LabelOpts(is_show=False))\n",
    "          .set_global_opts(title_opts=opts.TitleOpts(title=\"GeoLines\")))\n",
    "linegeo.render('file/qx.html')\n",
    "#linegeo.render_notebook()"
   ]
  },
  {
   "cell_type": "markdown",
   "id": "3762f7ab",
   "metadata": {},
   "source": [
    "<img src=\"image/Chapter10_2.gif\"  >"
   ]
  },
  {
   "cell_type": "code",
   "execution_count": null,
   "id": "54aedcad",
   "metadata": {},
   "outputs": [],
   "source": []
  }
 ],
 "metadata": {
  "kernelspec": {
   "display_name": "Python 3 (ipykernel)",
   "language": "python",
   "name": "python3"
  },
  "language_info": {
   "codemirror_mode": {
    "name": "ipython",
    "version": 3
   },
   "file_extension": ".py",
   "mimetype": "text/x-python",
   "name": "python",
   "nbconvert_exporter": "python",
   "pygments_lexer": "ipython3",
   "version": "3.11.5"
  }
 },
 "nbformat": 4,
 "nbformat_minor": 5
}
