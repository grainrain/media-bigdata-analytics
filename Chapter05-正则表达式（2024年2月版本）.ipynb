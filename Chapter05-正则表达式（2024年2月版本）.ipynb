{
 "cells": [
  {
   "cell_type": "markdown",
   "id": "288665e7",
   "metadata": {},
   "source": [
    "<center><h1>正则表达式</h1></center>"
   ]
  },
  {
   "cell_type": "markdown",
   "id": "f2a68f6a",
   "metadata": {},
   "source": [
    "# 正则表达式"
   ]
  },
  {
   "cell_type": "markdown",
   "id": "20036566",
   "metadata": {},
   "source": [
    "    正则表达式描述了一种字符串匹配的模式，可以用来检查一个字符串是否含有某种子串、将匹配的子串替换或者从某个字符串中取出符合某个条件的子串等。\n"
   ]
  },
  {
   "cell_type": "markdown",
   "id": "19bcd19c",
   "metadata": {},
   "source": [
    "* 基本规则 \n",
    "* match()、compile() 、findall()、rearch() \n",
    "* 字符串的替换和修改 \n",
    "* 格式化输出 \n"
   ]
  },
  {
   "cell_type": "markdown",
   "id": "b6810699",
   "metadata": {},
   "source": [
    "# 5.1 正则表达式基础"
   ]
  },
  {
   "cell_type": "markdown",
   "id": "c7986c20",
   "metadata": {},
   "source": [
    "例子：在爬取某网页中的所有的图片时，需要进行匹配，因为图片有jpg、png、gif等格式。下面的代码对百度贴吧网站上的jpg图片进行了匹配和下载。\n"
   ]
  },
  {
   "cell_type": "markdown",
   "id": "95474d72",
   "metadata": {},
   "source": [
    "【例5-1】对网站上的图片进行匹配并下载。\n"
   ]
  },
  {
   "cell_type": "code",
   "execution_count": 2,
   "id": "612e52e9",
   "metadata": {},
   "outputs": [],
   "source": [
    "import re                 # 导入正则表达式\n",
    "import urllib.request     # 获取网页源代码 \n",
    "# 获取网页源代码\n",
    "def getHtml(url):\n",
    "   page = urllib.request.urlopen(url)   # 打开url，返回页面对象\n",
    "   html = page.read().decode('utf-8')   # 读取页面源代码\n",
    "   return html\n",
    "# 获得图片地址\n",
    "def getImg(html):\n",
    "   reg = r'src=\"(.*?\\.jpg)\" size=\"' #定义一个正则表达式匹配页面当中的图片\n",
    "   imgre = re.compile(reg)           #为了让正则表达式更快，给它来个编译\n",
    "   imglist = re.findall(imgre, html) #通过正则表达式返回所有数据列表\n",
    "   # 根据地址逐个进行下载\n",
    "   x = 0 \n",
    "   for imgurl in imglist:\n",
    "       urllib.request.urlretrieve(imgurl,'image/%s.jpg' % x)\n",
    "html = getHtml(\"https://tieba.baidu.com/p/5154221980\")\n",
    "getImg(html)\n",
    "# urlretrieve直接将远程数据下载到本地\n"
   ]
  },
  {
   "cell_type": "markdown",
   "id": "23a72555",
   "metadata": {},
   "source": [
    "我们在网上填表时，经常需要填写手机号码，当只有输入数字才被接收时，就可以用正则表达式去匹配数字。一个数字可以用“\\d”匹配，而一个字母或数字可以用“\\w”匹配，“.”可以匹配任意字符。  \n",
    "> '00\\d'可以匹配'007'，但无法匹配'00A'，也就是说'00'后面只能是数字。 \n",
    "\n",
    "> '\\d\\d\\d'可以匹配'010'，只可匹配三位数字。  \n",
    "\n",
    "> '\\w\\w\\d'可以匹配'py3'，前两位可以是数字或者字母，但是第三位只能是数字。\n",
    "\n",
    "> 'py.'可以匹配'pyc'、'pyo'、'py!'等。  \n",
    "\n",
    "在正则表达式中，用*表示任意个字符（包括0个），用+表示至少一个字符，用?表示0个或1个字符，用{n}表示n个字符，用{n,m}表示n～m个字符。  \n"
   ]
  },
  {
   "cell_type": "markdown",
   "id": "df610589",
   "metadata": {},
   "source": [
    "下面看一个复杂的例子：\\d{3}\\s+\\d{3,8}。  \n",
    "从左到右解读如下。  \n",
    "（1）\\d{3}表示匹配3个数字，如'010'。  \n",
    "（2）\\s可以匹配一个空格（也包括Tab等空白符），所以\\s+表示至少有一个空格，如匹配' '，'   '等。  \n",
    "（3）\\d{3,8}表示匹配3～8个数字，如'1234567’。  \n",
    "\n",
    "综合以上，上述正则表达式可以匹配以任意个空格隔开的带区号为3个数字、号码为3～8个数字的电话号码，如'021  8234567'。  \n"
   ]
  },
  {
   "cell_type": "markdown",
   "id": "9a231da5",
   "metadata": {},
   "source": [
    "如果要匹配'010-12345'这样的号码呢？因为'-'是特殊字符，在正则表达式中，要用'\\'转义，所以正则式是\\d{3}\\-\\d{3,8}。  \n",
    "但是，仍然无法匹配'010 - 12345'，因为'-'两侧带有空格，所以需要更复杂的匹配方式。要做更精确的匹配，可以用[ ]表示范围。  \n"
   ]
  },
  {
   "cell_type": "markdown",
   "id": "ac227349",
   "metadata": {},
   "source": [
    "```\n",
    "[0-9a-zA-Z\\_]可以匹配一个数字、字母或者下画线。  \n",
    "[0-9a-zA-Z\\_]+可以匹配至少由一个数字、字母或者下画线组成的字符串，如'a100'，'0_Z'，'Py3000'等。  \n",
    "[a-zA-Z\\_][0-9a-zA-Z\\_]*可以匹配由字母或下画线开头，后接任意个由一个数字、字母或者下画线组成的字符串，也就是Python合法的变量。  \n",
    "[a-zA-Z\\_][0-9a-zA-Z\\_]{0, 19}更精确地限制了变量的长度是1～20个字符（前面1个字符+后面最多19个字符）。  \n",
    "A|B可以匹配A或B，所以(P|p)ython可以匹配'Python'或者'python'。  \n",
    "^表示行的开头，^\\d表示必须以数字开头。  \n",
    "$表示行的结束，\\d$表示必须以数字结束。  \n",
    "需要注意，py也可以匹配'python'，但是加上^py$就变成了整行匹配，就只能匹配'py'了。  \n",
    "```\n"
   ]
  },
  {
   "cell_type": "markdown",
   "id": "68671359",
   "metadata": {},
   "source": [
    "<img src=\"image/Chapter5_1.png\"  width=\"800\" height=\"800\">\n",
    "<center>正则表达式常用符号</center>"
   ]
  },
  {
   "cell_type": "markdown",
   "id": "cce64098",
   "metadata": {},
   "source": [
    "# 5.2 re模块"
   ]
  },
  {
   "cell_type": "markdown",
   "id": "09075af0",
   "metadata": {},
   "source": [
    "对字符串'dog rat dog'调用re.match()函数，查找模式匹配'dog'。"
   ]
  },
  {
   "cell_type": "code",
   "execution_count": 5,
   "id": "9d73c8b8",
   "metadata": {},
   "outputs": [
    {
     "data": {
      "text/plain": [
       "<re.Match object; span=(0, 3), match='dog'>"
      ]
     },
     "execution_count": 5,
     "metadata": {},
     "output_type": "execute_result"
    }
   ],
   "source": [
    "import re\n",
    "re.match(r'dog', 'dog rat dog')"
   ]
  },
  {
   "cell_type": "code",
   "execution_count": 6,
   "id": "9399f805",
   "metadata": {},
   "outputs": [
    {
     "data": {
      "text/plain": [
       "'dog'"
      ]
     },
     "execution_count": 6,
     "metadata": {},
     "output_type": "execute_result"
    }
   ],
   "source": [
    "m1  = re.match(r'dog', 'dog rat dog')\n",
    "m1.group(0)"
   ]
  },
  {
   "cell_type": "markdown",
   "id": "44c42bc7",
   "metadata": {},
   "source": [
    "但是，如果我们对 'rat'查找，则不会找到匹配。"
   ]
  },
  {
   "cell_type": "code",
   "execution_count": 8,
   "id": "8cf288bd",
   "metadata": {},
   "outputs": [],
   "source": [
    "re.match(r'rat', 'dog rat dog')"
   ]
  },
  {
   "cell_type": "markdown",
   "id": "39b424a0",
   "metadata": {},
   "source": [
    "match()函数判断是否匹配，如果匹配成功，返回一个match对象，否则返回None。\n"
   ]
  },
  {
   "cell_type": "code",
   "execution_count": 9,
   "id": "baddddc2",
   "metadata": {},
   "outputs": [
    {
     "name": "stdout",
     "output_type": "stream",
     "text": [
      "failed\n"
     ]
    }
   ],
   "source": [
    "test = '用户输入的字符串'\n",
    "if re.match(r'正则表达式', test):\n",
    "    print('ok')\n",
    "else:\n",
    "    print('failed')"
   ]
  },
  {
   "cell_type": "markdown",
   "id": "4784c00b",
   "metadata": {},
   "source": [
    "## 5.2.3 分组"
   ]
  },
  {
   "cell_type": "markdown",
   "id": "ff3a0eab",
   "metadata": {},
   "source": [
    "除了简单地判断是否匹配之外，正则表达式还有提取子串的强大功能。用()表示的即为要提取的分组（Group）。\n"
   ]
  },
  {
   "cell_type": "markdown",
   "id": "5d859d99",
   "metadata": {},
   "source": [
    "【例5-2】^(\\d{3})-(\\d{3,8})$分别定义了两个组，可以直接从匹配的字符串中提取出区号和本地号码。"
   ]
  },
  {
   "cell_type": "code",
   "execution_count": 10,
   "id": "7f535189",
   "metadata": {},
   "outputs": [
    {
     "data": {
      "text/plain": [
       "<re.Match object; span=(0, 9), match='010-12345'>"
      ]
     },
     "execution_count": 10,
     "metadata": {},
     "output_type": "execute_result"
    }
   ],
   "source": [
    "m = re.match(r'^(\\d{3})-(\\d{3,8})$', '010-12345')\n",
    "m"
   ]
  },
  {
   "cell_type": "code",
   "execution_count": 11,
   "id": "3e086fed",
   "metadata": {},
   "outputs": [
    {
     "data": {
      "text/plain": [
       "'010-12345'"
      ]
     },
     "execution_count": 11,
     "metadata": {},
     "output_type": "execute_result"
    }
   ],
   "source": [
    "m.group(0)"
   ]
  },
  {
   "cell_type": "code",
   "execution_count": 12,
   "id": "b40a206d",
   "metadata": {},
   "outputs": [
    {
     "data": {
      "text/plain": [
       "'010'"
      ]
     },
     "execution_count": 12,
     "metadata": {},
     "output_type": "execute_result"
    }
   ],
   "source": [
    "m.group(1)"
   ]
  },
  {
   "cell_type": "code",
   "execution_count": 13,
   "id": "105efa24",
   "metadata": {},
   "outputs": [
    {
     "data": {
      "text/plain": [
       "'12345'"
      ]
     },
     "execution_count": 13,
     "metadata": {},
     "output_type": "execute_result"
    }
   ],
   "source": [
    "m.group(2)"
   ]
  },
  {
   "cell_type": "markdown",
   "id": "981da913",
   "metadata": {},
   "source": [
    "如果正则表达式中定义了组，就可以在match对象上用group()方法提取出子串。注意到group(0)是原始字符串，group(1)、group(2)……表示第1、2……个子串。提取子串非常有用，举例如下。\n"
   ]
  },
  {
   "cell_type": "code",
   "execution_count": 15,
   "id": "9bc58b65",
   "metadata": {},
   "outputs": [],
   "source": [
    "t = '19:05:30'\n",
    "m = re.match(r'^(0[0-9]|1[0-9]|2[0-3]|[0-9])\\:(0[0-9]|1[0-9]|2[0-9]|3[0-9]|4[0-9]|5[0-9]|[0-9])\\:(0[0-9]|1[0-9]|2[0-9]|3[0-9]|4[0-9]|5[0-9]|[0-9])$', t)"
   ]
  },
  {
   "cell_type": "code",
   "execution_count": 16,
   "id": "b5ee412f",
   "metadata": {},
   "outputs": [
    {
     "data": {
      "text/plain": [
       "('19', '05', '30')"
      ]
     },
     "execution_count": 16,
     "metadata": {},
     "output_type": "execute_result"
    }
   ],
   "source": [
    "m.groups()"
   ]
  },
  {
   "cell_type": "markdown",
   "id": "03c66ba7",
   "metadata": {},
   "source": [
    "这个正则表达式可以直接识别合法的时间。但有些时候，用正则表达式也无法做到完全验证，识别日期代码如下。\n",
    "> '^(0[1-9]|1[0-2]|[0-9])-(0[1-9]|1[0-9]|2[0-9]|3[0-1]|[0-9])$'\n",
    "\n",
    "对于'2-30''4-31'这样的非法日期，用正则还是识别不了，或者说写出来非常困难，这时就需要程序配合识别了"
   ]
  },
  {
   "cell_type": "markdown",
   "id": "78caa46b",
   "metadata": {},
   "source": [
    "# 5.3  贪婪匹配"
   ]
  },
  {
   "cell_type": "markdown",
   "id": "58c64ffa",
   "metadata": {},
   "source": [
    "需要特别指出的是正则匹配默认是贪婪匹配，也就是匹配尽可能多的字符。"
   ]
  },
  {
   "cell_type": "markdown",
   "id": "888f5780",
   "metadata": {},
   "source": [
    "【例5-3】匹配出数字后面的0。\n"
   ]
  },
  {
   "cell_type": "code",
   "execution_count": 17,
   "id": "36036b3e",
   "metadata": {},
   "outputs": [
    {
     "data": {
      "text/plain": [
       "('102300', '')"
      ]
     },
     "execution_count": 17,
     "metadata": {},
     "output_type": "execute_result"
    }
   ],
   "source": [
    "re.match(r'^(\\d+)(0*)$', '102300').groups()"
   ]
  },
  {
   "cell_type": "markdown",
   "id": "fc2f7ae7",
   "metadata": {},
   "source": [
    "由于\\d+采用贪婪匹配，直接把后面的0全部匹配了，结果0*只能匹配空字符串了。  \n",
    "必须让\\d+采用非贪婪匹配（也就是尽可能少匹配），才能把后面的0匹配出来，加个?就可以让\\d+采用非贪婪匹配。\n"
   ]
  },
  {
   "cell_type": "code",
   "execution_count": 18,
   "id": "e293f1ed",
   "metadata": {},
   "outputs": [
    {
     "data": {
      "text/plain": [
       "('1023', '00')"
      ]
     },
     "execution_count": 18,
     "metadata": {},
     "output_type": "execute_result"
    }
   ],
   "source": [
    "re.match(r'^(\\d+?)(0*)$', '102300').groups()"
   ]
  },
  {
   "cell_type": "markdown",
   "id": "a116efa2",
   "metadata": {},
   "source": [
    "# 5.4 编译"
   ]
  },
  {
   "cell_type": "markdown",
   "id": "23a216d6",
   "metadata": {},
   "source": [
    "当我们在Python中使用正则表达式时，re模块内部会做两件事情。  \n",
    "（1）编译正则表达式，如果正则表达式的字符串本身不合法，会报错。  \n",
    "（2）用编译后的正则表达式去匹配字符串。  \n",
    "如果一个正则表达式要重复使用几千次，出于效率的考虑，我们可以预编译该正则表达式，接下来重复使用时就不再需要编译这个步骤，直接匹配。  "
   ]
  },
  {
   "cell_type": "code",
   "execution_count": 19,
   "id": "ce00d63e",
   "metadata": {},
   "outputs": [
    {
     "data": {
      "text/plain": [
       "('010', '12345')"
      ]
     },
     "execution_count": 19,
     "metadata": {},
     "output_type": "execute_result"
    }
   ],
   "source": [
    "import re\n",
    "re_telephone = re.compile(r'^(\\d{3})-(\\d{3,8})$') # 编译\n",
    "re_telephone.match('010-12345').groups()   # 使用"
   ]
  },
  {
   "cell_type": "code",
   "execution_count": 20,
   "id": "5b4fd490",
   "metadata": {},
   "outputs": [
    {
     "data": {
      "text/plain": [
       "('010', '8086')"
      ]
     },
     "execution_count": 20,
     "metadata": {},
     "output_type": "execute_result"
    }
   ],
   "source": [
    "re_telephone.match('010-8086').groups()   # 使用"
   ]
  },
  {
   "cell_type": "markdown",
   "id": "ac4dad9d",
   "metadata": {},
   "source": [
    "编译后生成Regular Expression对象，由于该对象自己包含了正则表达式，所以调用对应的方法时不用给出正则字符串。"
   ]
  },
  {
   "cell_type": "markdown",
   "id": "d8e070c1",
   "metadata": {},
   "source": [
    "# 5.5 正则函数"
   ]
  },
  {
   "cell_type": "code",
   "execution_count": null,
   "id": "536af6a4",
   "metadata": {},
   "outputs": [],
   "source": [
    "在Python中，re模块提供了以下几个函数对输入的字符串进行准确的查询，具体如下。"
   ]
  },
  {
   "cell_type": "markdown",
   "id": "65d1f873",
   "metadata": {},
   "source": [
    "* re.compile()\n",
    "* re.match()\n",
    "* re.search()\n",
    "* re.findall()"
   ]
  },
  {
   "cell_type": "markdown",
   "id": "66b3cee7",
   "metadata": {},
   "source": [
    "每一个函数都接收一个正则表达式和一个待匹配的字符串"
   ]
  },
  {
   "cell_type": "markdown",
   "id": "382f461f",
   "metadata": {},
   "source": [
    "## 5.5.1 re.compile()函数"
   ]
  },
  {
   "cell_type": "markdown",
   "id": "8c79d872",
   "metadata": {},
   "source": [
    "re.compile()函数编译正则表达式模式，返回一个对象。可以把常用的正则表达式编译成正则表达式对象，方便后续调用及提高效率。  \n",
    "re.compile(pattern, flags=0)  \n",
    "pattern：指定编译时的表达式字符串。  \n",
    "flags：编译标志位，用来修改正则表达式的匹配方式。支持re.L|re.M同时匹配flags标志位参数。  \n",
    "●  re.I(re.IGNORECASE)：使匹配对大小写不敏感。  \n",
    "●  re.L(re.LOCAL)：做本地化识别（Locale-aware）匹配。  \n",
    "●  re.M(re.MULTILINE)：多行匹配，影响^和 $。  \n",
    "●  re.S(re.DOTALL)：使.匹配包括换行在内的所有字符。  \n",
    "●  re.U(re.UNICODE)：根据Unicode字符集解析字符。这个标志影响\\w，\\W，\\b，\\B.。  \n",
    "●  re.X(re.VERBOSE)：该标志通过给予更灵活的格式以便将正则表达式写得更易于理解。  \n"
   ]
  },
  {
   "cell_type": "markdown",
   "id": "a4bba779",
   "metadata": {},
   "source": [
    "re.compile()函数的用法示例如下。"
   ]
  },
  {
   "cell_type": "code",
   "execution_count": 23,
   "id": "00da663a",
   "metadata": {},
   "outputs": [
    {
     "name": "stdout",
     "output_type": "stream",
     "text": [
      "<class 're.Pattern'>\n"
     ]
    }
   ],
   "source": [
    "import re\n",
    "content = 'Citizen wang, always fall in love with neighbour，WANG'\n",
    "rr = re.compile(r'wan\\w', re.I) # 不区分大小写\n",
    "print(type(rr))"
   ]
  },
  {
   "cell_type": "code",
   "execution_count": 24,
   "id": "7f728f90",
   "metadata": {},
   "outputs": [
    {
     "name": "stdout",
     "output_type": "stream",
     "text": [
      "<class 'list'>\n",
      "['wang', 'WANG']\n"
     ]
    }
   ],
   "source": [
    "a = rr.findall(content)\n",
    "print(type(a))\n",
    "print(a)\n"
   ]
  },
  {
   "cell_type": "markdown",
   "id": "44b5605e",
   "metadata": {},
   "source": [
    "## 5.5.2 re.match()函数"
   ]
  },
  {
   "cell_type": "markdown",
   "id": "4e45c375",
   "metadata": {},
   "source": [
    "re.match()函数总是从字符串“开头匹配”，并返回匹配的字符串的match对象<class '_sre.SRE_Match’>。\n",
    "格式如下:\n",
    "> re.match(pattern, string[, flags=0])  \n",
    "> pattern：匹配模式，由re.compile获得。  \n",
    "> string： 需要匹配的字符串。  \n",
    "\n",
    "re.match()函数的工作方式是只有当被搜索字符串的开头匹配模式的时候，它才能查找到匹配对象。\n"
   ]
  },
  {
   "cell_type": "markdown",
   "id": "ebdfe9ad",
   "metadata": {},
   "source": [
    "【例5-4】对字符串'dog rat dog'调用re.match()函数，查找模式匹配'dog'。"
   ]
  },
  {
   "cell_type": "code",
   "execution_count": 26,
   "id": "e9936835",
   "metadata": {},
   "outputs": [
    {
     "data": {
      "text/plain": [
       "<re.Match object; span=(0, 3), match='dog'>"
      ]
     },
     "execution_count": 26,
     "metadata": {},
     "output_type": "execute_result"
    }
   ],
   "source": [
    "import re\n",
    "re.match(r'dog', 'dog rat dog')"
   ]
  },
  {
   "cell_type": "code",
   "execution_count": 27,
   "id": "6ddad3f8",
   "metadata": {},
   "outputs": [
    {
     "data": {
      "text/plain": [
       "'dog'"
      ]
     },
     "execution_count": 27,
     "metadata": {},
     "output_type": "execute_result"
    }
   ],
   "source": [
    "m1  = re.match(r'dog', 'dog rat dog')\n",
    "m1.group(0)"
   ]
  },
  {
   "cell_type": "markdown",
   "id": "1ab8c391",
   "metadata": {},
   "source": [
    "但是，如果我们对 'rat'查找，则不会找到匹配。"
   ]
  },
  {
   "cell_type": "code",
   "execution_count": 28,
   "id": "2ab20f62",
   "metadata": {},
   "outputs": [],
   "source": [
    "re.match(r'rat', 'dog rat dog')"
   ]
  },
  {
   "cell_type": "markdown",
   "id": "b4b6d9b7",
   "metadata": {},
   "source": [
    "再如（见书P100）"
   ]
  },
  {
   "cell_type": "markdown",
   "id": "2afd49e4",
   "metadata": {},
   "source": [
    "## 5.5.3 re.search()函数"
   ]
  },
  {
   "cell_type": "markdown",
   "id": "520e4e70",
   "metadata": {},
   "source": [
    "re.search()函数对整个字符串进行搜索匹配，返回第一个匹配的字符串的match对象。格式如下。  \n",
    "re.search(pattern, string[, flags=0])  \n",
    "pattern：匹配模式，由re.compile获得。  \n",
    "string：需要匹配的字符串。  \n",
    "re.search()函数和re.match()函数类似，不过re.search()函数不会限制我们只从字符串的开头查找匹配，在【例5-4】的字符串中查找'rat'会查找到一个匹配。\n"
   ]
  },
  {
   "cell_type": "code",
   "execution_count": 29,
   "id": "a31bed01",
   "metadata": {},
   "outputs": [
    {
     "data": {
      "text/plain": [
       "'rat'"
      ]
     },
     "execution_count": 29,
     "metadata": {},
     "output_type": "execute_result"
    }
   ],
   "source": [
    "m21 = re.search(r'rat', 'dog rat dog')\n",
    "m21.group(0)"
   ]
  },
  {
   "cell_type": "markdown",
   "id": "192713b9",
   "metadata": {},
   "source": [
    "然而re.search()函数会在它查找到一个匹配项之后停止继续查找，因此在示例字符串中用re.search()函数查找'dog'只找到其首次出现的位置。\n"
   ]
  },
  {
   "cell_type": "code",
   "execution_count": 30,
   "id": "18dad554",
   "metadata": {},
   "outputs": [
    {
     "data": {
      "text/plain": [
       "'dog'"
      ]
     },
     "execution_count": 30,
     "metadata": {},
     "output_type": "execute_result"
    }
   ],
   "source": [
    "m22 = re.search(r'dog', 'dog rat dog')\n",
    "m22.group(0)"
   ]
  },
  {
   "cell_type": "markdown",
   "id": "bebfc0d9",
   "metadata": {},
   "source": [
    "其他代码见P101"
   ]
  },
  {
   "cell_type": "markdown",
   "id": "0715b950",
   "metadata": {},
   "source": [
    "## 5.5.4 re.findall() 函数"
   ]
  },
  {
   "cell_type": "code",
   "execution_count": null,
   "id": "d10d7354",
   "metadata": {},
   "outputs": [],
   "source": [
    "在Python中使用最多的查找方法是调用re.findall()函数。当我们调用re.findall()函数时可以非常简单地得到一个所有匹配模式的列表，而不是得到match的对象。对示例字符串调用re.findall()函数得到结果如下。"
   ]
  },
  {
   "cell_type": "code",
   "execution_count": 31,
   "id": "2930de18",
   "metadata": {},
   "outputs": [
    {
     "data": {
      "text/plain": [
       "['dog', 'dog']"
      ]
     },
     "execution_count": 31,
     "metadata": {},
     "output_type": "execute_result"
    }
   ],
   "source": [
    "re.findall(r'dog', 'dog rat dog')"
   ]
  },
  {
   "cell_type": "code",
   "execution_count": 32,
   "id": "6475cf5d",
   "metadata": {},
   "outputs": [
    {
     "data": {
      "text/plain": [
       "['rat']"
      ]
     },
     "execution_count": 32,
     "metadata": {},
     "output_type": "execute_result"
    }
   ],
   "source": [
    "re.findall(r'rat', 'dog rat dog')"
   ]
  },
  {
   "cell_type": "markdown",
   "id": "5c0e7052",
   "metadata": {},
   "source": [
    "## 5.5.5 字符串的替换和修改"
   ]
  },
  {
   "cell_type": "markdown",
   "id": "799b09da",
   "metadata": {},
   "source": [
    "re模块还提供了对字符串的替换和修改函数，它们比字符串对象提供的函数功能要强大。\n",
    "> sub (rule , replace , target [,count] )  \n",
    "> subn(rule , replace , target [,count] )  \n",
    "\n",
    "在目标字符串中按规则查找匹配的字符串，再把它们替换成指定的字符串。我们可以指定被替换的次数，否则将替换所有匹配到的字符串。\n",
    "第一个参数是正则规则，第二个参数是将要被替换的字符串，第三个参数是目标字符串，第四个参数是被替换的次数。这两个函数的唯一区别是返回值。sub返回一个被替换的字符串，subn返回一个元组，第一个元素是被替换的字符串，第二个元素是一个数字，表明产生了多少次替换。\n"
   ]
  },
  {
   "cell_type": "markdown",
   "id": "aaa21f11",
   "metadata": {},
   "source": [
    "【例5-5】将下面字符串中的'dog'全部替换成'cat'。"
   ]
  },
  {
   "cell_type": "code",
   "execution_count": 33,
   "id": "22e659e9",
   "metadata": {},
   "outputs": [
    {
     "data": {
      "text/plain": [
       "'I have a cat , you have a cat , he have a cat'"
      ]
     },
     "execution_count": 33,
     "metadata": {},
     "output_type": "execute_result"
    }
   ],
   "source": [
    "s='I have a dog , you have a dog , he have a dog'\n",
    "re.sub( r'dog' , 'cat' , s )"
   ]
  },
  {
   "cell_type": "markdown",
   "id": "1f7ed596",
   "metadata": {},
   "source": [
    "如果只想替换前面两个，则可以写如下代码。"
   ]
  },
  {
   "cell_type": "code",
   "execution_count": 34,
   "id": "a98e976f",
   "metadata": {},
   "outputs": [
    {
     "data": {
      "text/plain": [
       "'I have a cat , you have a cat , he have a dog'"
      ]
     },
     "execution_count": 34,
     "metadata": {},
     "output_type": "execute_result"
    }
   ],
   "source": [
    "re.sub( r'dog' , 'cat' , s , 2 )"
   ]
  },
  {
   "cell_type": "markdown",
   "id": "7a919597",
   "metadata": {},
   "source": [
    "或者我们想知道发生了多少次替换，则可以使用subn。"
   ]
  },
  {
   "cell_type": "code",
   "execution_count": 35,
   "id": "ac8bbd00",
   "metadata": {},
   "outputs": [
    {
     "data": {
      "text/plain": [
       "('I have a cat , you have a cat , he have a cat', 3)"
      ]
     },
     "execution_count": 35,
     "metadata": {},
     "output_type": "execute_result"
    }
   ],
   "source": [
    "re.subn( r'dog' , 'cat' , s )"
   ]
  },
  {
   "cell_type": "markdown",
   "id": "3c538f44",
   "metadata": {},
   "source": [
    "# 5.6 格式化输出"
   ]
  },
  {
   "cell_type": "markdown",
   "id": "cac46121",
   "metadata": {},
   "source": [
    "Python的格式化输出有两种方式：%和format。\n",
    "format的功能要比%方式强大，其中format可以自定义字符填充空白、字符串居中显示、转换二进制、整数自动分割、百分比显示等功能。   \n",
    "Python3.6之后新增了f格式化。"
   ]
  },
  {
   "cell_type": "markdown",
   "id": "16bac826",
   "metadata": {},
   "source": [
    "## 5.6.1 使用%进行格式化"
   ]
  },
  {
   "cell_type": "markdown",
   "id": "6b6434d1",
   "metadata": {},
   "source": [
    "首先看一个用%进行格式化的代码示例。"
   ]
  },
  {
   "cell_type": "code",
   "execution_count": 1,
   "id": "83d5f5b5",
   "metadata": {},
   "outputs": [
    {
     "name": "stdout",
     "output_type": "stream",
     "text": [
      "He said his name is Tomcat.\n"
     ]
    }
   ],
   "source": [
    "name1 = \"Tomcat\"\n",
    "print(\"He said his name is %s.\" %name1)\n"
   ]
  },
  {
   "cell_type": "markdown",
   "id": "2c6b89b9",
   "metadata": {},
   "source": [
    "字符串引号内的%为格式化的开始，类似于占位符，其后s表示占位处要补充的是字符型，紧跟在引号之后的%为需要填充的内容。使用这种方式进行字符串格式化时，要求被格式化的内容和格式字符之间必须一一对应。  \n",
    "用%进行格式化时：%d表示数值（取整）占位，%f表示浮点型占位。\n"
   ]
  },
  {
   "cell_type": "code",
   "execution_count": 1,
   "id": "4bc05b3d",
   "metadata": {},
   "outputs": [
    {
     "ename": "TypeError",
     "evalue": "%d format: a real number is required, not str",
     "output_type": "error",
     "traceback": [
      "\u001b[1;31m---------------------------------------------------------------------------\u001b[0m",
      "\u001b[1;31mTypeError\u001b[0m                                 Traceback (most recent call last)",
      "Cell \u001b[1;32mIn[1], line 2\u001b[0m\n\u001b[0;32m      1\u001b[0m name1\u001b[38;5;241m=\u001b[39m\u001b[38;5;124m\"\u001b[39m\u001b[38;5;124mTomcat\u001b[39m\u001b[38;5;124m\"\u001b[39m\n\u001b[1;32m----> 2\u001b[0m \u001b[38;5;28mprint\u001b[39m(\u001b[38;5;124m\"\u001b[39m\u001b[38;5;124mHe said his name is \u001b[39m\u001b[38;5;132;01m%d\u001b[39;00m\u001b[38;5;124m.\u001b[39m\u001b[38;5;124m\"\u001b[39m\u001b[38;5;241m%\u001b[39mname1)\n",
      "\u001b[1;31mTypeError\u001b[0m: %d format: a real number is required, not str"
     ]
    }
   ],
   "source": [
    "name1=\"Tomcat\"\n",
    "print(\"He said his name is %d.\"%name1)\n"
   ]
  },
  {
   "cell_type": "code",
   "execution_count": 2,
   "id": "af28916a",
   "metadata": {},
   "outputs": [
    {
     "data": {
      "text/plain": [
       "'i am alex age 18'"
      ]
     },
     "execution_count": 2,
     "metadata": {},
     "output_type": "execute_result"
    }
   ],
   "source": [
    "\"i am %(name)s age %(age)d\" % {\"name\": \"alex\", \"age\": 18}"
   ]
  },
  {
   "cell_type": "code",
   "execution_count": 3,
   "id": "4c2975b8",
   "metadata": {},
   "outputs": [
    {
     "data": {
      "text/plain": [
       "'percent 99.98'"
      ]
     },
     "execution_count": 3,
     "metadata": {},
     "output_type": "execute_result"
    }
   ],
   "source": [
    "\"percent %.2f\" % 99.97623"
   ]
  },
  {
   "cell_type": "code",
   "execution_count": 4,
   "id": "fa479445",
   "metadata": {},
   "outputs": [
    {
     "data": {
      "text/plain": [
       "'i am 123.43'"
      ]
     },
     "execution_count": 4,
     "metadata": {},
     "output_type": "execute_result"
    }
   ],
   "source": [
    "\"i am %(pp).2f\" % {\"pp\": 123.425556 }"
   ]
  },
  {
   "cell_type": "code",
   "execution_count": 5,
   "id": "1407f150",
   "metadata": {},
   "outputs": [
    {
     "data": {
      "text/plain": [
       "'i am +123.43 %'"
      ]
     },
     "execution_count": 5,
     "metadata": {},
     "output_type": "execute_result"
    }
   ],
   "source": [
    "\"i am %(pp)+.2f %%\" % {\"pp\": 123.425556,} #两个%%表示输出一个%"
   ]
  },
  {
   "cell_type": "markdown",
   "id": "fb840cd3",
   "metadata": {},
   "source": [
    "## 5.6.2 使用format()函数进行格式化"
   ]
  },
  {
   "cell_type": "markdown",
   "id": "e212927c",
   "metadata": {},
   "source": [
    "除了%字符串格式化方法之外，推荐使用format()函数进行格式化，该方法非常灵活，不仅可以使用位置进行格式化，还支持使用关键参数进行格式化。\n",
    "Python中format()函数用于字符串的格式化。\n"
   ]
  },
  {
   "cell_type": "markdown",
   "id": "0d47062e",
   "metadata": {},
   "source": [
    "### 1.通过关键字"
   ]
  },
  {
   "cell_type": "code",
   "execution_count": 6,
   "id": "22b23aa0",
   "metadata": {},
   "outputs": [
    {
     "name": "stdout",
     "output_type": "stream",
     "text": [
      "陈某某今天拍视频\n",
      "陈某某电工考了59\n"
     ]
    }
   ],
   "source": [
    "print('{名字}今天{动作}'.format(名字='陈某某',动作='拍视频'))#通过关键字\n",
    "grade = {'name' : '陈某某', 'fenshu': '59'}\n",
    "print('{name}电工考了{fenshu}'.format(**grade))#通过关键字，可用字典当关键字传入值时，在字典前加**即可"
   ]
  },
  {
   "cell_type": "markdown",
   "id": "10a3a0cf",
   "metadata": {},
   "source": [
    "### 2.通过位置"
   ]
  },
  {
   "cell_type": "code",
   "execution_count": 7,
   "id": "3466e590",
   "metadata": {},
   "outputs": [
    {
     "name": "stdout",
     "output_type": "stream",
     "text": [
      "陈某某今天拍视频\n",
      "陈某某今天拍视频\n"
     ]
    }
   ],
   "source": [
    "print('{1}今天{0}'.format('拍视频','陈某某'))#通过位置\n",
    "print('{0}今天{1}'.format('陈某某','拍视频'))"
   ]
  },
  {
   "cell_type": "markdown",
   "id": "38eb4d6e",
   "metadata": {},
   "source": [
    "^、<、>分别表示居中、左对齐、右对齐，后面带宽度。"
   ]
  },
  {
   "cell_type": "code",
   "execution_count": 8,
   "id": "b33b5ec7",
   "metadata": {},
   "outputs": [
    {
     "name": "stdout",
     "output_type": "stream",
     "text": [
      "     陈某某      \n",
      "           陈某某\n",
      "陈某某           \n",
      "陈某某***********\n",
      "&&&&&&&&&&&陈某某\n"
     ]
    }
   ],
   "source": [
    "print('{:^14}'.format('陈某某'))  #共占位14个宽度，陈某某居中\n",
    "print('{:>14}'.format('陈某某'))  #共占位14个宽度，陈某某居右对齐\n",
    "print('{:<14}'.format('陈某某'))  #共占位14个宽度，陈某某居左对齐\n",
    "print('{:*<14}'.format('陈某某')) #共占位14个宽度，陈某某居左对齐其他的*填充\n",
    "print('{:&>14}'.format('陈某某')) #共占位14个宽度，陈某某居右对齐其他的&填充\n",
    "#填充和对齐^<>分别表示居中、左对齐、右对齐，后面14是总宽度（一个汉字为一个宽度）\n"
   ]
  },
  {
   "cell_type": "markdown",
   "id": "44b1a81b",
   "metadata": {},
   "source": [
    "### 3.f方法格式化"
   ]
  },
  {
   "cell_type": "markdown",
   "id": "d10d61f4",
   "metadata": {},
   "source": [
    "在普通字符串前添加f或F前缀，其效果类似于%方式或者format()。\n",
    "示例如下。"
   ]
  },
  {
   "cell_type": "code",
   "execution_count": 9,
   "id": "fa9767b9",
   "metadata": {},
   "outputs": [
    {
     "name": "stdout",
     "output_type": "stream",
     "text": [
      "He said his name is Fred.\n"
     ]
    }
   ],
   "source": [
    "name1 = \"Fred\"\n",
    "print(\"He said his name is %s.\" %name1)"
   ]
  },
  {
   "cell_type": "code",
   "execution_count": 10,
   "id": "b95a7a84",
   "metadata": {},
   "outputs": [
    {
     "name": "stdout",
     "output_type": "stream",
     "text": [
      "He said his name is Fred.\n"
     ]
    }
   ],
   "source": [
    "print(\"He said his name is {name1}.\".format(**locals()))"
   ]
  },
  {
   "cell_type": "code",
   "execution_count": 11,
   "id": "ae56256d",
   "metadata": {},
   "outputs": [
    {
     "data": {
      "text/plain": [
       "'He said his name is Fred.'"
      ]
     },
     "execution_count": 11,
     "metadata": {},
     "output_type": "execute_result"
    }
   ],
   "source": [
    "f\"He said his name is {name1}.\"      #py3.6之后才有的新功能"
   ]
  },
  {
   "cell_type": "markdown",
   "id": "220ddc39",
   "metadata": {},
   "source": [
    "# 5.7 实战体验：验证信息的正则表达式"
   ]
  },
  {
   "cell_type": "markdown",
   "id": "116256ff",
   "metadata": {},
   "source": [
    "在填写个人信息时，对有些信息需要进行验证，如手机号码、身份证、E-mail等。  \n",
    "下面对从键盘输入的E-mail进行验证，代码如下。"
   ]
  },
  {
   "cell_type": "code",
   "execution_count": 12,
   "id": "ac14fa13",
   "metadata": {},
   "outputs": [
    {
     "name": "stdout",
     "output_type": "stream",
     "text": [
      "Please input your E-mail：\n",
      "22@qq.com\n",
      "E-mail is Right!\n"
     ]
    }
   ],
   "source": [
    "import re  \n",
    "text = input(\"Please input your E-mail：\\n\")  \n",
    "if re.match(r'^\\w+([-+.]\\w+)*@\\w+([-.]\\w+)*\\.\\w+([-.]\\w+)*$', text):  \n",
    "    print('E-mail is Right!')  \n",
    "else:  \n",
    "    print('Wrong!Please reset your right E-mail!')  \n"
   ]
  },
  {
   "cell_type": "code",
   "execution_count": 15,
   "id": "35ba0d71",
   "metadata": {},
   "outputs": [
    {
     "name": "stdout",
     "output_type": "stream",
     "text": [
      "Please input your E-mail：\n",
      "123@\n",
      "Wrong!Please reset your right E-mail!\n"
     ]
    }
   ],
   "source": [
    "text = input(\"Please input your E-mail：\\n\")  \n",
    "if re.match(r'^\\w+([-+.]\\w+)*@\\w+([-.]\\w+)*\\.\\w+([-.]\\w+)*$',text):  \n",
    "   print('E-mail is Right!')  \n",
    "else:  \n",
    "   print('Wrong!Please reset your right E-mail!')  "
   ]
  },
  {
   "cell_type": "markdown",
   "id": "7b9ef5a1",
   "metadata": {},
   "source": [
    "对于判断输入的身份证号码，可以将匹配规则进行以下替换。  \n",
    "> ^([0-9]){7,18}(x|X)?$   \n",
    "\n",
    "或  \n",
    "\n",
    "> ^\\d{8,18}|[0-9x]{8,18}|[0-9X]{8,18}?$  \n",
    "\n",
    "若是判断输入的是手机号码，则进行如下替换。  \n",
    ">  ^(13[0-9]|14[5|7]|15[0|1|2|3|5|6|7|8|9]|18[0|1|2|3|5|6|7|8|9])\\d{8}$  \n"
   ]
  },
  {
   "cell_type": "markdown",
   "id": "b87153dd",
   "metadata": {},
   "source": [
    "下面收集和整理了一些可以判断的规则。\n",
    "### 1．校验数字的表达式"
   ]
  },
  {
   "cell_type": "markdown",
   "id": "ba5316e5",
   "metadata": {},
   "source": [
    "```\n",
    "（1）数字：^[0-9]*$。    \n",
    "（2）n位的数字：^\\d{n}$。    \n",
    "（3）至少n位的数字：^\\d{n,}$。    \n",
    "（4）m～n位的数字：^\\d{m,n}$。    \n",
    "（5）零和非零开头的数字：^(0|[1-9][0-9]*)$。    \n",
    "（6）非零开头的最多带两位小数的数字：^([1-9][0-9]*)+(.[0-9]{1,2})?$。    \n",
    "（7）带1～2位小数的正数或负数：^(\\-)?\\d+(\\.\\d{1,2})?$。    \n",
    "（8）正数、负数和小数：^(\\-|\\+)?\\d+(\\.\\d+)?$。    \n",
    "（9）有两位小数的正实数：^[0-9]+(.[0-9]{2})?$。    \n",
    "（10）有1～3位小数的正实数：^[0-9]+(.[0-9]{1,3})?$。    \n",
    "（11）非零的正整数：^[1-9]\\d*$、^([1-9][0-9]*){1,3}$ 或^\\+?[1-9][0-9]*$。   \n",
    "（12）非零的负整数：^\\-[1-9][]0-9\"*$ 或^-[1-9]\\d*$。    \n",
    "（13）非负整数：^\\d+$ 或^[1-9]\\d*|0$。    \n",
    "（14）非正整数：^-[1-9]\\d*|0$ 或^((-\\d+)|(0+))$。    \n",
    "（15）非负浮点数：^\\d+(\\.\\d+)?$ 或^[1-9]\\d*\\.\\d*|0\\.\\d*[1-9]\\d*|0?\\.0+|0$。    \n",
    "```"
   ]
  },
  {
   "cell_type": "markdown",
   "id": "24202403",
   "metadata": {},
   "source": [
    "### 2．校验字符的表达式\n"
   ]
  },
  {
   "cell_type": "markdown",
   "id": "7d0ea204",
   "metadata": {},
   "source": [
    "```\n",
    "（1）汉字：^[\\u4e00-\\u9fa5]{0,}$。\n",
    "（2）英文和数字：^[A-Za-z0-9]+$ 或^[A-Za-z0-9]{4,40}$。\n",
    "（3）长度为3～20的所有字符：^.{3,20}$。\n",
    "（4）由26个英文字母组成的字符串：^[A-Za-z]+$。\n",
    "（5）由26个大写英文字母组成的字符串：^[A-Z]+$。\n",
    "（6）由26个小写英文字母组成的字符串：^[a-z]+$。\n",
    "（7）由数字和26个英文字母组成的字符串：^[A-Za-z0-9]+$。\n",
    "（8）由数字、26个英文字母或者下画线组成的字符串：^\\w+$ 或^\\w{3,20}$。\n",
    "（9）中文、英文、数字包括下画线：^[\\u4E00-\\u9FA5A-Za-z0-9_]+$。\n",
    "（10）中文、英文、数字但不包括下画线等符号：^[\\u4E00-\\u9FA5A-Za-z0-9]+$ 或^[\\u4E00-\\u9FA5A-Za-z0-9]{2,20}$。\n",
    "```"
   ]
  },
  {
   "cell_type": "markdown",
   "id": "6f2ee4af",
   "metadata": {},
   "source": [
    "### 3．特殊需求表达式\n"
   ]
  },
  {
   "cell_type": "markdown",
   "id": "fbed8632",
   "metadata": {},
   "source": [
    "```\n",
    "（1）E-mail地址：^\\w+([-+.]\\w+)*@\\w+([-.]\\w+)*\\.\\w+([-.]\\w+)*$。\n",
    "（2）域名：[a-zA-Z0-9][-a-zA-Z0-9]{0,62}(/.[a-zA-Z0-9][-a-zA-Z0-9]{0,62})+/.?。\n",
    "（3）InternetURL：[a-zA-z]+://[^\\s]* 或^http://([\\w-]+\\.)+[\\w-]+(/[\\w-./?%&=]*)?$。\n",
    "（4）手机号码：^(13[0-9]|14[5|7]|15[0|1|2|3|5|6|7|8|9]|18[0|1|2|3|5|6|7|8|9])\\d{8}$。\n",
    "（5）电话号码（\"×××-×××××××\"\"××××-××××××××\"\"×××-×××××××\"\u000b",
    "\"×××-××××××××\"、\"×××××××\"和\"××××××××）：^(\\(\\d{3,4}-)|\\d{3.4}-)? \\d{7,8}$。\n",
    "（6）国内电话号码（0511-4405222、021-87888822）：\\d{3}-\\d{8}|\\d{4}-\\d{7}。\n",
    "（7）身份证号（15位、18位数字）：^\\d{15}|\\d{18}$。\n",
    "（8）短身份证号码（数字、字母x结尾）：^([0-9]){7,18}(x|X)?$ 或^\\d{8,18}|[0-9x]{8,18}| [0-9X]{8,18}?$。\n",
    "（9）账号是否合法（字母开头，允许5～16字节，允许字母数字下画线）：^[a-zA-Z] [a-zA-Z0-9_]{4,15}$。\n",
    "（10）密码（以字母开头，长度为6～18，只能包含字母、数字和下画线）：^[a-zA-Z]\\w {5,17}$。\n",
    "（11）强密码（必须包含大小写字母和数字的组合，不能使用特殊字符，长度为8～10）：^(?=.*\\d)(?=.*[a-z])(?=.*[A-Z]).{8,10}$。\n",
    "（12）日期格式：^\\d{4}-\\d{1,2}-\\d{1,2}。\n",
    "（13）一年的12个月（01～09和1～12）：^(0?[1-9]|1[0-2])$。\n",
    "（14）一个月的31天（01～09和1～31）：^((0?[1-9])|((1|2)[0-9])|30|31)$。\n",
    "（15）钱的输入格式，有4种钱的表示形式可以接收，\"10000.00\" 和 \"10,000.00\"，没有“分”的\"10000\"和\"10,000\"：^[1-9][0-9]*$。\n",
    "（16）空白行的正则表达式：\\n\\s*\\r (可以用来删除空白行)。\n",
    "（17）首尾空白字符的正则表达式：^\\s*|\\s*$或(^\\s*)|(\\s*$)，可以用来删除行首行尾的空白字符（包括空格、制表符、换页符等）。\n",
    "（18）中国邮政编码（6位数字）：[1-9]\\d{5}(?!\\d)。\n",
    "（19）IP地址：\\d+\\.\\d+\\.\\d+\\.\\d+ （提取IP地址时有用）。\n",
    "（20）IP地址：((?:(?:25[0-5]|2[0-4]\\\\d|[01]?\\\\d?\\\\d)\\\\.){3}(?:25[0-5]|2[0-4]\\\\d|[01]?\\\\d?\\\\d))。\n",
    "```"
   ]
  },
  {
   "cell_type": "code",
   "execution_count": null,
   "id": "e26b4ffd",
   "metadata": {},
   "outputs": [],
   "source": []
  }
 ],
 "metadata": {
  "kernelspec": {
   "display_name": "Python 3 (ipykernel)",
   "language": "python",
   "name": "python3"
  },
  "language_info": {
   "codemirror_mode": {
    "name": "ipython",
    "version": 3
   },
   "file_extension": ".py",
   "mimetype": "text/x-python",
   "name": "python",
   "nbconvert_exporter": "python",
   "pygments_lexer": "ipython3",
   "version": "3.11.5"
  }
 },
 "nbformat": 4,
 "nbformat_minor": 5
}
