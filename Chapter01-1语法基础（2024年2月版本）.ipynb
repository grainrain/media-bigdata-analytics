{
 "cells": [
  {
   "cell_type": "markdown",
   "id": "9483a7d4",
   "metadata": {},
   "source": [
    "\n",
    "<center><h1>语法基础</h1></center>"
   ]
  },
  {
   "cell_type": "markdown",
   "id": "9df24ef7",
   "metadata": {},
   "source": [
    "# 什么是大数据？"
   ]
  },
  {
   "cell_type": "markdown",
   "id": "f7c16cf3",
   "metadata": {},
   "source": [
    "<img src=\"image/Chapter1_13.png\" width=\"600\" height=\"600\" >"
   ]
  },
  {
   "cell_type": "markdown",
   "id": "b6e13957",
   "metadata": {},
   "source": [
    "大数据的5V特点：Volume（大量）、Velocity（高速）、Variety（多样）、Value（低价值密度）、\n",
    "                              Veracity（真实性）。"
   ]
  },
  {
   "cell_type": "markdown",
   "id": "14bccf74",
   "metadata": {},
   "source": [
    "大数据的那些V"
   ]
  },
  {
   "cell_type": "markdown",
   "id": "6233be5c",
   "metadata": {},
   "source": [
    "<img src=\"image/Chapter1_14.png\" width=\"600\" height=\"600\" >"
   ]
  },
  {
   "cell_type": "markdown",
   "id": "42ab64e4",
   "metadata": {},
   "source": [
    "# 为什么是python？\n",
    "> Life is short，I need Python！\n",
    "人生苦短，我用Python。\n"
   ]
  },
  {
   "cell_type": "markdown",
   "id": "0622ee06",
   "metadata": {},
   "source": [
    "<img src=\"image/Chapter1_1.png\" width=\"600\" height=\"600\" >"
   ]
  },
  {
   "cell_type": "markdown",
   "id": "9421db8d",
   "metadata": {},
   "source": [
    "<img src=\"image/Chapter1_2.png\" width=\"600\" height=\"600\" >"
   ]
  },
  {
   "cell_type": "markdown",
   "id": "c094ff26",
   "metadata": {},
   "source": [
    "<img src=\"image/Chapter1_3.png\" width=\"600\" height=\"600\" >"
   ]
  },
  {
   "cell_type": "markdown",
   "id": "bb72ed4d",
   "metadata": {},
   "source": [
    "<img src=\"image/Chapter1_4.png\" width=\"600\" height=\"600\" >"
   ]
  },
  {
   "cell_type": "markdown",
   "id": "b2951c19",
   "metadata": {},
   "source": [
    "```\n",
    "Python除了极少的事情不能做之外，其它基本上可以说全能：\n",
    "系统运维、图形处理、科学计算、文本处理、数据库编程、网络编程、web编程、多媒体应用、pymo引擎、黑客编程、爬虫编写、机器学习、人工智能等等。\n",
    "\n",
    "Python是当今炙手可热的数据分析工具。\n",
    "Python 是一种面向对象的解释型语言；\n",
    "特点是简单易学、免费开源、高层语言、可移植性强、面向对象、可扩展性、可嵌入型、丰富的库、规范的代码等。\n",
    "\n",
    "```\n"
   ]
  },
  {
   "cell_type": "markdown",
   "id": "ef4a056a",
   "metadata": {},
   "source": [
    "<img src=\"image/Chapter1_5.png\" width=\"600\" height=\"600\" >"
   ]
  },
  {
   "cell_type": "markdown",
   "id": "eec95308",
   "metadata": {},
   "source": [
    "<img src=\"image/Chapter1_6.png\" >"
   ]
  },
  {
   "cell_type": "markdown",
   "id": "ed3a2c5d",
   "metadata": {},
   "source": [
    "# 1.1 python基本知识"
   ]
  },
  {
   "cell_type": "markdown",
   "id": "8a36d2d2",
   "metadata": {},
   "source": [
    "<img src=\"image/Chapter1_12.png\"  >"
   ]
  },
  {
   "cell_type": "markdown",
   "id": "59407ed3",
   "metadata": {},
   "source": [
    "# 1.2 语法规范"
   ]
  },
  {
   "cell_type": "markdown",
   "id": "1442686a",
   "metadata": {},
   "source": [
    "## 代码注释与分层"
   ]
  },
  {
   "cell_type": "markdown",
   "id": "e71dbfed",
   "metadata": {},
   "source": [
    "<img src=\"image/Chapter1_15.png\" width=\"600\" height=\"600\" >"
   ]
  },
  {
   "cell_type": "code",
   "execution_count": 1,
   "id": "01dce0c2",
   "metadata": {
    "scrolled": true
   },
   "outputs": [
    {
     "name": "stdout",
     "output_type": "stream",
     "text": [
      "1;2;3;"
     ]
    }
   ],
   "source": [
    "for i in [1,2,3]:\n",
    "    print(i,end= ';')\n"
   ]
  },
  {
   "cell_type": "code",
   "execution_count": null,
   "id": "a84e0723",
   "metadata": {
    "scrolled": true
   },
   "outputs": [],
   "source": [
    "score = 80\n",
    "if score > 60:\n",
    "     print('及格')\n",
    "else:\n",
    "     print('不及格')\n"
   ]
  },
  {
   "cell_type": "markdown",
   "id": "f4c38856",
   "metadata": {},
   "source": [
    "## 引号符、转义符"
   ]
  },
  {
   "cell_type": "markdown",
   "id": "8ae842ad",
   "metadata": {},
   "source": [
    "<img src=\"image/Chapter1_16.png\" width=\"600\" height=\"600\" >"
   ]
  },
  {
   "cell_type": "code",
   "execution_count": 1,
   "id": "f057d317",
   "metadata": {},
   "outputs": [
    {
     "name": "stdout",
     "output_type": "stream",
     "text": [
      "C:\n",
      "ews\\python.txt\n"
     ]
    }
   ],
   "source": [
    "b= 'C:\\news\\python.txt'\n",
    "print(b)"
   ]
  },
  {
   "cell_type": "code",
   "execution_count": 38,
   "id": "a4ef5f9b",
   "metadata": {},
   "outputs": [
    {
     "name": "stdout",
     "output_type": "stream",
     "text": [
      "C:\\news\\python.txt\n"
     ]
    }
   ],
   "source": [
    "b= 'C:\\\\news\\\\python.txt'\n",
    "print(b)"
   ]
  },
  {
   "cell_type": "code",
   "execution_count": 39,
   "id": "2cad1a72",
   "metadata": {},
   "outputs": [
    {
     "name": "stdout",
     "output_type": "stream",
     "text": [
      "C:\\news\\python.txt\n"
     ]
    }
   ],
   "source": [
    "b= r'C:\\news\\python.txt'\n",
    "print(b)"
   ]
  },
  {
   "cell_type": "markdown",
   "id": "60fde413",
   "metadata": {},
   "source": [
    "## 代码注释\n"
   ]
  },
  {
   "cell_type": "code",
   "execution_count": 4,
   "id": "271934d2",
   "metadata": {},
   "outputs": [
    {
     "name": "stdout",
     "output_type": "stream",
     "text": [
      "hello world!\n"
     ]
    }
   ],
   "source": [
    "'''\n",
    "b= r'C:\\news\\python.txt'\n",
    "print(b)\n",
    "'''\n",
    "\n",
    "# b= r'C:\\news\\python.txt'\n",
    "# print(b)\n",
    "print(\"hello world!\")"
   ]
  },
  {
   "cell_type": "markdown",
   "id": "8cd53812",
   "metadata": {},
   "source": [
    "## print函数"
   ]
  },
  {
   "cell_type": "markdown",
   "id": "e4b1a015",
   "metadata": {},
   "source": [
    "<img src=\"image/Chapter1_17.png\" width=\"600\" height=\"600\" >"
   ]
  },
  {
   "cell_type": "markdown",
   "id": "fae2e0ff",
   "metadata": {},
   "source": [
    "### 1) 用于屏幕输出显示。\n"
   ]
  },
  {
   "cell_type": "code",
   "execution_count": null,
   "id": "17234c55",
   "metadata": {},
   "outputs": [],
   "source": [
    "a = '输出显示'\n",
    "print(\"变量a的值为：\",  a)"
   ]
  },
  {
   "cell_type": "markdown",
   "id": "410e0e5f",
   "metadata": {},
   "source": [
    "### 2) print()函数可带参数end= ''\n"
   ]
  },
  {
   "cell_type": "code",
   "execution_count": null,
   "id": "95c040b5",
   "metadata": {},
   "outputs": [],
   "source": [
    "for i in [1,2,3]:\n",
    "             print(i)\n",
    "for i in [1,2,3]:\n",
    "             print(i, end=';')\n"
   ]
  },
  {
   "cell_type": "markdown",
   "id": "c1ae2448",
   "metadata": {},
   "source": [
    "## Python关键字"
   ]
  },
  {
   "cell_type": "markdown",
   "id": "c5ac5c62",
   "metadata": {},
   "source": [
    "<img src=\"image/Chapter1_18.png\" width=\"600\" height=\"600\" >"
   ]
  },
  {
   "cell_type": "markdown",
   "id": "c76644c3",
   "metadata": {},
   "source": [
    "## 变量命名"
   ]
  },
  {
   "cell_type": "markdown",
   "id": "3aa5f455",
   "metadata": {},
   "source": [
    "<img src=\"image/Chapter1_19.png\" width=\"600\" height=\"600\" >"
   ]
  },
  {
   "cell_type": "markdown",
   "id": "3115753e",
   "metadata": {},
   "source": [
    "## 标识符"
   ]
  },
  {
   "cell_type": "markdown",
   "id": "353a9f3e",
   "metadata": {},
   "source": [
    "<img src=\"image/Chapter1_20.png\">"
   ]
  },
  {
   "cell_type": "markdown",
   "id": "16a5d811",
   "metadata": {},
   "source": [
    "## 运算符"
   ]
  },
  {
   "cell_type": "markdown",
   "id": "ceaf473d",
   "metadata": {},
   "source": [
    "<h3>1.数值运算符</h3>  \n",
    "\n",
    "<h3>2.比较运算符</h3>  \n",
    "\n",
    "<h3>3.赋值运算符</h3>  \n",
    "\n",
    "<h3>4.位运算符</h3>  \n",
    "\n",
    "<h3>5.逻辑运算符</h3>  \n",
    "\n",
    "<h3>6.成员运算符</h3>  \n",
    "\n",
    "<h3>7.身份运算符</h3>  \n",
    "\n",
    "<center>P11</center>"
   ]
  },
  {
   "cell_type": "markdown",
   "id": "9d7bbc44",
   "metadata": {},
   "source": [
    "# 1.3 程序结构"
   ]
  },
  {
   "cell_type": "markdown",
   "id": "92a31b53",
   "metadata": {},
   "source": [
    "<img src=\"image/Chapter1_21.png\"  width=\"600\" height=\"600\">"
   ]
  },
  {
   "cell_type": "markdown",
   "id": "defefb21",
   "metadata": {},
   "source": [
    "## 顺序结构"
   ]
  },
  {
   "cell_type": "markdown",
   "id": "3cc6a687",
   "metadata": {},
   "source": [
    "<img src=\"image/Chapter1_22.png\"  width=\"600\" height=\"600\">"
   ]
  },
  {
   "cell_type": "markdown",
   "id": "2621dca4",
   "metadata": {},
   "source": [
    "## 判断结构"
   ]
  },
  {
   "cell_type": "markdown",
   "id": "391b2602",
   "metadata": {},
   "source": [
    "<img src=\"image/Chapter1_23.png\" width=\"600\" height=\"600\" >"
   ]
  },
  {
   "cell_type": "markdown",
   "id": "70aea4bd",
   "metadata": {},
   "source": [
    "##  循环结构for "
   ]
  },
  {
   "cell_type": "markdown",
   "id": "d3f175c9",
   "metadata": {},
   "source": [
    "<img src=\"image/Chapter1_24.png\" width=\"600\" height=\"600\" >"
   ]
  },
  {
   "cell_type": "code",
   "execution_count": 3,
   "id": "12a4f9a8",
   "metadata": {},
   "outputs": [
    {
     "name": "stdout",
     "output_type": "stream",
     "text": [
      "aa\n",
      "ab\n",
      "ac\n"
     ]
    }
   ],
   "source": [
    "j = 'a'\n",
    "for i in ['a','b','c']:\n",
    "    h = j + i\n",
    "    print(h) \n"
   ]
  },
  {
   "cell_type": "markdown",
   "id": "07d9ef70",
   "metadata": {},
   "source": [
    "## 循环结构while "
   ]
  },
  {
   "cell_type": "markdown",
   "id": "32dd344c",
   "metadata": {},
   "source": [
    "<img src=\"image/Chapter1_25.png\" width=\"600\" height=\"600\" >"
   ]
  },
  {
   "cell_type": "code",
   "execution_count": 4,
   "id": "26dda665",
   "metadata": {},
   "outputs": [
    {
     "name": "stdout",
     "output_type": "stream",
     "text": [
      "please input your name:lin\n",
      "You're wrong! Pls again!\n",
      "Input your name again:cucn\n",
      "So nice!\n"
     ]
    }
   ],
   "source": [
    "name = input('please input your name:')\n",
    "while name != 'cucn': \n",
    "      print('You\\'re wrong! Pls again!')\n",
    "      name = input ('Input your name again:')\n",
    "print('So nice!')\n"
   ]
  },
  {
   "cell_type": "markdown",
   "id": "b9edbddf",
   "metadata": {},
   "source": [
    "## pass、break、continue "
   ]
  },
  {
   "cell_type": "code",
   "execution_count": null,
   "id": "30dcf54f",
   "metadata": {},
   "outputs": [],
   "source": [
    "lis = []\n",
    "while True:\n",
    "    sales = float(input(\"Sales:\"))\n",
    "    lis.append(sales)\n",
    "    \n",
    "    choice = input(\"Continue? [y/n] \")\n",
    "    if choice == \"n\":\n",
    "        pass\n",
    "        break \n"
   ]
  },
  {
   "cell_type": "code",
   "execution_count": null,
   "id": "83f06923",
   "metadata": {},
   "outputs": [],
   "source": [
    "#输出10以内的素数\n",
    "i=0 \n",
    "while i<10:\n",
    "    i+=1\n",
    "    if i%2 == 0:\n",
    "        continue \n",
    "    print(i, end=' ') \n"
   ]
  },
  {
   "cell_type": "markdown",
   "id": "41521139",
   "metadata": {},
   "source": [
    "# 1.4 异常值处理 "
   ]
  },
  {
   "cell_type": "markdown",
   "id": "4ec59529",
   "metadata": {},
   "source": [
    "```\n",
    "注意：\n",
    "（1）在上面所示的完整语句中try、except、else、finally、except x出现的顺序必须是try→except x→except→else→finally，即所有的except必须在else和finally之前，else（若有）必须在finally之前，而except x必须在except之前，否则会出现语法错误。\n",
    "（2）对于上面所展示的try或except完整格式而言，else和finally都是可选的，而不是必需的。finally（如果存在）必须在整个语句的最后位置。 \n",
    "（3）在上面的完整语句中，else语句的存在必须以except x或者except语句为前提，如果没有except语句，使用else语句会发生语法错误。\n",
    "\n",
    "```"
   ]
  },
  {
   "cell_type": "code",
   "execution_count": null,
   "id": "20e62838",
   "metadata": {},
   "outputs": [],
   "source": [
    "try:\n",
    "    print(\"没有异常！\")\n",
    "except Exception as e:\n",
    "    print(\"不会输出！\")\n",
    "else:\n",
    "    print(\"进入else\")\n",
    "finally:\n",
    "    print(\"必须输出！\")\n",
    "\n",
    "print(\"～～～～～～～～～～～～～\")\n",
    "\n",
    "try:\n",
    "    print(1 / 0)\n",
    "except Exception as e:\n",
    "    print(\"引发异常！\")\n",
    "else:\n",
    "    print(\"不会进入else\")\n",
    "finally:\n",
    "    print(\"必须输出！\")\n"
   ]
  },
  {
   "cell_type": "markdown",
   "id": "8510273e",
   "metadata": {},
   "source": [
    "# 1.5 数据类型"
   ]
  },
  {
   "cell_type": "markdown",
   "id": "2afd389a",
   "metadata": {},
   "source": [
    "<h2>在Python语言中，数据类型分为str、int/float、list、tuple、dict、set。\n",
    "</h2>"
   ]
  },
  {
   "cell_type": "markdown",
   "id": "d3dbe987",
   "metadata": {},
   "source": [
    "## 1.5.1 数值型"
   ]
  },
  {
   "cell_type": "markdown",
   "id": "342a2b5b",
   "metadata": {},
   "source": [
    "* 整型(int)  \n",
    "* 浮点型(float)"
   ]
  },
  {
   "cell_type": "markdown",
   "id": "328e2267",
   "metadata": {},
   "source": [
    "## 1.5.2 字符串"
   ]
  },
  {
   "cell_type": "markdown",
   "id": "1305925a",
   "metadata": {},
   "source": [
    "<h3>Str 定义</h3>  \n",
    "\n",
    "* str就是一串字符，是编程语言中表示文本的数据类型。  \n",
    "* 在 Python 中可以使用一对引号 （单双引号均可）定义一个字符串。  \n",
    "* 可以使用index获取一个 str 中指定位置的字符，索引计数从 0 开始。  \n",
    "* 也可以使用 for 循环遍历字符串中每一个字符。  \n"
   ]
  },
  {
   "cell_type": "markdown",
   "id": "6120bab1",
   "metadata": {},
   "source": [
    "<img src=\"image/Chapter1_26.png\" width=\"600\" height=\"600\" >"
   ]
  },
  {
   "cell_type": "markdown",
   "id": "66ce5659",
   "metadata": {},
   "source": [
    "### 1、统计某字符出现次数：str.count(sub, start= 0,end=len(string))\n",
    "可选参数为在字符串搜索的开始与结束位置。\n"
   ]
  },
  {
   "cell_type": "code",
   "execution_count": 1,
   "id": "50fa58f0",
   "metadata": {},
   "outputs": [
    {
     "data": {
      "text/plain": [
       "2"
      ]
     },
     "execution_count": 1,
     "metadata": {},
     "output_type": "execute_result"
    }
   ],
   "source": [
    "a = 'teacher'\n",
    "a.count('e')   "
   ]
  },
  {
   "cell_type": "markdown",
   "id": "14ae0cc5",
   "metadata": {},
   "source": [
    "###  2、检测字符串中是否包含子字符串 ：str.find(str, beg=0, end=len(string))\n",
    "* str – 指定检索的字符串  \n",
    "* beg – 开始索引，默认为0。  \n",
    "* end – 结束索引，默认为字符串的长度。\n",
    "\n",
    "如果指定 beg（开始） 和 end（结束） 范围，则检查是否包含在指定范围内，如果包含子字符串返回开始的索引值，否则返回-1。\n",
    " "
   ]
  },
  {
   "cell_type": "code",
   "execution_count": 7,
   "id": "e7263d86",
   "metadata": {},
   "outputs": [
    {
     "data": {
      "text/plain": [
       "3"
      ]
     },
     "execution_count": 7,
     "metadata": {},
     "output_type": "execute_result"
    }
   ],
   "source": [
    "a = 'teacher'\n",
    "a.find('ch') "
   ]
  },
  {
   "cell_type": "markdown",
   "id": "116ef614",
   "metadata": {},
   "source": [
    "### 3、检测字符串中是否包含子字符串: str.index(substr)   \n",
    "如果指定 beg（开始） 和 end（结束） 范围，则检查是否包含在指定范围内.  \n",
    "该方法与 find()方法一样，只不过如果str不在 string中会报一个异常。  \n",
    " "
   ]
  },
  {
   "cell_type": "code",
   "execution_count": 6,
   "id": "8aabab53",
   "metadata": {},
   "outputs": [
    {
     "data": {
      "text/plain": [
       "4"
      ]
     },
     "execution_count": 6,
     "metadata": {},
     "output_type": "execute_result"
    }
   ],
   "source": [
    "a = 'teacher'\n",
    "a.index('h')       #返回左到右的第一个，4\n",
    "# https://blog.csdn.net/marvin_wind/article/details/79903175"
   ]
  },
  {
   "cell_type": "markdown",
   "id": "2f57e05a",
   "metadata": {},
   "source": [
    "### 4、字符串中的 old字符串替换成 new：str.replace(old, new[, max])\n",
    "如果指定第三个参数max，则替换不超过 max 次。\n"
   ]
  },
  {
   "cell_type": "code",
   "execution_count": 11,
   "id": "8dac58ba",
   "metadata": {},
   "outputs": [
    {
     "data": {
      "text/plain": [
       "'teacher'"
      ]
     },
     "execution_count": 11,
     "metadata": {},
     "output_type": "execute_result"
    }
   ],
   "source": [
    "a = 'teacher'\n",
    "a.replace('er','or')\n",
    "a"
   ]
  },
  {
   "cell_type": "markdown",
   "id": "bffba5bf",
   "metadata": {},
   "source": [
    "### 5、字符串分割为列表：str.split(str= \"\", num)  \n",
    "如果参数num 有指定值，则仅分隔 num+1 个子字符串"
   ]
  },
  {
   "cell_type": "code",
   "execution_count": 9,
   "id": "6e24d068",
   "metadata": {},
   "outputs": [
    {
     "data": {
      "text/plain": [
       "['t', 'ach', 'r']"
      ]
     },
     "execution_count": 9,
     "metadata": {},
     "output_type": "execute_result"
    }
   ],
   "source": [
    "a = 'teacher'\n",
    "b = a.split('e')\n",
    "b"
   ]
  },
  {
   "cell_type": "code",
   "execution_count": 10,
   "id": "7d2f94e2",
   "metadata": {},
   "outputs": [
    {
     "data": {
      "text/plain": [
       "['t', 'acher']"
      ]
     },
     "execution_count": 10,
     "metadata": {},
     "output_type": "execute_result"
    }
   ],
   "source": [
    "c = a.split('e',1) \n",
    "c"
   ]
  },
  {
   "cell_type": "markdown",
   "id": "b2a3da48",
   "metadata": {},
   "source": [
    "字符串str基本语法"
   ]
  },
  {
   "cell_type": "markdown",
   "id": "1f6b498c",
   "metadata": {},
   "source": [
    "<img src=\"image/Chapter1_27.png\" width=\"600\" height=\"600\" >"
   ]
  },
  {
   "cell_type": "markdown",
   "id": "ffea8bc5",
   "metadata": {},
   "source": [
    "## 1.5.3 列表"
   ]
  },
  {
   "cell_type": "markdown",
   "id": "a0ac7812",
   "metadata": {},
   "source": [
    "* 列表是最常用的数据类型，用方括号表示。\n",
    "* 列表的数据项（元素）不需要具有相同的类型。\n",
    "* 创建一个列表，只要把逗号分隔的不同的元素使用方括号括起来即可。\n"
   ]
  },
  {
   "cell_type": "markdown",
   "id": "49794104",
   "metadata": {},
   "source": [
    "### 列表list (查)"
   ]
  },
  {
   "cell_type": "code",
   "execution_count": 12,
   "id": "3399b7b1",
   "metadata": {},
   "outputs": [
    {
     "data": {
      "text/plain": [
       "[2, 3, 'py']"
      ]
     },
     "execution_count": 12,
     "metadata": {},
     "output_type": "execute_result"
    }
   ],
   "source": [
    "list0=[1,2,3,'py','南传']\n",
    "list0[1:4]"
   ]
  },
  {
   "cell_type": "markdown",
   "id": "9d2549c8",
   "metadata": {},
   "source": [
    "### 列表list (增)"
   ]
  },
  {
   "cell_type": "markdown",
   "id": "0fbf9543",
   "metadata": {},
   "source": [
    "<img src=\"image/Chapter1_28.png\" width=\"600\" height=\"600\" >"
   ]
  },
  {
   "cell_type": "code",
   "execution_count": null,
   "id": "015e7bf4",
   "metadata": {},
   "outputs": [],
   "source": [
    "# 一次添加一个元素 [末尾追加]\n",
    "list0 = [1, 2, 3, 'py']\n",
    "list0.append('hn')\n",
    "list0"
   ]
  },
  {
   "cell_type": "code",
   "execution_count": 13,
   "id": "d0cab0f1",
   "metadata": {},
   "outputs": [
    {
     "data": {
      "text/plain": [
       "[1, 2, 'hn', 3, 'py']"
      ]
     },
     "execution_count": 13,
     "metadata": {},
     "output_type": "execute_result"
    }
   ],
   "source": [
    "# 一次添加一个元素 [指定位置添加]\n",
    "list0 = [1,2,3,'py']\n",
    "list0.insert(2,'hn')\n",
    "list0"
   ]
  },
  {
   "cell_type": "code",
   "execution_count": 14,
   "id": "0b2778f3",
   "metadata": {},
   "outputs": [
    {
     "data": {
      "text/plain": [
       "[1, 2, 3, 'py0', 0, 1, 3]"
      ]
     },
     "execution_count": 14,
     "metadata": {},
     "output_type": "execute_result"
    }
   ],
   "source": [
    "# 一次添加多个元素\n",
    "list0 = [1,2,3,'py0']\n",
    "list0.extend([0,1,3])\n",
    "list0\n"
   ]
  },
  {
   "cell_type": "code",
   "execution_count": 15,
   "id": "2f2e198e",
   "metadata": {},
   "outputs": [
    {
     "data": {
      "text/plain": [
       "[1, 2, 3, 'py1', 0, 1, 3]"
      ]
     },
     "execution_count": 15,
     "metadata": {},
     "output_type": "execute_result"
    }
   ],
   "source": [
    "list1 = [1,2,3,'py1'] + [0,1,3]\n",
    "list1"
   ]
  },
  {
   "cell_type": "markdown",
   "id": "b28d41ed",
   "metadata": {},
   "source": [
    "### 列表list (删)"
   ]
  },
  {
   "cell_type": "markdown",
   "id": "e074fe44",
   "metadata": {},
   "source": [
    "<img src=\"image/Chapter1_29.png\" width=\"600\" height=\"600\" >"
   ]
  },
  {
   "cell_type": "code",
   "execution_count": 16,
   "id": "1b83cbba",
   "metadata": {},
   "outputs": [
    {
     "data": {
      "text/plain": [
       "[1, 2, 3]"
      ]
     },
     "execution_count": 16,
     "metadata": {},
     "output_type": "execute_result"
    }
   ],
   "source": [
    "# 默认删除\"末尾\" 元素\n",
    "list0 = [1,2,3,'py']\n",
    "list0.pop()\n",
    "list0"
   ]
  },
  {
   "cell_type": "code",
   "execution_count": 17,
   "id": "591c1a8e",
   "metadata": {},
   "outputs": [
    {
     "data": {
      "text/plain": [
       "[1, 2, 3]"
      ]
     },
     "execution_count": 17,
     "metadata": {},
     "output_type": "execute_result"
    }
   ],
   "source": [
    "# 删除\"指定\" 𝐢𝐧𝐝𝐞𝐱元素\n",
    "list0 = [1,2,3,'py']\n",
    "list0.pop(3)\n",
    "list0"
   ]
  },
  {
   "cell_type": "code",
   "execution_count": 18,
   "id": "43d865fb",
   "metadata": {},
   "outputs": [
    {
     "data": {
      "text/plain": [
       "[1, 3, 'py']"
      ]
     },
     "execution_count": 18,
     "metadata": {},
     "output_type": "execute_result"
    }
   ],
   "source": [
    "# 删除指定值的首个元素\n",
    "list0 = [1,2,3,'py']\n",
    "list0.remove(2)\n",
    "list0"
   ]
  },
  {
   "cell_type": "code",
   "execution_count": 19,
   "id": "49d9b32a",
   "metadata": {},
   "outputs": [
    {
     "data": {
      "text/plain": [
       "[1, 3, 'py']"
      ]
     },
     "execution_count": 19,
     "metadata": {},
     "output_type": "execute_result"
    }
   ],
   "source": [
    "#  \"根据\" 切片\"删除\"，可删除整个变量\n",
    "L=[1,2,3,'py']\n",
    "del L[1:2]\n",
    "L"
   ]
  },
  {
   "cell_type": "code",
   "execution_count": 20,
   "id": "1b1e042d",
   "metadata": {},
   "outputs": [
    {
     "data": {
      "text/plain": [
       "[1, 'py']"
      ]
     },
     "execution_count": 20,
     "metadata": {},
     "output_type": "execute_result"
    }
   ],
   "source": [
    "L=[1,2,3,'py']\n",
    "del L[1:3]\n",
    "L"
   ]
  },
  {
   "cell_type": "code",
   "execution_count": 21,
   "id": "92b8a817",
   "metadata": {},
   "outputs": [
    {
     "ename": "NameError",
     "evalue": "name 'L' is not defined",
     "output_type": "error",
     "traceback": [
      "\u001b[1;31m---------------------------------------------------------------------------\u001b[0m",
      "\u001b[1;31mNameError\u001b[0m                                 Traceback (most recent call last)",
      "Cell \u001b[1;32mIn[21], line 3\u001b[0m\n\u001b[0;32m      1\u001b[0m L\u001b[38;5;241m=\u001b[39m[\u001b[38;5;241m1\u001b[39m,\u001b[38;5;241m2\u001b[39m,\u001b[38;5;241m3\u001b[39m,\u001b[38;5;124m'\u001b[39m\u001b[38;5;124mpy\u001b[39m\u001b[38;5;124m'\u001b[39m]\n\u001b[0;32m      2\u001b[0m \u001b[38;5;28;01mdel\u001b[39;00m L\n\u001b[1;32m----> 3\u001b[0m L\n",
      "\u001b[1;31mNameError\u001b[0m: name 'L' is not defined"
     ]
    }
   ],
   "source": [
    "L=[1,2,3,'py']\n",
    "del L\n",
    "L #报错"
   ]
  },
  {
   "cell_type": "markdown",
   "id": "c3777f03",
   "metadata": {},
   "source": [
    "### 列表list (改)"
   ]
  },
  {
   "cell_type": "markdown",
   "id": "e0e1bdb7",
   "metadata": {},
   "source": [
    "对位置上的元素直接赋值即可修改。"
   ]
  },
  {
   "cell_type": "code",
   "execution_count": null,
   "id": "3432a0a0",
   "metadata": {},
   "outputs": [],
   "source": [
    "list0=[1,2,3,'py','南传']\n",
    "list0[4] = 'hy'\n",
    "print(list0)"
   ]
  },
  {
   "cell_type": "markdown",
   "id": "6759c89c",
   "metadata": {},
   "source": [
    "### 列表list( other)"
   ]
  },
  {
   "cell_type": "code",
   "execution_count": null,
   "id": "756b7880",
   "metadata": {},
   "outputs": [],
   "source": [
    "# Str转化为list\n",
    "str_0 ='nanjing'\n",
    "list0 = list(str_0)\n",
    "print(list0)\n",
    "# list的排序1\n",
    "print(sorted(list0))\n",
    "# list的排序2\n",
    "list0.sort()\n",
    "print(list0)"
   ]
  },
  {
   "cell_type": "markdown",
   "id": "f8e65634",
   "metadata": {},
   "source": [
    "## 1.5.4 元组tuple"
   ]
  },
  {
   "cell_type": "markdown",
   "id": "4f3d5b5d",
   "metadata": {},
   "source": [
    "* 元组与列表类似，不同之处在于元组的元素不能修改。  \n",
    "* tuple使用小括号，list使用方括号。  \n",
    "* tuple创建在括号中添加元素，并使用逗号隔开。  \n",
    "> 例如：tu1 = ('physics', 'chemistry', 1997, 2000)\n"
   ]
  },
  {
   "cell_type": "code",
   "execution_count": 22,
   "id": "684b9e9c",
   "metadata": {},
   "outputs": [
    {
     "data": {
      "text/plain": [
       "(1, 2, 3)"
      ]
     },
     "execution_count": 22,
     "metadata": {},
     "output_type": "execute_result"
    }
   ],
   "source": [
    "# tuple好处在于不能被修改，所以list可转化为元组浏览，访问比list快。\n",
    "a = [1,2,3]\n",
    "t =tuple(a)   #list转tuple\n",
    "t"
   ]
  },
  {
   "cell_type": "code",
   "execution_count": 23,
   "id": "8f381fb1",
   "metadata": {},
   "outputs": [
    {
     "data": {
      "text/plain": [
       "[1, 2, 3]"
      ]
     },
     "execution_count": 23,
     "metadata": {},
     "output_type": "execute_result"
    }
   ],
   "source": [
    "a0= list(t)    #tuple转list\n",
    "a0"
   ]
  },
  {
   "cell_type": "markdown",
   "id": "c1fbdb8f",
   "metadata": {},
   "source": [
    "## 1.5.5 集合"
   ]
  },
  {
   "cell_type": "markdown",
   "id": "70023d98",
   "metadata": {},
   "source": [
    "* 集合（set）是一个无序的不重复元素序列。  \n",
    "* 创建集合用{}，元素用逗号隔开。  \n",
    "* 创建一个空集合必须用 set() 而不是 { }， { } 是用来创建一个空字典。  \n",
    "* 常用它过滤list、tuple等重复值。  \n",
    ">  例如：set1= {'physics', 'chemistry', 1997, 2000}\n"
   ]
  },
  {
   "cell_type": "markdown",
   "id": "5cbbef2c",
   "metadata": {},
   "source": [
    "### 集合set(查)"
   ]
  },
  {
   "cell_type": "markdown",
   "id": "e068defd",
   "metadata": {},
   "source": [
    "<h4>Set是无序的，故没有index，但要看某元素在不在set中，用in。</h4>"
   ]
  },
  {
   "cell_type": "code",
   "execution_count": 24,
   "id": "fa6733f8",
   "metadata": {},
   "outputs": [
    {
     "data": {
      "text/plain": [
       "True"
      ]
     },
     "execution_count": 24,
     "metadata": {},
     "output_type": "execute_result"
    }
   ],
   "source": [
    "# Set是无序的，故没有index，但要看某元素在不在set中，用in\n",
    "set_0 = {\"a\",\"b\",\"c\"}\n",
    "\"b\" in set_0"
   ]
  },
  {
   "cell_type": "markdown",
   "id": "d2b01a2d",
   "metadata": {},
   "source": [
    "### 集合set(改)"
   ]
  },
  {
   "cell_type": "markdown",
   "id": "56c73f99",
   "metadata": {},
   "source": [
    "<h4>set存储的元素必须是不变对象，故任何可变对象是不能放入set中的。\n",
    "</h4>"
   ]
  },
  {
   "cell_type": "code",
   "execution_count": 25,
   "id": "aff79a30",
   "metadata": {},
   "outputs": [
    {
     "ename": "TypeError",
     "evalue": "unhashable type: 'list'",
     "output_type": "error",
     "traceback": [
      "\u001b[1;31m---------------------------------------------------------------------------\u001b[0m",
      "\u001b[1;31mTypeError\u001b[0m                                 Traceback (most recent call last)",
      "Cell \u001b[1;32mIn[25], line 3\u001b[0m\n\u001b[0;32m      1\u001b[0m \u001b[38;5;66;03m# set存储的元素必须是不变对象，故任何可变对象是不能放入set中的。\u001b[39;00m\n\u001b[0;32m      2\u001b[0m a \u001b[38;5;241m=\u001b[39m {\u001b[38;5;124m\"\u001b[39m\u001b[38;5;124ma\u001b[39m\u001b[38;5;124m\"\u001b[39m,\u001b[38;5;124m\"\u001b[39m\u001b[38;5;124mb\u001b[39m\u001b[38;5;124m\"\u001b[39m,\u001b[38;5;124m\"\u001b[39m\u001b[38;5;124mc\u001b[39m\u001b[38;5;124m\"\u001b[39m}\n\u001b[1;32m----> 3\u001b[0m a \u001b[38;5;241m=\u001b[39m {\u001b[38;5;124m\"\u001b[39m\u001b[38;5;124ma\u001b[39m\u001b[38;5;124m\"\u001b[39m,\u001b[38;5;124m\"\u001b[39m\u001b[38;5;124mb\u001b[39m\u001b[38;5;124m\"\u001b[39m,\u001b[38;5;124m\"\u001b[39m\u001b[38;5;124mc\u001b[39m\u001b[38;5;124m\"\u001b[39m,[\u001b[38;5;241m1\u001b[39m,\u001b[38;5;241m2\u001b[39m]}    \u001b[38;5;66;03m#会报错\u001b[39;00m\n\u001b[0;32m      4\u001b[0m a\n",
      "\u001b[1;31mTypeError\u001b[0m: unhashable type: 'list'"
     ]
    }
   ],
   "source": [
    "# set存储的元素必须是不变对象，故任何可变对象是不能放入set中的。\n",
    "a = {\"a\",\"b\",\"c\"}\n",
    "a = {\"a\",\"b\",\"c\",[1,2]}    #会报错\n",
    "a"
   ]
  },
  {
   "cell_type": "markdown",
   "id": "e2259e83",
   "metadata": {},
   "source": [
    "### 集合set(增)"
   ]
  },
  {
   "cell_type": "markdown",
   "id": "6c3c4872",
   "metadata": {},
   "source": [
    "<img src=\"image/Chapter1_30.png\" width=\"600\" height=\"600\" >"
   ]
  },
  {
   "cell_type": "code",
   "execution_count": 26,
   "id": "c8f6a074",
   "metadata": {},
   "outputs": [
    {
     "data": {
      "text/plain": [
       "{1, 2, 3, 'py'}"
      ]
     },
     "execution_count": 26,
     "metadata": {},
     "output_type": "execute_result"
    }
   ],
   "source": [
    "# Set增加元素也有两种方式：\n",
    "\n",
    "# 增加一个元素\n",
    "set0 = {1,2,'py'}\n",
    "set0.add(3)\n",
    "set0"
   ]
  },
  {
   "cell_type": "code",
   "execution_count": 27,
   "id": "3fb1238e",
   "metadata": {},
   "outputs": [
    {
     "data": {
      "text/plain": [
       "{1, 2, 3, 4, 5, 'py'}"
      ]
     },
     "execution_count": 27,
     "metadata": {},
     "output_type": "execute_result"
    }
   ],
   "source": [
    "# 合并两个集合\n",
    "set0 = {1,2,'py'}\n",
    "set0.update({3,4,5})\n",
    "set0"
   ]
  },
  {
   "cell_type": "markdown",
   "id": "d93a3834",
   "metadata": {},
   "source": [
    "### 集合set(删)"
   ]
  },
  {
   "cell_type": "markdown",
   "id": "a8f813f9",
   "metadata": {},
   "source": [
    "<img src=\"image/Chapter1_31.png\" width=\"600\" height=\"600\" >"
   ]
  },
  {
   "cell_type": "code",
   "execution_count": 30,
   "id": "67eef69b",
   "metadata": {},
   "outputs": [
    {
     "data": {
      "text/plain": [
       "{2, 3, 4, 'a', 'b'}"
      ]
     },
     "execution_count": 30,
     "metadata": {},
     "output_type": "execute_result"
    }
   ],
   "source": [
    "# Set删除元素方式有三\n",
    "a = {1,2,3,4,'a','b'}\n",
    "# 𝑝𝑜𝑝 随机删除一个元素，不需要给参数值\n",
    "a.pop()\n",
    "a"
   ]
  },
  {
   "cell_type": "code",
   "execution_count": 31,
   "id": "22ccbdab",
   "metadata": {},
   "outputs": [
    {
     "data": {
      "text/plain": [
       "{2, 3, 4, 'a'}"
      ]
     },
     "execution_count": 31,
     "metadata": {},
     "output_type": "execute_result"
    }
   ],
   "source": [
    "\n",
    "# remove 删除\"指定值\"\n",
    "a.remove('b')\n",
    "a"
   ]
  },
  {
   "cell_type": "code",
   "execution_count": 32,
   "id": "189feba3",
   "metadata": {},
   "outputs": [
    {
     "data": {
      "text/plain": [
       "{2, 4, 'a'}"
      ]
     },
     "execution_count": 32,
     "metadata": {},
     "output_type": "execute_result"
    }
   ],
   "source": [
    "\n",
    "# discard 删除\"指定值\"\n",
    "a.discard(3)\n",
    "a"
   ]
  },
  {
   "cell_type": "markdown",
   "id": "36e73c3d",
   "metadata": {},
   "source": [
    "### Set其他操作，如集合的并、交、差等。"
   ]
  },
  {
   "cell_type": "markdown",
   "id": "b0522b4c",
   "metadata": {},
   "source": [
    "<img src=\"image/Chapter1_32.png\" width=\"600\" height=\"600\" >"
   ]
  },
  {
   "cell_type": "markdown",
   "id": "71d0e17c",
   "metadata": {},
   "source": [
    "## 1.5.6 字典"
   ]
  },
  {
   "cell_type": "code",
   "execution_count": null,
   "id": "3956ea44",
   "metadata": {},
   "outputs": [],
   "source": [
    "# Dict同Set无序，故没有index，访问元素需通过key。\n",
    "dic = {'physics':35, 'chemistry':56, '体育 ':80, 1:'A'}\n",
    "print(dic['chemistry'])   #返回'chemistry'所对应的值56\n"
   ]
  },
  {
   "cell_type": "markdown",
   "id": "cc5a89c2",
   "metadata": {},
   "source": [
    "### 字典dict(改)"
   ]
  },
  {
   "cell_type": "code",
   "execution_count": null,
   "id": "69bf91d2",
   "metadata": {},
   "outputs": [],
   "source": [
    "# Dict无序，没有index，dict通过key访问\n",
    "dic = {'physics':35, 'chemistry':56, '体育 ':80, 1:'A'}\n",
    "dic['chemistry'] =60  #修改'chemistry'所对应的值56为60\n",
    "print(dic['chemistry'])\n"
   ]
  },
  {
   "cell_type": "markdown",
   "id": "71d8236c",
   "metadata": {},
   "source": [
    "### 字典dict(增)"
   ]
  },
  {
   "cell_type": "code",
   "execution_count": null,
   "id": "919d66ab",
   "metadata": {},
   "outputs": [],
   "source": [
    "# 增加一个元素同修改元素一样，当被修改的key不存在时就会自动添加这个元素\n",
    "a={1:\"a\",2:\"b\",\"c\":3}\n",
    "a[3] = 5                      #增加元素\n",
    "print(a)\n",
    "b={1:\"d\",4:\"b\"}\n",
    "a.update(b)\n",
    "print(a)\n",
    "# 注意：当合并的两个字典中有相同的键名但对应的值不同时，会将被合并的元素覆盖掉原来的键值。"
   ]
  },
  {
   "cell_type": "markdown",
   "id": "61cda16a",
   "metadata": {},
   "source": [
    "### 字典dict(删)"
   ]
  },
  {
   "cell_type": "code",
   "execution_count": null,
   "id": "de942905",
   "metadata": {},
   "outputs": [],
   "source": [
    "a = {1: 'd', 2: 'b', 'c': 3, 3: 5, 4: 'b'}\n",
    "# pop()删除给定 key 所对应的值，返回值为被删除的值\n",
    "a.pop(\"c\")\n",
    "print(a)\n",
    "# clear()删除字典内所有元素\n",
    "a.clear()\n",
    "print(a)\n",
    "# del全局方法 （能删单个元素也能清空字典)\n",
    "a = {1: 'd', 2: 'b', 'c': 3, 3: 5, 4: 'b'}\n",
    "del a[2]\n",
    "print(a)\n",
    "# popitem()随机返回并删除字典中的一对键和值\n",
    "a = {1: 'd', 2: 'b', 'c': 3, 3: 5, 4: 'b'}\n",
    "print(a.popitem())\n",
    "print(a)\n"
   ]
  },
  {
   "cell_type": "markdown",
   "id": "5cafd256",
   "metadata": {},
   "source": [
    "### 字典dict(other)"
   ]
  },
  {
   "cell_type": "code",
   "execution_count": null,
   "id": "8cd0bc22",
   "metadata": {},
   "outputs": [],
   "source": [
    "dic = {1: 'd', 2: 'b', 'c': 3, 3: 5, 4: 'b'}\n",
    "# 获取字典的键值对、字典的值、字典的键 \n",
    "print(dic.items()) \n",
    "print(dic.values()) \n",
    "print(dic.keys()) \n",
    "# 对字典排序 \n",
    "a = {1:23,99:2,28:72,3:83,72:222} \n",
    "print(sorted(a)) # 对字典按照key排序，打印key的list \n",
    "print(sorted(a.items())) #对字典按照key排序，打印键值对元组，list类型 \n",
    "print(sorted(a.items(),key=lambda x:x[1],reverse=True)) \n"
   ]
  },
  {
   "cell_type": "markdown",
   "id": "11c4a172",
   "metadata": {},
   "source": [
    "# 1.6函数"
   ]
  },
  {
   "cell_type": "markdown",
   "id": "54ecbeec",
   "metadata": {},
   "source": [
    "## 1.6.1 自定义函数"
   ]
  },
  {
   "cell_type": "markdown",
   "id": "e91e6c78",
   "metadata": {},
   "source": [
    "自定义函数有固定的格式，它是通过关键字def来声明的，其结构如下。  \n",
    "```\n",
    "def 函数名(参数):\n",
    "    \"\"\"\n",
    " 说明文档内容\n",
    " \"\"\"\n",
    "    函数体\n",
    "    return返回值\n",
    "```"
   ]
  },
  {
   "cell_type": "code",
   "execution_count": null,
   "id": "d6f4eede",
   "metadata": {},
   "outputs": [],
   "source": [
    "def f(x, y):\n",
    "     \"\"\"\n",
    "     本函数主要是计算z = x**2 + y**2的值\n",
    "     函数需要接收两个参数：x和y    \n",
    "     \"\"\"\n",
    "     z = x**2 + y**2\n",
    "     return z\n",
    "print(f(1,4))"
   ]
  },
  {
   "cell_type": "code",
   "execution_count": null,
   "id": "786048c0",
   "metadata": {},
   "outputs": [],
   "source": [
    "def f(x=0, y=0):\n",
    "     \"\"\"\n",
    "     本函数主要是计算z = x**2 + y**2的值\n",
    "     函数需要接收两个参数：x和y  \n",
    "     当参数不赋值时，就以默认参数赋值计算  \n",
    "     \"\"\"\n",
    "     z = x**2 + y**2\n",
    "     return z\n",
    "print(f())"
   ]
  },
  {
   "cell_type": "markdown",
   "id": "527972d5",
   "metadata": {},
   "source": [
    "##  1.6.2匿名函数lambda "
   ]
  },
  {
   "cell_type": "markdown",
   "id": "d362737a",
   "metadata": {},
   "source": [
    "lambda函数又称为匿名函数，或者行内函数。匿名函数多用于调用一次就不再被调用的函数，属于“一次性”函数。  \n",
    "其表达式的语法格式为： \n",
    "> lambda para:expr   \n",
    "\n",
    "para为参数，多个参数可以使用逗号隔开，冒号后的expr为一个表达式  "
   ]
  },
  {
   "cell_type": "code",
   "execution_count": 2,
   "id": "6a402445",
   "metadata": {},
   "outputs": [
    {
     "name": "stdout",
     "output_type": "stream",
     "text": [
      "8\n"
     ]
    }
   ],
   "source": [
    "#定义函数f(x,y)=x+xy\n",
    "f = lambda x, y: x + x*y\n",
    "print(f(2, 3))\n"
   ]
  },
  {
   "cell_type": "markdown",
   "id": "8f76e884",
   "metadata": {},
   "source": [
    "##  1.6.3map,filter,reduce函数"
   ]
  },
  {
   "cell_type": "markdown",
   "id": "1ba527da",
   "metadata": {},
   "source": [
    "### 1.遍历函数map()   \n",
    "函数对一个列表或者多个列表进行函数映射之后的取值"
   ]
  },
  {
   "cell_type": "code",
   "execution_count": 5,
   "id": "df2aeb5f",
   "metadata": {},
   "outputs": [
    {
     "data": {
      "text/plain": [
       "[4, 8, 14, 22, 32]"
      ]
     },
     "execution_count": 5,
     "metadata": {},
     "output_type": "execute_result"
    }
   ],
   "source": [
    "x = [1,2,3,4,5] \n",
    "y = [2,3,4,5,6]\n",
    "a = list(map(lambda x,y:(x*y)+2,x,y)) \n",
    "# 输出：\n",
    "a\n",
    "# 注：map中如果传入的几个序列的长度不一，那么会依据最短的序列进行计算。"
   ]
  },
  {
   "cell_type": "markdown",
   "id": "00c5d91e",
   "metadata": {},
   "source": [
    "map(function,iterable1,iterable2)，function中的参数值不一定是一个x，也可以是x和y，甚至多个；后面的iterable表示需要参与function运算中的参数值，有几个参数值就传入几个iterable"
   ]
  },
  {
   "cell_type": "markdown",
   "id": "aaf9ca60",
   "metadata": {},
   "source": [
    "### 2. 筛选函数filter()  \n",
    "函数的功能是过滤掉列表中不符合函数条件的元素"
   ]
  },
  {
   "cell_type": "code",
   "execution_count": 6,
   "id": "50328c52",
   "metadata": {},
   "outputs": [
    {
     "data": {
      "text/plain": [
       "[2, 4]"
      ]
     },
     "execution_count": 6,
     "metadata": {},
     "output_type": "execute_result"
    }
   ],
   "source": [
    "x = [1,2,3,4,5] \n",
    "a = list(filter(lambda x:x%2==0,x)) \n",
    "# 找出偶数。python3.*之后filter函数返回的不再是列表而是迭代器，所以需要用list转换。 \n",
    "a "
   ]
  },
  {
   "cell_type": "markdown",
   "id": "fa33f205",
   "metadata": {},
   "source": [
    "### 3.reduce()累计函数  \n",
    "函数的功能是对列表内的元素进行累计操作"
   ]
  },
  {
   "cell_type": "code",
   "execution_count": 7,
   "id": "e59a2fba",
   "metadata": {},
   "outputs": [
    {
     "data": {
      "text/plain": [
       "20"
      ]
     },
     "execution_count": 7,
     "metadata": {},
     "output_type": "execute_result"
    }
   ],
   "source": [
    "from functools import reduce\n",
    "y = [2,3,4,5,6]\n",
    "reduce(lambda x,y: x + y,y) # 直接返回一个值\n"
   ]
  },
  {
   "cell_type": "markdown",
   "id": "52582d01",
   "metadata": {},
   "source": [
    "reduce在python2的时候是内置函数，到了python3移到了functools模块，所以使用之前需要 from functools import reduce 调用"
   ]
  },
  {
   "cell_type": "markdown",
   "id": "d7570979",
   "metadata": {},
   "source": [
    "## 1.6.4 eval函数"
   ]
  },
  {
   "cell_type": "markdown",
   "id": "e95a087b",
   "metadata": {},
   "source": [
    "eval()函数将字符串str当成有效的表达式来求值并返回计算结果，也就是实现list、dict、tuple与str之间的转化。"
   ]
  },
  {
   "cell_type": "code",
   "execution_count": 8,
   "id": "fe3556b6",
   "metadata": {},
   "outputs": [
    {
     "data": {
      "text/plain": [
       "str"
      ]
     },
     "execution_count": 8,
     "metadata": {},
     "output_type": "execute_result"
    }
   ],
   "source": [
    "# \n",
    "a = \"[[1,2], [3,4], [5,6], [7,8], [9,0]]\"\n",
    "type(a)"
   ]
  },
  {
   "cell_type": "code",
   "execution_count": 9,
   "id": "e51cec5f",
   "metadata": {},
   "outputs": [
    {
     "data": {
      "text/plain": [
       "[[1, 2], [3, 4], [5, 6], [7, 8], [9, 0]]"
      ]
     },
     "execution_count": 9,
     "metadata": {},
     "output_type": "execute_result"
    }
   ],
   "source": [
    "b = eval(a)\n",
    "b"
   ]
  },
  {
   "cell_type": "markdown",
   "id": "b4153d10",
   "metadata": {},
   "source": [
    "## 1.6.5 range函数"
   ]
  },
  {
   "cell_type": "markdown",
   "id": "b8f04160",
   "metadata": {},
   "source": [
    "> range(start, stop[, step]) "
   ]
  },
  {
   "cell_type": "markdown",
   "id": "c123606a",
   "metadata": {},
   "source": [
    "在[start,stop)区间内生成一个【整数】序列。   \n",
    "参数含义： "
   ]
  },
  {
   "cell_type": "markdown",
   "id": "303cb64a",
   "metadata": {},
   "source": [
    "```\n",
    "start:计数从start开始。默认是从0开始。\n",
    "   例如range（5）等价于range（0， 5）; \n",
    "end:技术到end结束，但不包括end.\n",
    "   例如：range（0， 5） 是[0, 1, 2, 3, 4]没有5 \n",
    "step：每次跳跃的间距，默认为1，当取2时，表示隔一个取一个。setp不能是float。\n",
    "   例如：range（0， 5） 等价于 range(0, 5, 1)。\n",
    "\n",
    "```"
   ]
  },
  {
   "cell_type": "markdown",
   "id": "69af0be1",
   "metadata": {},
   "source": [
    "range函数产生的是一个整数序列容器，当需要它是列表时用list调用即可，同样也可以用tuple调用。\n",
    "如："
   ]
  },
  {
   "cell_type": "code",
   "execution_count": 10,
   "id": "c1387406",
   "metadata": {},
   "outputs": [
    {
     "data": {
      "text/plain": [
       "[0, 1, 2, 3, 4]"
      ]
     },
     "execution_count": 10,
     "metadata": {},
     "output_type": "execute_result"
    }
   ],
   "source": [
    "list(range(5))"
   ]
  },
  {
   "cell_type": "markdown",
   "id": "8366c032",
   "metadata": {},
   "source": [
    "## 1.6.6 arange函数"
   ]
  },
  {
   "cell_type": "markdown",
   "id": "0e174ccc",
   "metadata": {},
   "source": [
    "当我们运行range(1,10,0.1)时，会报错？   \n",
    "因为step不能为小数。\n"
   ]
  },
  {
   "cell_type": "markdown",
   "id": "96597cd8",
   "metadata": {},
   "source": [
    "> arange(start, stop[, step]) "
   ]
  },
  {
   "cell_type": "code",
   "execution_count": 12,
   "id": "9927d95d",
   "metadata": {},
   "outputs": [
    {
     "data": {
      "text/plain": [
       "array([0. , 0.2, 0.4, 0.6, 0.8])"
      ]
     },
     "execution_count": 12,
     "metadata": {},
     "output_type": "execute_result"
    }
   ],
   "source": [
    "import numpy as np   #注意需要导入numpy\n",
    "np.arange(0,1,0.2)"
   ]
  },
  {
   "cell_type": "markdown",
   "id": "6e64dba4",
   "metadata": {},
   "source": [
    "## python中range（）与arange（）的区别\n",
    "### 1.共同点\n",
    "range() 和 arange() 函数都可以用于生成等间隔（等差）的序列，都可用于迭代。\n",
    "\n",
    "    两者的函数原型都有三个参数：\n",
    "    range([start,] stop, [step])\n",
    "    arange([start,] stop, [step])\n",
    "    start：可选参数，表示起始值，默认是0，结果包含起始值\n",
    "    stop：必须要有的参数，表示结束值，结果不包含结束值\n",
    "    step：可选参数，表示步长值，默认是1\n",
    "### 2.不同点\n",
    "    range() 是 python 的自带函数；\n",
    "    arange() 是 numpy 模块中的函数，使用时需要先导入 numpy 模块。\n",
    "    \n",
    "    range() 的参数只能是 int 类型；\n",
    "    arange() 的参数既可以是 int 类型，也可以是 float 类型。"
   ]
  },
  {
   "cell_type": "markdown",
   "id": "3b1f5c25",
   "metadata": {},
   "source": [
    "## 1.6.7 enumerate函数"
   ]
  },
  {
   "cell_type": "markdown",
   "id": "ca6443a3",
   "metadata": {},
   "source": [
    "用于将一个可遍历的数据对象(如列表、元组或字符串)组合为一个索引序列，同时列出数据和其index，一般用在 for 循环当中"
   ]
  },
  {
   "cell_type": "code",
   "execution_count": 13,
   "id": "b0e5b351",
   "metadata": {},
   "outputs": [
    {
     "name": "stdout",
     "output_type": "stream",
     "text": [
      "1 a \n",
      "\n",
      "2 b \n",
      "\n",
      "3 c \n",
      "\n",
      "4 d \n",
      "\n"
     ]
    }
   ],
   "source": [
    "HNMU = \"abcd\"\n",
    "j = 0\n",
    "for i in HNMU:\n",
    "    print(j+1,i,\"\\n\") #print(j+1 , i,end=\";\")    \n",
    "    j += 1"
   ]
  },
  {
   "cell_type": "code",
   "execution_count": 14,
   "id": "f75441d8",
   "metadata": {},
   "outputs": [
    {
     "name": "stdout",
     "output_type": "stream",
     "text": [
      "1 a \n",
      "\n",
      "2 b \n",
      "\n",
      "3 c \n",
      "\n",
      "4 d \n",
      "\n"
     ]
    }
   ],
   "source": [
    "HNMU = \"abcd\"\n",
    "for i,j in enumerate(HNMU):\n",
    "      print(i+1,j,\"\\n\")"
   ]
  },
  {
   "cell_type": "markdown",
   "id": "3cab603a",
   "metadata": {},
   "source": [
    "## 1.6.8 常用函数"
   ]
  },
  {
   "cell_type": "markdown",
   "id": "0a2f5aeb",
   "metadata": {},
   "source": [
    "#### 针对数据类型，通用的常用函数有type、len、id、copy 、help、dir等。  \n",
    "* type()：查看数据类型。  \n",
    "*  len()  ：查看数据的长度（即含有元素的个数）。  \n",
    "*  help():   查看数据的用法。自定义函数的说明文档就是通过help查看。  \n",
    "*  id( )  ： 查看数据存储内存地址。  \n",
    "*  copy():  对数据进行复制、拷贝。  "
   ]
  },
  {
   "cell_type": "code",
   "execution_count": 27,
   "id": "c06d1760",
   "metadata": {},
   "outputs": [
    {
     "name": "stdout",
     "output_type": "stream",
     "text": [
      "<class 'list'>\n",
      "5\n",
      "1852019148096\n",
      "1852018393024\n"
     ]
    },
    {
     "data": {
      "text/plain": [
       "['__add__',\n",
       " '__class__',\n",
       " '__class_getitem__',\n",
       " '__contains__',\n",
       " '__delattr__',\n",
       " '__delitem__',\n",
       " '__dir__',\n",
       " '__doc__',\n",
       " '__eq__',\n",
       " '__format__',\n",
       " '__ge__',\n",
       " '__getattribute__',\n",
       " '__getitem__',\n",
       " '__getstate__',\n",
       " '__gt__',\n",
       " '__hash__',\n",
       " '__iadd__',\n",
       " '__imul__',\n",
       " '__init__',\n",
       " '__init_subclass__',\n",
       " '__iter__',\n",
       " '__le__',\n",
       " '__len__',\n",
       " '__lt__',\n",
       " '__mul__',\n",
       " '__ne__',\n",
       " '__new__',\n",
       " '__reduce__',\n",
       " '__reduce_ex__',\n",
       " '__repr__',\n",
       " '__reversed__',\n",
       " '__rmul__',\n",
       " '__setattr__',\n",
       " '__setitem__',\n",
       " '__sizeof__',\n",
       " '__str__',\n",
       " '__subclasshook__',\n",
       " 'append',\n",
       " 'clear',\n",
       " 'copy',\n",
       " 'count',\n",
       " 'extend',\n",
       " 'index',\n",
       " 'insert',\n",
       " 'pop',\n",
       " 'remove',\n",
       " 'reverse',\n",
       " 'sort']"
      ]
     },
     "execution_count": 27,
     "metadata": {},
     "output_type": "execute_result"
    }
   ],
   "source": [
    "a_2 = [1,0,2,\"1\",\"feel\"]\n",
    "print(type(a_2))\n",
    "print(len(a_2))\n",
    "print(id(a_2))\n",
    "b=a_2.copy() \n",
    "print(id(b))\n",
    "dir(a_2)"
   ]
  },
  {
   "cell_type": "code",
   "execution_count": 28,
   "id": "2ffb806f",
   "metadata": {
    "scrolled": true
   },
   "outputs": [
    {
     "name": "stdout",
     "output_type": "stream",
     "text": [
      "Help on list object:\n",
      "\n",
      "class list(object)\n",
      " |  list(iterable=(), /)\n",
      " |  \n",
      " |  Built-in mutable sequence.\n",
      " |  \n",
      " |  If no argument is given, the constructor creates a new empty list.\n",
      " |  The argument must be an iterable if specified.\n",
      " |  \n",
      " |  Methods defined here:\n",
      " |  \n",
      " |  __add__(self, value, /)\n",
      " |      Return self+value.\n",
      " |  \n",
      " |  __contains__(self, key, /)\n",
      " |      Return key in self.\n",
      " |  \n",
      " |  __delitem__(self, key, /)\n",
      " |      Delete self[key].\n",
      " |  \n",
      " |  __eq__(self, value, /)\n",
      " |      Return self==value.\n",
      " |  \n",
      " |  __ge__(self, value, /)\n",
      " |      Return self>=value.\n",
      " |  \n",
      " |  __getattribute__(self, name, /)\n",
      " |      Return getattr(self, name).\n",
      " |  \n",
      " |  __getitem__(...)\n",
      " |      x.__getitem__(y) <==> x[y]\n",
      " |  \n",
      " |  __gt__(self, value, /)\n",
      " |      Return self>value.\n",
      " |  \n",
      " |  __iadd__(self, value, /)\n",
      " |      Implement self+=value.\n",
      " |  \n",
      " |  __imul__(self, value, /)\n",
      " |      Implement self*=value.\n",
      " |  \n",
      " |  __init__(self, /, *args, **kwargs)\n",
      " |      Initialize self.  See help(type(self)) for accurate signature.\n",
      " |  \n",
      " |  __iter__(self, /)\n",
      " |      Implement iter(self).\n",
      " |  \n",
      " |  __le__(self, value, /)\n",
      " |      Return self<=value.\n",
      " |  \n",
      " |  __len__(self, /)\n",
      " |      Return len(self).\n",
      " |  \n",
      " |  __lt__(self, value, /)\n",
      " |      Return self<value.\n",
      " |  \n",
      " |  __mul__(self, value, /)\n",
      " |      Return self*value.\n",
      " |  \n",
      " |  __ne__(self, value, /)\n",
      " |      Return self!=value.\n",
      " |  \n",
      " |  __repr__(self, /)\n",
      " |      Return repr(self).\n",
      " |  \n",
      " |  __reversed__(self, /)\n",
      " |      Return a reverse iterator over the list.\n",
      " |  \n",
      " |  __rmul__(self, value, /)\n",
      " |      Return value*self.\n",
      " |  \n",
      " |  __setitem__(self, key, value, /)\n",
      " |      Set self[key] to value.\n",
      " |  \n",
      " |  __sizeof__(self, /)\n",
      " |      Return the size of the list in memory, in bytes.\n",
      " |  \n",
      " |  append(self, object, /)\n",
      " |      Append object to the end of the list.\n",
      " |  \n",
      " |  clear(self, /)\n",
      " |      Remove all items from list.\n",
      " |  \n",
      " |  copy(self, /)\n",
      " |      Return a shallow copy of the list.\n",
      " |  \n",
      " |  count(self, value, /)\n",
      " |      Return number of occurrences of value.\n",
      " |  \n",
      " |  extend(self, iterable, /)\n",
      " |      Extend list by appending elements from the iterable.\n",
      " |  \n",
      " |  index(self, value, start=0, stop=9223372036854775807, /)\n",
      " |      Return first index of value.\n",
      " |      \n",
      " |      Raises ValueError if the value is not present.\n",
      " |  \n",
      " |  insert(self, index, object, /)\n",
      " |      Insert object before index.\n",
      " |  \n",
      " |  pop(self, index=-1, /)\n",
      " |      Remove and return item at index (default last).\n",
      " |      \n",
      " |      Raises IndexError if list is empty or index is out of range.\n",
      " |  \n",
      " |  remove(self, value, /)\n",
      " |      Remove first occurrence of value.\n",
      " |      \n",
      " |      Raises ValueError if the value is not present.\n",
      " |  \n",
      " |  reverse(self, /)\n",
      " |      Reverse *IN PLACE*.\n",
      " |  \n",
      " |  sort(self, /, *, key=None, reverse=False)\n",
      " |      Sort the list in ascending order and return None.\n",
      " |      \n",
      " |      The sort is in-place (i.e. the list itself is modified) and stable (i.e. the\n",
      " |      order of two equal elements is maintained).\n",
      " |      \n",
      " |      If a key function is given, apply it once to each list item and sort them,\n",
      " |      ascending or descending, according to their function values.\n",
      " |      \n",
      " |      The reverse flag can be set to sort in descending order.\n",
      " |  \n",
      " |  ----------------------------------------------------------------------\n",
      " |  Class methods defined here:\n",
      " |  \n",
      " |  __class_getitem__(...) from builtins.type\n",
      " |      See PEP 585\n",
      " |  \n",
      " |  ----------------------------------------------------------------------\n",
      " |  Static methods defined here:\n",
      " |  \n",
      " |  __new__(*args, **kwargs) from builtins.type\n",
      " |      Create and return a new object.  See help(type) for accurate signature.\n",
      " |  \n",
      " |  ----------------------------------------------------------------------\n",
      " |  Data and other attributes defined here:\n",
      " |  \n",
      " |  __hash__ = None\n",
      "\n"
     ]
    }
   ],
   "source": [
    "help(a_2)"
   ]
  },
  {
   "cell_type": "markdown",
   "id": "c698f317",
   "metadata": {},
   "source": [
    "注意：  \n",
    "如果我们直接赋值：  \n",
    "c = a_2  \n",
    "id(c)  \n",
    "结果会怎么样呢？  "
   ]
  },
  {
   "cell_type": "code",
   "execution_count": 30,
   "id": "16d217e8",
   "metadata": {},
   "outputs": [
    {
     "data": {
      "text/plain": [
       "1852019148096"
      ]
     },
     "execution_count": 30,
     "metadata": {},
     "output_type": "execute_result"
    }
   ],
   "source": [
    "c = a_2\n",
    "id(c)"
   ]
  },
  {
   "cell_type": "code",
   "execution_count": 31,
   "id": "8329c754",
   "metadata": {},
   "outputs": [
    {
     "data": {
      "text/plain": [
       "1852018393024"
      ]
     },
     "execution_count": 31,
     "metadata": {},
     "output_type": "execute_result"
    }
   ],
   "source": [
    "id(b)"
   ]
  },
  {
   "cell_type": "code",
   "execution_count": 32,
   "id": "11baaccf",
   "metadata": {},
   "outputs": [
    {
     "data": {
      "text/plain": [
       "1852019148096"
      ]
     },
     "execution_count": 32,
     "metadata": {},
     "output_type": "execute_result"
    }
   ],
   "source": [
    "id(a_2)"
   ]
  },
  {
   "cell_type": "markdown",
   "id": "e765f052",
   "metadata": {},
   "source": [
    "<img src=\"image/Chapter1_33.png\" width=\"600\" height=\"600\" >"
   ]
  },
  {
   "cell_type": "markdown",
   "id": "b4215fdf",
   "metadata": {},
   "source": [
    "# 1.7 超市打印小票"
   ]
  },
  {
   "cell_type": "code",
   "execution_count": null,
   "id": "2210eac7",
   "metadata": {},
   "outputs": [],
   "source": [
    "import time\n",
    "time.strftime(\"%Y-%m-%d %H:%M:%S\", time.localtime())"
   ]
  },
  {
   "cell_type": "code",
   "execution_count": 1,
   "id": "120de178",
   "metadata": {},
   "outputs": [
    {
     "name": "stdout",
     "output_type": "stream",
     "text": [
      "请输入您的姓名：jason\n",
      "请输入商品名称：apple\n",
      "请输入金额：23\n",
      "继续输入？[Y/y,N/n]n\n",
      "Sales Reporting\n",
      "---------------\n",
      "apple          23.00\n",
      "---------------\n",
      "jason 2024-03-14 17:45:59\n"
     ]
    }
   ],
   "source": [
    "# -*- coding: utf-8 -*-\n",
    "\"\"\"\n",
    "Created on 2024-02-29 10:46:15\n",
    "实现超市售货员记账小票打印功能\n",
    "主要实现以下功能：\n",
    "\t开机有提示语\n",
    "\t输入售货员姓名\n",
    "\t输入商品名称或编码\n",
    "\t输入商品金额\n",
    "\t输入y或者Y则继续，否则退出打印记录详细\n",
    "@author: linyongyi\n",
    "@id: 20240807301\n",
    "输出结果如下格式：\n",
    "——————————\n",
    "apple           12.0\n",
    "orange          32.0\n",
    "watermelon      90.0\n",
    "——————————\n",
    "\n",
    "\"\"\"\n",
    "####################################\n",
    "import datetime\n",
    "\n",
    "name = input('请输入您的姓名：')\n",
    "\n",
    "def add_sale_list():\n",
    "    \"\"\"\n",
    "    接收两个变量：商品名称（prod_name）、商品的金额（sales）\n",
    "    sales必须是float\n",
    "    \"\"\"\n",
    "    prod_name = input(\"请输入商品名称：\")\n",
    "    try:\n",
    "        sales = float(input(\"请输入金额：\"))\n",
    "    except Exception as e:\n",
    "        print(\"请输入金额！\")\n",
    "        sales = float(input(\"请输入金额：\"))\n",
    "    tup = (prod_name,sales)\n",
    "    return tup\n",
    "    \n",
    "lis = []\n",
    "while 1:\n",
    "    lis0 = add_sale_list()\n",
    "    lis.append(lis0)\n",
    "    choice = input(\"继续输入？[Y/y,N/n]\")\n",
    "    if choice == (\"n\" or \"N\"):\n",
    "        break\n",
    "    \n",
    "print('Sales Reporting')\n",
    "print(\"---------------\")\n",
    "for i in lis:\n",
    "    print(\"{:15s}{:.2f}\".format(i[0],i[1]))\n",
    "print(\"---------------\")\n",
    "t = datetime.datetime.now()\n",
    "print(name,datetime.datetime.strftime(t,'%Y-%m-%d %H:%M:%S'))\n"
   ]
  },
  {
   "cell_type": "code",
   "execution_count": 2,
   "id": "9f85ae4d",
   "metadata": {},
   "outputs": [
    {
     "name": "stdout",
     "output_type": "stream",
     "text": [
      "欢迎使用超市售货员记账系统！\n",
      "请输入售货员姓名：lin\n",
      "请输入商品名称或编码：apple\n",
      "请输入商品金额：32\n",
      "是否继续添加商品？(输入 y 或 Y 继续，其他任意键退出)：\n",
      "\n",
      "-----------------------------\n",
      "      超市购物小票      \n",
      "-----------------------------\n",
      "售货员姓名： lin\n",
      "-----------------------------\n",
      "商品名称       金额\n",
      "-----------------------------\n",
      "apple           32.00\n",
      "-----------------------------\n",
      "总计： 32.00 元\n",
      "-----------------------------\n"
     ]
    }
   ],
   "source": [
    "def print_receipt():\n",
    "    print(\"欢迎使用超市售货员记账系统！\")\n",
    "    salesperson_name = input(\"请输入售货员姓名：\")\n",
    "    \n",
    "    total_price = 0\n",
    "    items = []\n",
    "\n",
    "    while True:\n",
    "        item_name = input(\"请输入商品名称或编码：\")\n",
    "        item_price = float(input(\"请输入商品金额：\"))\n",
    "        \n",
    "        total_price += item_price\n",
    "        items.append((item_name, item_price))\n",
    "        \n",
    "        cont = input(\"是否继续添加商品？(输入 y 或 Y 继续，其他任意键退出)：\")\n",
    "        if cont.lower() != 'y':\n",
    "            break\n",
    "    \n",
    "    print(\"\\n-----------------------------\")\n",
    "    print(\"      超市购物小票      \")\n",
    "    print(\"-----------------------------\")\n",
    "    print(\"售货员姓名：\", salesperson_name)\n",
    "    print(\"-----------------------------\")\n",
    "    print(\"商品名称       金额\")\n",
    "    print(\"-----------------------------\")\n",
    "    for item in items:\n",
    "        print(\"{:<15} {:.2f}\".format(item[0], item[1]))\n",
    "    print(\"-----------------------------\")\n",
    "    print(\"总计： {:.2f} 元\".format(total_price))\n",
    "    print(\"-----------------------------\")\n",
    "\n",
    "if __name__ == \"__main__\":\n",
    "    print_receipt()"
   ]
  },
  {
   "cell_type": "code",
   "execution_count": null,
   "id": "2f8e2762",
   "metadata": {},
   "outputs": [],
   "source": []
  }
 ],
 "metadata": {
  "kernelspec": {
   "display_name": "Python 3 (ipykernel)",
   "language": "python",
   "name": "python3"
  },
  "language_info": {
   "codemirror_mode": {
    "name": "ipython",
    "version": 3
   },
   "file_extension": ".py",
   "mimetype": "text/x-python",
   "name": "python",
   "nbconvert_exporter": "python",
   "pygments_lexer": "ipython3",
   "version": "3.11.5"
  }
 },
 "nbformat": 4,
 "nbformat_minor": 5
}
