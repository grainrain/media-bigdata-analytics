{
 "cells": [
  {
   "cell_type": "markdown",
   "id": "10f07f25",
   "metadata": {},
   "source": [
    "<center><h1>pyecharts</h1></center>"
   ]
  },
  {
   "cell_type": "markdown",
   "id": "9c9712e2",
   "metadata": {},
   "source": [
    "Pyecharts分为V0.5.X和V1两个大版本，相互不兼容，Pyecharts V1是一个全新的版本。Pyecharts V0.5.X支持Python2.7、Python 3.4+，经开发团队决定，Pyecharts V0.5.X版本将不再进行维护。  \n",
    "Pyecharts V1仅支持Python3.6+，新版本系列将从Pyecharts V1.0.0开始。  \n",
    "至于新的动向可以查阅网站：https://pyecharts.org/#/zh-cn/quickstart。     \n",
    "安装Pyecharts:   \n",
    "> pip install pyecharts\n"
   ]
  },
  {
   "cell_type": "markdown",
   "id": "eba2c67d",
   "metadata": {},
   "source": [
    "* 基本图表的做法\n",
    "* 坐标系图表\n",
    "* 地图与地理坐标系"
   ]
  },
  {
   "cell_type": "markdown",
   "id": "8e5cbe70",
   "metadata": {},
   "source": [
    "# 8.1 安装及配置"
   ]
  },
  {
   "cell_type": "markdown",
   "id": "cd0bb770",
   "metadata": {},
   "source": [
    "## 1.安装 \n",
    "> <h3>pip install pyecharts</h3>"
   ]
  },
  {
   "cell_type": "markdown",
   "id": "eecf0ba3",
   "metadata": {},
   "source": [
    "<img src=\"image/Chapter8_1.png\" >"
   ]
  },
  {
   "cell_type": "markdown",
   "id": "08378ec0",
   "metadata": {},
   "source": [
    "ECharts库的图表类型绘制流程如下，包括一个函数体和一个保存函数。"
   ]
  },
  {
   "cell_type": "markdown",
   "id": "640779dc",
   "metadata": {},
   "source": [
    "```\n",
    "#伪代码\n",
    "charttype_name = (         #链式调用\n",
    "           ChartType ()    #实例化一个对象，ChartType指图像的类型，如Pie、Bar等\n",
    "           .add()          #Bar图则为add_xaxis()和add_yaxis()\n",
    "           .set_global_opts(title_opts=opts.TitleOpts(title=\"主标题\", subtitle=\"副标题\"))\n",
    "          # 或者直接使用字典参数\n",
    "          #.set_global_opts(title_opts={\"text\": \"主标题\", \"subtext\": \"副标题\"}))\n",
    "charttype_name.render()    #保存图片\n",
    "```"
   ]
  },
  {
   "cell_type": "markdown",
   "id": "5cef0c12",
   "metadata": {},
   "source": [
    "先看一个示例。"
   ]
  },
  {
   "cell_type": "code",
   "execution_count": null,
   "id": "3dde272e",
   "metadata": {},
   "outputs": [],
   "source": [
    "from pyecharts import options as opts\n",
    "from pyecharts.charts import Page, Pie\n",
    "\n",
    "name= ['草莓','芒果','葡萄','雪梨','西瓜','柠檬','车厘子']\n",
    "value=[23,32,12,13,10,24,56]\n",
    "data = [tuple(z) for z in zip(name, value)]\n",
    "pie = (Pie()\n",
    "     .add(\"\",data) \n",
    "     .set_global_opts(title_opts={\"text\":\"Pie基本示例\", \"subtext\":\"（副标题无）\"})\n",
    "     )\n",
    "pie.render('file/1.html')\n",
    "#pie.render_notebook() #在jupyter中直接在页面显示图片"
   ]
  },
  {
   "cell_type": "markdown",
   "id": "d50f0a06",
   "metadata": {},
   "source": [
    "<img src=\"image/Chapter8_2.png\" width=\"600\" height=\"600\" >"
   ]
  },
  {
   "cell_type": "markdown",
   "id": "a1bdb701",
   "metadata": {},
   "source": [
    "说明：  \n",
    "（1）Pyecharts生成的图表默认在线从网站https://assets.pyecharts.org/assets/挂载 js静态文件（echarts.min.js），当离线或者网速不佳时打开保存的图表网页将可能不显示数据图，具体的处理方法详见附录部分。  \n",
    "（2）Pie()函数体括号内代码虽然进行了分行，但是每行末尾没有使用逗号，称为链式调用。  \n"
   ]
  },
  {
   "cell_type": "markdown",
   "id": "ca6ea610",
   "metadata": {},
   "source": [
    "上面代码也可以写成单独调用的方法，形式如下。"
   ]
  },
  {
   "cell_type": "code",
   "execution_count": null,
   "id": "736457b3",
   "metadata": {},
   "outputs": [],
   "source": [
    "pie = Pie()\n",
    "pie.add(\"\",data)\n",
    "pie.set_global_opts(title_opts={\"text\":\"Pie基本示例\", \"subtext\":\"（副标题无）\"})\n",
    "\n",
    "pie.render('file/cucn1.html')\n",
    "#pie.render_notebook()\n"
   ]
  },
  {
   "cell_type": "markdown",
   "id": "bc1dc7be",
   "metadata": {},
   "source": [
    "图形以HTML格式保存在当前路径下（cucn1.html），以网页形式才能打开。  \n",
    "在Jupyter Notebook中，Pyecharts具有matplotlib同样的功能，Pyecharts也有。如果需要使用Jupyter Notebook展示图表，调用render_notebook() 即可，所有图表均可正常显示（除了3D图）。\n"
   ]
  },
  {
   "cell_type": "markdown",
   "id": "15668ff9",
   "metadata": {},
   "source": [
    "## 2.配置 \n",
    "上图所示的饼图缺少了一些可设置的项，如线条粗细等，这需要设置 options 配置项。设配置项首先要导人options模块。\n",
    "2。通用配置项\n",
    "\n",
    "> <h3>from pyecharts import options as opts </h3>"
   ]
  },
  {
   "cell_type": "markdown",
   "id": "03fa309f",
   "metadata": {},
   "source": [
    "接下来可以在函数体中加人设置参数。\n",
    "> .set global opts(title opts=(\"text\":\"主标题\",\"subtext\":\"副标题\"))\n",
    "\n",
    "或者使用字典的方式来设置参数。pyechars 还提供了十多种内主题色调。在使用主题色调前，需要先导人模块 ThemeType   \n",
    "> from pyecharts.globals import ThemeType  \n",
    "\n",
    "接下来可以在函数体中加人init_opts参数项。  \n",
    "参数项中的 LIGHT 可以修改为其他的主题，如 WHITE、DARK、CHALK、ESSOS、INFOGRAPHIC、MACARONS、PURPLE_PASSION 、ROMA、ROMANTIC 、SHINE、VINTAGE、WALDEN、WESTEROS、WONDERLAND 等，在后续我们将会使用到。"
   ]
  },
  {
   "cell_type": "markdown",
   "id": "0859e4b4",
   "metadata": {},
   "source": [
    "## 3.pyecharts可绘制的图表类型"
   ]
  },
  {
   "cell_type": "markdown",
   "id": "abb8f2c4",
   "metadata": {},
   "source": [
    "pyecharts可绘制如下类型的图表"
   ]
  },
  {
   "cell_type": "markdown",
   "id": "558b37e4",
   "metadata": {},
   "source": [
    "①Bar(柱状图/条形图)。  \n",
    "②Bar3D(3D柱状图) 。   \n",
    "③Boxplot(箱形图)。  \n",
    "④EfectScatter (涟散点图)。  \n",
    "⑤Funnel(漏斗图)。  \n",
    "⑥Gauge(仪表盘)。  \n",
    "⑦Geo(地理坐标系)。  \n",
    "⑧Graph (关系图)。  \n",
    "⑨HeatMap(热力图)。  \n",
    "⑩Kline(K线图)。  \n",
    "⑪Line(折线/面积图)  \n",
    "⑫Line3D(3D折线图)  \n",
    "⑬Liquid(水球图)。  \n",
    "⑭Map(地图)。  \n",
    "⑮Parallel(平行坐标系)  \n",
    "⑯Pie(饼图)。  \n",
    "⑰Polar(极坐标系)  \n",
    "⑱Radar(雷达图)  \n",
    "⑲Sankey (桑基图)  \n",
    "⑳Scatter(散点图)。  \n",
    "㉑Scatter3D(3D散点图)。   \n",
    "㉒ThemeRiver(主题河流图)  \n",
    "㉓WordCloud(词云图)。    "
   ]
  },
  {
   "cell_type": "markdown",
   "id": "56fd1837",
   "metadata": {},
   "source": [
    "# 8.2基本图表"
   ]
  },
  {
   "cell_type": "markdown",
   "id": "d367bae4",
   "metadata": {},
   "source": [
    "## 8.2.1 饼图"
   ]
  },
  {
   "cell_type": "markdown",
   "id": "3441f283",
   "metadata": {},
   "source": [
    "饼图中add数据项data是一个二元的元组或列表，其数据格式可以是以下形式的一种。  \n",
    " [[1,2],[3,2],['a',5]]、[(1,2),(3,2),('a',5)]、（[1,2],[3,2],['a',5]）、（(1,2),(3,2),('a',5)）。\n",
    "绘制饼图代码如下。  \n"
   ]
  },
  {
   "cell_type": "code",
   "execution_count": 1,
   "id": "a34b00f7",
   "metadata": {},
   "outputs": [
    {
     "data": {
      "text/plain": [
       "'c:\\\\教学课件与代码\\\\《传媒大数据分析》2023-2024-2\\\\file\\\\2.html'"
      ]
     },
     "execution_count": 1,
     "metadata": {},
     "output_type": "execute_result"
    }
   ],
   "source": [
    "from pyecharts import options as opts\n",
    "from pyecharts.charts import Page, Pie\n",
    "\n",
    "name=['草莓','芒果','葡萄','雪梨','西瓜','柠檬','车厘子']\n",
    "value=[23,32,12,13,10,24,56]\n",
    "data=[tuple(z) for z in zip(name, value)]\n",
    "#      .add(\"\",data) #其中data数据是二元的列表或元组[('草莓', 23), ('杧果', 32)]\n",
    "#      .set_global_opts(title_opts={\"text\":\"Pie基本示例\", \"subtext\":\"（副标题无）\"})\n",
    "#      .set_series_opts(label_opts=opts.LabelOpts(formatter=\"{b}: {c}\"))\n",
    "#                                     #在图中显示数据格式“草莓：23”\n",
    "#     )\n",
    "pie=(\n",
    "Pie().\n",
    "add(\"\",data)\n",
    ".set_global_opts(title_opts={\"text\":\"Pie基本示例\", \"subtext\":\"（副标题无）\"})\n",
    ".set_series_opts(label_opts=opts.LabelOpts(formatter=\"{b}: {c}\"))\n",
    ")\n",
    "pie.render('file/2.html')"
   ]
  },
  {
   "cell_type": "markdown",
   "id": "a2ec634a",
   "metadata": {},
   "source": [
    "<img src=\"image/Chapter8_3.png\" width=\"600\" height=\"600\" >"
   ]
  },
  {
   "cell_type": "markdown",
   "id": "5b4526a0",
   "metadata": {},
   "source": [
    "## 8.2.2 漏斗图"
   ]
  },
  {
   "cell_type": "markdown",
   "id": "6975dead",
   "metadata": {},
   "source": [
    "漏斗图中add数据项data是一个二元的元组或列表，其数据格式如饼图。"
   ]
  },
  {
   "cell_type": "code",
   "execution_count": null,
   "id": "971c4346",
   "metadata": {},
   "outputs": [],
   "source": [
    "from pyecharts import options as opts\n",
    "from pyecharts.charts import Funnel, Page\n",
    "\n",
    "name= ['草莓','芒果','葡萄','雪梨','西瓜','柠檬','车厘子']\n",
    "value=[23,32,12,13,10,24,56]\n",
    "data = [tuple(z) for z in zip(name, value)]\n",
    "funnel= (Funnel()\n",
    "         .add(\"商品\", data)\n",
    "         .set_global_opts(title_opts=opts.TitleOpts(title=\"Funnel-基本示例\"))\n",
    "         .set_series_opts(label_opts=opts.LabelOpts(formatter=\"{b}: {c}\"))\n",
    "         )\n",
    "funnel.render('file/f1.html')"
   ]
  },
  {
   "cell_type": "markdown",
   "id": "04900e7d",
   "metadata": {},
   "source": [
    "<img src=\"image/Chapter8_4.png\" width=\"600\" height=\"600\" >"
   ]
  },
  {
   "cell_type": "markdown",
   "id": "7aa1e182",
   "metadata": {},
   "source": [
    "漏斗中的数据标签也可以放到图中居中显示，在add中添加参数label_opts项即可。\n",
    "> .add(\"商品\",data,label_opts=opts.LabelOpts(position=\"inside\"),sort_= \"ascending\")\n",
    "\n",
    "其中的sort_项让漏斗倒立，但显示字典格式的数据项set_series_opts需去掉，\n"
   ]
  },
  {
   "cell_type": "code",
   "execution_count": null,
   "id": "f5a0782e",
   "metadata": {},
   "outputs": [],
   "source": [
    "from pyecharts import options as opts\n",
    "from pyecharts.charts import Funnel, Page\n",
    "\n",
    "name= ['草莓','芒果','葡萄','雪梨','西瓜','柠檬','车厘子']\n",
    "value=[23,32,12,13,10,24,56]\n",
    "data = [tuple(z) for z in zip(name, value)]\n",
    "funnel= (Funnel()\n",
    "         .add(\"商品\",data,label_opts=opts.LabelOpts(position=\"inside\"),sort_= \"ascending\")\n",
    "         .set_global_opts(title_opts=opts.TitleOpts(title=\"Funnel-基本示例\"))\n",
    "#          .set_series_opts(label_opts=opts.LabelOpts(formatter=\"{b}: {c}\"))\n",
    "         )\n",
    "funnel.render('file/f1_1.html')"
   ]
  },
  {
   "cell_type": "markdown",
   "id": "28c19b13",
   "metadata": {},
   "source": [
    "<img src=\"image/Chapter8_5.png\" width=\"600\" height=\"600\" >"
   ]
  },
  {
   "cell_type": "markdown",
   "id": "c287d7f3",
   "metadata": {},
   "source": [
    "## 8.2.3 仪表图"
   ]
  },
  {
   "cell_type": "markdown",
   "id": "cd2d706f",
   "metadata": {},
   "source": [
    "仪表图比较简单，输入数据就是一个元素的二元元组列表。"
   ]
  },
  {
   "cell_type": "code",
   "execution_count": null,
   "id": "849e503a",
   "metadata": {},
   "outputs": [],
   "source": [
    "from pyecharts import options as opts\n",
    "from pyecharts.charts import Gauge, Page\n",
    "\n",
    "data = [(\"完成率\", 66.6)]\n",
    "gauge = (Gauge()\n",
    "          .add(\"\",data)\n",
    "          .set_global_opts(title_opts=opts.TitleOpts(title=\"Gauge-基本示例\"))\n",
    "          )\n",
    "gauge.render('file/g1.html')"
   ]
  },
  {
   "cell_type": "markdown",
   "id": "8a43a5df",
   "metadata": {},
   "source": [
    "<img src=\"image/Chapter8_6.png\" width=\"600\" height=\"600\" >"
   ]
  },
  {
   "cell_type": "markdown",
   "id": "8205a41b",
   "metadata": {},
   "source": [
    "若图中的百分比数据66.6%与表盘中的标题“完成率”重叠，则在.add(\"\",data)行修改为\n",
    "> .add(\"\",data,detail_label_opts=opts.LabelOpts(formatter=\"{value}\"))\n",
    "\n",
    "即可。\n"
   ]
  },
  {
   "cell_type": "markdown",
   "id": "1b42d1e7",
   "metadata": {},
   "source": [
    "## 8.2.4 关系图"
   ]
  },
  {
   "cell_type": "markdown",
   "id": "02e2f599",
   "metadata": {},
   "source": [
    "关系图（Graph）add项中的数据有两项结点nodes和连接边links，nodes和links都是字典格式。  \n",
    "结点格式如下。  \n",
    "> nodes= [{\"结点名\": \"结点1\", \"结点大小\": 10},{\"结点名\": \"结点2\", \"结点大小\": 20]  \n",
    "\n",
    "连接边格式如下。  \n",
    ">  Links=[{'起点': '结点1', '止点': '结点2'}, {'起点': '结点2', '止点': '结点1'}]  \n",
    "\n",
    "结点和连接边也可以使用图格式。  \n",
    "\n",
    "> nodes = [opts.GraphNode(name=\"结点1\", symbol_size=10),\n",
    "           opts.GraphNode(name=\"结点2\", symbol_size=20)]\n",
    "\n",
    ">  links = [opts.GraphLink(source=\"结点1\", target=\"结点2\"),\n",
    "           opts.GraphLink(source=\"结点2\", target=\"结点3\")]\n"
   ]
  },
  {
   "cell_type": "code",
   "execution_count": null,
   "id": "0038d26f",
   "metadata": {},
   "outputs": [],
   "source": [
    "import json\n",
    "import os\n",
    "from pyecharts import options as opts\n",
    "from pyecharts.charts import Graph, Page\n",
    "#结点列表，每个元素用字典表示，每个元素有结点名和结点大小\n",
    "nodes= [{\"name\": \"结点1\", \"symbolSize\": 10},\n",
    "          {\"name\": \"结点2\", \"symbolSize\": 20},\n",
    "          {\"name\": \"结点3\", \"symbolSize\": 30},\n",
    "          {\"name\": \"结点4\", \"symbolSize\": 40},\n",
    "          {\"name\": \"结点5\", \"symbolSize\": 50},\n",
    "          {\"name\": \"结点6\", \"symbolSize\": 40},\n",
    "          {\"name\": \"结点7\", \"symbolSize\": 30},\n",
    "          {\"name\": \"结点8\", \"symbolSize\": 20}]\n",
    "#边列表。列表中每个元素也是用字典表示，字典中每个元素都有结点名\n",
    "#如[{'source': '结点1', 'target': '结点1'}, {'source': '结点1', 'target': '结点2'}]。\n",
    "links = []\n",
    "for i in nodes:\n",
    "     for j in nodes:\n",
    "          links.append({\"source\": i.get(\"name\"), \"target\": j.get(\"name\")})\n",
    "\n",
    "graph = (Graph()\n",
    "          .add(\"\", nodes, links, repulsion=8000)#图显示的大小（两结点间的距离）\n",
    "          .set_global_opts(title_opts=opts.TitleOpts(title=\"Graph-基本示例\")))\n",
    "graph.render('file/graph1.html')\n"
   ]
  },
  {
   "cell_type": "markdown",
   "id": "080203d1",
   "metadata": {},
   "source": [
    "<img src=\"image/Chapter8_7.png\" width=\"600\" height=\"600\" >"
   ]
  },
  {
   "cell_type": "code",
   "execution_count": null,
   "id": "10133327",
   "metadata": {},
   "outputs": [],
   "source": [
    "import json\n",
    "from pyecharts import options as opts\n",
    "from pyecharts.charts import Graph, Page\n",
    "\n",
    "with open(r\"file/weibo.json\", \"r\", encoding=\"utf-8\") as f:\n",
    "          j = json.load(f)\n",
    "          nodes, links, categories, cont, mid, userl = j\n",
    "\n",
    "graph= (Graph()\n",
    "         .add(\"\", nodes, links, categories, repulsion=50,\n",
    "             linestyle_opts=opts.LineStyleOpts(curve=0.2),\n",
    "             label_opts=opts.LabelOpts(is_show=False) )\n",
    "         .set_global_opts(legend_opts=opts.LegendOpts(is_show=False),\n",
    "             title_opts=opts.TitleOpts(title=\"Graph-微博转发关系图\")))\n",
    "graph.render('file/graph2.html')\n"
   ]
  },
  {
   "cell_type": "markdown",
   "id": "36563b6c",
   "metadata": {},
   "source": [
    "<img src=\"image/Chapter8_8.png\" >"
   ]
  },
  {
   "cell_type": "markdown",
   "id": "98154d3a",
   "metadata": {},
   "source": [
    "## 8.2.5 词云图   \n",
    "词云图（WordCloud）的做法比较简单，主要数据是提供词频。下面代码的输出如图所示。\n"
   ]
  },
  {
   "cell_type": "code",
   "execution_count": null,
   "id": "b1501011",
   "metadata": {},
   "outputs": [],
   "source": [
    "from pyecharts import options as opts\n",
    "from pyecharts.charts import Page, WordCloud\n",
    "from pyecharts.globals import SymbolType\n",
    "\n",
    "words = [\n",
    "     (\"海医\", 9000), (\"中北\", 6181), (\"Amy Schumer\", 4386),\n",
    "     (\"Jurassic World\", 4055),(\"Charter Communications\", 2467),\n",
    "     (\"Chick Fil A\", 2244),(\"Planet Fitness\", 1868),\n",
    "     (\"Pitch Perfect\", 1484),\n",
    "     (\"Express\", 1112),(\"yubg\", 865),\n",
    "     (\"Johnny Depp\", 847),\n",
    "     (\"Lena Dunham\", 582),\n",
    "     (\"Lewis Hamilton\", 555),\n",
    "     (\"余老师\", 4500),\n",
    "     (\"Mary Ellen Mark\", 462),\n",
    "     (\"Farrah Abraham\", 366),\n",
    "     (\"Rita Ora\", 360),\n",
    "     (\"Serena Williams\", 282),\n",
    "     (\"NCAA baseball tournament\", 273),\n",
    "     (\"Point Break\", 265),\n",
    "        ]\n",
    "wordcloud = (WordCloud()\n",
    "       .add(\"\", words, word_size_range=[10, 50])# word_size_range为字体大小范围\n",
    "       .set_global_opts(title_opts=opts.TitleOpts(title=\"WordCloud-基本示例\")) )\n",
    "wordcloud.render('file/wordcloud.html')\n"
   ]
  },
  {
   "cell_type": "markdown",
   "id": "46db101a",
   "metadata": {},
   "source": [
    "<img src=\"image/Chapter8_9.png\" width=\"600\" height=\"600\" >"
   ]
  },
  {
   "cell_type": "markdown",
   "id": "5b7af1a7",
   "metadata": {},
   "source": [
    "ECharts的坐标系图表类型绘制流程如下，包括一个函数体和一个保存函数。\n",
    "```\n",
    "#伪代码\n",
    "charttype = (                      #链式调用\n",
    "    ChartType ()\n",
    "    .add_xaxis()\n",
    "    .add_yaxis()\n",
    "    .set_global_opts(title_opts=opts.TitleOpts(title=\"主标题\", subtitle=\"副标题\"))\n",
    "    #或者直接使用字典参数，如下\n",
    "    #.set_global_opts(title_opts={\"text\": \"主标题\", \"subtext\": \"副标题\"}))\n",
    "chart_name.render()        #保存图片\n",
    "```"
   ]
  },
  {
   "cell_type": "markdown",
   "id": "38362abd",
   "metadata": {},
   "source": [
    "# 8.3 坐标系图表"
   ]
  },
  {
   "cell_type": "markdown",
   "id": "1ffe9dfa",
   "metadata": {},
   "source": [
    "ECharts的坐标系图表类型绘制流程如下，包括一个函数体和一个保存函数。\n",
    "```\n",
    "#伪代码\n",
    "charttype = (                      #链式调用\n",
    "    ChartType ()\n",
    "    .add_xaxis()\n",
    "    .add_yaxis()\n",
    "    .set_global_opts(title_opts=opts.TitleOpts(title=\"主标题\", subtitle=\"副标题\"))\n",
    "    #或者直接使用字典参数，如下\n",
    "    #.set_global_opts(title_opts={\"text\": \"主标题\", \"subtext\": \"副标题\"}))\n",
    "chart_name.render()        #保存图片\n",
    "```\n"
   ]
  },
  {
   "cell_type": "markdown",
   "id": "14c908dd",
   "metadata": {},
   "source": [
    "## 8.3.1 柱状图"
   ]
  },
  {
   "cell_type": "code",
   "execution_count": null,
   "id": "27d20ede",
   "metadata": {},
   "outputs": [],
   "source": [
    "#柱状图\n",
    "from pyecharts.charts import Bar\n",
    "from pyecharts import options as opts\n",
    "\n",
    "bar = (Bar()\n",
    "       .add_xaxis([\"衬衫\", \"羊毛衫\", \"雪纺衫\", \"裤子\", \"高跟鞋\", \"袜子\"])\n",
    "       .add_yaxis(\"商家A\", [5, 20, 36, 10, 75, 90])\n",
    "       .set_global_opts(title_opts=opts.TitleOpts(\n",
    "                       title=\"商铺存货情况\",subtitle=\"A\\B店纺织品存货情况\"),\n",
    "                       toolbox_opts=opts.ToolboxOpts(), #工具显示\n",
    "                       legend_opts=opts.LegendOpts(is_show=True)))\n",
    "bar.render('file/bar1.html')"
   ]
  },
  {
   "cell_type": "markdown",
   "id": "5bfce0c3",
   "metadata": {},
   "source": [
    "<img src=\"image/Chapter8_10.png\" width=\"600\" height=\"600\" >"
   ]
  },
  {
   "cell_type": "markdown",
   "id": "fd238f56",
   "metadata": {},
   "source": [
    "## 8.3.2 折线图"
   ]
  },
  {
   "cell_type": "code",
   "execution_count": null,
   "id": "d7ccc6cc",
   "metadata": {},
   "outputs": [],
   "source": [
    "from pyecharts.charts import Line\n",
    "from pyecharts import options as opts\n",
    "line = (Line()\n",
    "          .add_xaxis([\"衬衫\", \"羊毛衫\", \"雪纺衫\", \"裤子\", \"高跟鞋\", \"袜子\"])\n",
    "          .add_yaxis(\"店铺A\", [5, 20, 36, 10, 75, 90])\n",
    "          .add_yaxis(\"店铺B\", [15, 6, 45, 20,  35, 66])\n",
    "          .set_global_opts(\n",
    "              title_opts=opts.TitleOpts(\n",
    "                  title=\"商铺存货情况\",\n",
    "                  subtitle=\"A\\B店纺织品存货情况\"),\n",
    "              toolbox_opts=opts.ToolboxOpts(),  #工具显示\n",
    "              legend_opts=opts.LegendOpts(is_show=True)))\n",
    "line.render('file/line.html')"
   ]
  },
  {
   "cell_type": "markdown",
   "id": "17239d49",
   "metadata": {},
   "source": [
    "<img src=\"image/Chapter8_11.png\" width=\"600\" height=\"600\" >"
   ]
  },
  {
   "cell_type": "code",
   "execution_count": null,
   "id": "186f9a9d",
   "metadata": {},
   "outputs": [],
   "source": [
    "from pyecharts. charts import Line\n",
    "from pyecharts import options as opts\n",
    "from pyecharts.globals import ThemeType\n",
    "line = (Line(init_opts=opts.InitOpts(theme=ThemeType. ROMANTIC))\n",
    "          .add_xaxis([\"衬衫\", \"羊毛衫\", \"雪纺衫\", \"裤子\", \"高跟鞋\", \"袜子\"])\n",
    "          .add_yaxis(\"店铺A\", [5, 20, 36, 10, 75, 90])\n",
    "          .add_yaxis(\"店铺B\", [15, 6, 45, 20,  35, 66])\n",
    "          .set_global_opts(title_opts=opts.TitleOpts(\n",
    "                           title=\"商铺存货情况\",subtitle=\"A\\B店纺织品存货情况\"),\n",
    "                           toolbox_opts=opts.ToolboxOpts(),  #工具显示\n",
    "                           legend_opts=opts.LegendOpts(is_show=True)))\n",
    "line.render('file/line0.html')\n",
    "#line.render_notebook( )#在jupyternotebook中显示"
   ]
  },
  {
   "cell_type": "markdown",
   "id": "147ef824",
   "metadata": {},
   "source": [
    "<img src=\"image/Chapter8_12.png\" width=\"600\" height=\"600\" >"
   ]
  },
  {
   "cell_type": "markdown",
   "id": "174aabbd",
   "metadata": {},
   "source": [
    "## 8.3.3 散点图"
   ]
  },
  {
   "cell_type": "code",
   "execution_count": null,
   "id": "3ef9dd12",
   "metadata": {},
   "outputs": [],
   "source": [
    "from pyecharts import options as opts\n",
    "from pyecharts.charts import Scatter\n",
    "\n",
    "x=[\"衬衫\", \"羊毛衫\", \"雪纺衫\", \"裤子\", \"高跟鞋\", \"袜子\"]\n",
    "a=[5, 20, 36, 10, 75, 90]\n",
    "\n",
    "scatter= (Scatter()\n",
    "            .add_xaxis(x)\n",
    "            .add_yaxis(\"商家A\", a)\n",
    "            .set_global_opts(title_opts=opts.TitleOpts(title=\"Scatter-示例\"), \n",
    "                                toolbox_opts=opts.ToolboxOpts(),\n",
    "                                legend_opts=opts.LegendOpts(is_show=True)))\n",
    "scatter.render(\"file/scatter.html\")\n"
   ]
  },
  {
   "cell_type": "markdown",
   "id": "555d7e8a",
   "metadata": {},
   "source": [
    "<img src=\"image/Chapter8_13.png\" width=\"600\" height=\"600\" >"
   ]
  },
  {
   "cell_type": "markdown",
   "id": "29f16e31",
   "metadata": {},
   "source": [
    "## 8.3.4 图表的叠加"
   ]
  },
  {
   "cell_type": "markdown",
   "id": "614c6f9a",
   "metadata": {},
   "source": [
    "有时候需要在一个图表中叠加另一个图表，这就需要用到overlap()函数。\n"
   ]
  },
  {
   "cell_type": "code",
   "execution_count": null,
   "id": "86e663cd",
   "metadata": {},
   "outputs": [],
   "source": [
    "from pyecharts. charts import Line\n",
    "from pyecharts import options as opts\n",
    "from pyecharts.globals import ThemeType\n",
    "from pyecharts.charts import Bar\n",
    "x=[\"衬衫\", \"羊毛衫\", \"雪纺衫\", \"裤子\", \"高跟鞋\", \"袜子\"]\n",
    "a=[5, 20, 36, 10, 75, 90]\n",
    "b=[15, 6, 45, 20,  35, 66]\n",
    "bar = (Bar().add_xaxis(x).add_yaxis(\"商家A\", a))\n",
    "line = (Line(init_opts=opts.InitOpts(theme=ThemeType.SHINE)).add_xaxis(x).add_yaxis(\"店铺B\", b, markline_opts=opts.MarkLineOpts(data=[opts. MarkLineItem(type_=\"average\")])).set_global_opts(title_opts=opts.TitleOpts(title=\"商铺存货情况\",subtitle=\"B店纺织品存货情况\")))\n",
    "bar.overlap(line)\n",
    "bar.render(\"file/bar.html\")"
   ]
  },
  {
   "cell_type": "markdown",
   "id": "ad531ec6",
   "metadata": {},
   "source": [
    "bar和line两个图的叠加，bar.overlap(line)表示line在bar上，即bar作为底层。在显示图的时候，需要从底层开始显示，所以最后用bar.render_notebook()函数来显示图。"
   ]
  },
  {
   "cell_type": "markdown",
   "id": "d6d58755",
   "metadata": {},
   "source": [
    "<img src=\"image/Chapter8_14.png\" width=\"600\" height=\"600\" >"
   ]
  },
  {
   "cell_type": "markdown",
   "id": "0e502e8d",
   "metadata": {},
   "source": [
    "# 8.4 地理坐标系与地图绘制"
   ]
  },
  {
   "cell_type": "markdown",
   "id": "219abe67",
   "metadata": {},
   "source": [
    "Pyecharts的地图功能主要依靠Geo和Map两个类实现。其中Geo实现了一个地理坐标系，地图上的点可以利用经纬度向地图中插入，也可以获取地图上某一点的经纬度，实现地图上的标注功能主要依靠Geo类来实现。而Map功能类似于Geo，但只有地图，没有坐标系，即地图上的点无法与经纬度进行转换。\n"
   ]
  },
  {
   "cell_type": "markdown",
   "id": "629027d2",
   "metadata": {},
   "source": [
    "## 8.4.1 地理坐标系（Geo）"
   ]
  },
  {
   "cell_type": "markdown",
   "id": "43b340d6",
   "metadata": {},
   "source": [
    "Geo在使用时需要调用以下模块。\n",
    "> from pyecharts import options as opts  \n",
    "from pyecharts.charts import Geo  \n",
    "from pyecharts.globals import ChartType, SymbolType  "
   ]
  },
  {
   "cell_type": "markdown",
   "id": "36da3d9f",
   "metadata": {},
   "source": [
    "ChartType是描述在地图上的标注形式，如EFFECT_SCATTER、HEATMAP、LINES等。  \n",
    "地图上显示的数据格式是二元列表，如[['naame1', value1], ['name2', value2],…]。  \n",
    "这里的name可以是省份、城市名称，在地图模型中已经加入了各个省份及城市的坐标点。  \n"
   ]
  },
  {
   "cell_type": "code",
   "execution_count": null,
   "id": "40f30f90",
   "metadata": {},
   "outputs": [],
   "source": [
    "from pyecharts import options as opts\n",
    "from pyecharts.charts import Geo\n",
    "from pyecharts.globals import ChartType, SymbolType\n",
    "ah_data=[['安庆市', 54], ['合肥市', 65], ['六安市', 76], ['马鞍山市', 64],\n",
    "         ['芜湖市', 35], ['池州市', 35], ['蚌埠市', 54], ['淮北市', 34],\n",
    "         ['淮南市', 56], ['黄山市', 87], ['阜阳市', 43], ['滁州市', 65],\n",
    "         ['宣城市', 47], ['亳州市', 45], ['宿州市', 23],['铜陵市', 45],\n",
    "         [\"潜山市\", 51]]   #假设Geo数据源中没有潜山市\n",
    "#链式调用\n",
    "anhui = (Geo()\n",
    "         .add_schema(maptype=\"安徽\")\n",
    "         # 加入自定义的点\n",
    "         .add_coordinate(\"潜山市\", 116.53, 30.62)\n",
    "         #添加数据\n",
    "         .add(\"geo\", ah_data,type_=ChartType.EFFECT_SCATTER)\n",
    "         .set_series_opts(label_opts=opts.LabelOpts(is_show=True))\n",
    "         .set_global_opts(visualmap_opts=opts.VisualMapOpts(is_piecewise=True),\n",
    "                       title_opts=opts.TitleOpts(title=\"加入潜山市\")))\n",
    "#在html(浏览器) 中渲染图表,即保存为html格式\n",
    "anhui.render('file/anhui.html')\n",
    "#在Jupyter Notebook中渲染图表\n",
    "#anhui.render_notebook('anhui.html')\n"
   ]
  },
  {
   "cell_type": "markdown",
   "id": "93ac0e7b",
   "metadata": {},
   "source": [
    "<img src=\"image/Chapter8_15.png\" width=\"600\" height=\"600\" >"
   ]
  },
  {
   "cell_type": "markdown",
   "id": "76f0c017",
   "metadata": {},
   "source": [
    "## 8.4.2 地图（Map）"
   ]
  },
  {
   "cell_type": "markdown",
   "id": "4d71e7a9",
   "metadata": {},
   "source": [
    "通过前面的Geo，我们大概了解了地图标注的操作。Map与Geo差别不大，通过下面的代码，可以看出其操作相对较简单。"
   ]
  },
  {
   "cell_type": "code",
   "execution_count": null,
   "id": "1eb28010",
   "metadata": {},
   "outputs": [],
   "source": [
    "from pyecharts import options as opts\n",
    "from pyecharts.charts import Map\n",
    "\n",
    "#数据准备\n",
    "provinces = [\"广东\", \"北京\", \"上海\", \"新疆\",\"安徽\",\"山西\", \"湖南\", \"浙江\", \"江苏\"]\n",
    "pro_value = [54, 87, 56, 34,98,65,45, 56, 78, 50]\n",
    "pr_data = [list(z) for z in zip(provinces,pro_value)]\n",
    "\n",
    "map = (\n",
    "         Map()\n",
    "         .add(\"商家A\", pr_data, \"china\")\n",
    "         .set_global_opts(title_opts=opts.TitleOpts(title=\"Map-基本示例\"))\n",
    "       )\n",
    "map.render('file/map.html')\n",
    "#map.render_notebook()\n"
   ]
  },
  {
   "cell_type": "markdown",
   "id": "1ef52179",
   "metadata": {},
   "source": [
    "<img src=\"image/Chapter8_16.png\" width=\"600\" height=\"600\" >"
   ]
  },
  {
   "cell_type": "markdown",
   "id": "f02b3313",
   "metadata": {},
   "source": [
    "上面的代码基本与Geo相同，仅将add_schema项的地图显示范围参数移到了add项中。参数可选world、china及省市。\n",
    "以上数据在地图显示中不明显，相关的省份没有颜色显示，可以增加省份颜色显示。"
   ]
  },
  {
   "cell_type": "code",
   "execution_count": null,
   "id": "9d215218",
   "metadata": {},
   "outputs": [],
   "source": [
    "map_v = (\n",
    "         Map()\n",
    "         .add(\"商家A\", pr_data, \"china\")\n",
    "         .set_global_opts(\n",
    "             title_opts=opts.TitleOpts(title=\"Map-VisualMap（分段型）\"),\n",
    "             visualmap_opts=opts.VisualMapOpts(max_=200, is_piecewise=True),\n",
    "         )\n",
    "    )\n",
    "map_v.render('file/map1.html')\n",
    "map_v.render_notebook()\n"
   ]
  },
  {
   "cell_type": "markdown",
   "id": "d73190fa",
   "metadata": {},
   "source": [
    "上述代码中的visualmap_opts项默认是连续型，也可选择分段型is_piecewise=True。  \n",
    "我们对数据进行改造，并按省份地图显示，代码如下，如图所示。  "
   ]
  },
  {
   "cell_type": "code",
   "execution_count": null,
   "id": "ede46916",
   "metadata": {},
   "outputs": [],
   "source": [
    "ah_data=[['安庆市', 54], ['合肥市', 65], ['六安市', 76], ['马鞍山市', 64],['芜湖市', 35], ['池州市', 35], ['蚌埠市', 54], ['淮北市', 34],['淮南市', 56], ['黄山市', 87], ['阜阳市', 43], ['滁州市', 65],['宣城市', 47], ['亳州市', 45], ['宿州市', 23],['铜陵市', 45],\n",
    "           [\"潜山市\", 51]]   #假设Geo数据源中没有潜山市\n",
    "map_v = (Map()\n",
    "          .add(\"商家A\", ah_data, \"安徽\")\n",
    "          .set_global_opts(title_opts=opts.TitleOpts(title=\"Map-VisualMap（省份）\"),\n",
    "               visualmap_opts=opts.VisualMapOpts(max_=200, is_piecewise=True),)\n",
    "        )\n",
    "map_v.render('file/map2.html')\n",
    "map_v.render_notebook()\n"
   ]
  },
  {
   "cell_type": "markdown",
   "id": "f610b854",
   "metadata": {},
   "source": [
    "# 8.5 3D图形"
   ]
  },
  {
   "cell_type": "markdown",
   "id": "ed3c0eb8",
   "metadata": {},
   "source": [
    "3D图形的输入数据是三维的列表，如[x, y, z]。  \n",
    "Axis3DOpts坐标轴类型可选如下4种。  \n",
    "（1）value：数值轴，适用于连续数据。  \n",
    "（2）category：类目轴，适用于离散的类目数据，为该类型时必须通过data设置类目数据。   \n",
    "（3）time：时间轴，适用于连续的时序数据，与数值轴相比时间轴带有时间的格式化，在刻度计算上也有所不同。例如，会根据跨度的范围来决定使用月、星期、日，还是小时范围的刻度。  \n",
    "（4）log：对数轴，适用于对数数据。  \n",
    "Grid3DOpts坐标系组件在三维场景中的宽度、高度、深度分别是：width、height、depth。  \n"
   ]
  },
  {
   "cell_type": "code",
   "execution_count": null,
   "id": "4c68070e",
   "metadata": {},
   "outputs": [],
   "source": [
    "import math\n",
    "from pyecharts import options as opts\n",
    "from pyecharts.charts import Surface3D\n",
    "def surface3d_data():\n",
    "     ''' 造数据'''\n",
    "     for t0 in range(-60, 60, 1):\n",
    "          y = t0 / 60\n",
    "          for t1 in range(-60, 60, 1):\n",
    "               x = t1 / 60\n",
    "               if math.fabs(x) < 0.1 and math.fabs(y) < 0.1:\n",
    "                   z = \"-\"\n",
    "               else:\n",
    "                   z = math.sin(x * math.pi) * math.sin(y * math.pi)\n",
    "               yield [x, y, z]\n",
    "surf3d = (Surface3D()\n",
    "        .add(\"\",\n",
    "             list(surface3d_data()),\n",
    "             xaxis3d_opts=opts.Axis3DOpts(type_=\"value\"),\n",
    "             yaxis3d_opts=opts.Axis3DOpts(type_=\"value\"),\n",
    "             grid3d_opts=opts.Grid3DOpts(width=100, height=100, depth=100))\n",
    "        .set_global_opts(\n",
    "             title_opts=opts.TitleOpts(title=\"Surface3D-基本示例\"),\n",
    "             visualmap_opts=opts.VisualMapOpts( max_=3, min_=-3)))\n",
    "    \n",
    "surf3d.render('file/test_cucn.html')\n",
    "surf3d.render_notebook()\n"
   ]
  },
  {
   "cell_type": "code",
   "execution_count": null,
   "id": "87f22558",
   "metadata": {},
   "outputs": [],
   "source": []
  }
 ],
 "metadata": {
  "kernelspec": {
   "display_name": "Python 3 (ipykernel)",
   "language": "python",
   "name": "python3"
  },
  "language_info": {
   "codemirror_mode": {
    "name": "ipython",
    "version": 3
   },
   "file_extension": ".py",
   "mimetype": "text/x-python",
   "name": "python",
   "nbconvert_exporter": "python",
   "pygments_lexer": "ipython3",
   "version": "3.11.5"
  }
 },
 "nbformat": 4,
 "nbformat_minor": 5
}
